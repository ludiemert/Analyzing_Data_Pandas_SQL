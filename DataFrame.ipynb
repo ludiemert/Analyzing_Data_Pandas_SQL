{
 "cells": [
  {
   "cell_type": "code",
   "execution_count": 9,
   "id": "9ae34950-0e9f-4e1f-b9d1-398475c02543",
   "metadata": {},
   "outputs": [],
   "source": [
    "# DataFrames => sao as tabelas, sao composicoes de SERIES(COLUNAS)\n",
    "import pandas as pd\n",
    "from numpy.random import randn # random => funcao que gera numeros aleatorios"
   ]
  },
  {
   "cell_type": "code",
   "execution_count": 10,
   "id": "925231a3-0134-4b12-9503-77487216911e",
   "metadata": {},
   "outputs": [],
   "source": [
    "df = pd.DataFrame(randn(5, 4), index=[\"A\", \"B\", \"C\", \"D\", \"E\"], columns=\"W X Y Z\".split()) # dp => method cria o DataFrame. vai gerar uma tabela de 5, 4 5linhas por 4 colunas.                   "
   ]
  },
  {
   "cell_type": "code",
   "execution_count": 11,
   "id": "0cf96e99-ae20-489f-ba56-225def49fec4",
   "metadata": {},
   "outputs": [
    {
     "data": {
      "text/html": [
       "<div>\n",
       "<style scoped>\n",
       "    .dataframe tbody tr th:only-of-type {\n",
       "        vertical-align: middle;\n",
       "    }\n",
       "\n",
       "    .dataframe tbody tr th {\n",
       "        vertical-align: top;\n",
       "    }\n",
       "\n",
       "    .dataframe thead th {\n",
       "        text-align: right;\n",
       "    }\n",
       "</style>\n",
       "<table border=\"1\" class=\"dataframe\">\n",
       "  <thead>\n",
       "    <tr style=\"text-align: right;\">\n",
       "      <th></th>\n",
       "      <th>W</th>\n",
       "      <th>X</th>\n",
       "      <th>Y</th>\n",
       "      <th>Z</th>\n",
       "    </tr>\n",
       "  </thead>\n",
       "  <tbody>\n",
       "    <tr>\n",
       "      <th>A</th>\n",
       "      <td>-1.020020</td>\n",
       "      <td>-0.188938</td>\n",
       "      <td>0.484974</td>\n",
       "      <td>1.699425</td>\n",
       "    </tr>\n",
       "    <tr>\n",
       "      <th>B</th>\n",
       "      <td>-1.700820</td>\n",
       "      <td>-1.365776</td>\n",
       "      <td>0.557644</td>\n",
       "      <td>0.402300</td>\n",
       "    </tr>\n",
       "    <tr>\n",
       "      <th>C</th>\n",
       "      <td>-0.555771</td>\n",
       "      <td>-1.481982</td>\n",
       "      <td>0.319883</td>\n",
       "      <td>0.428695</td>\n",
       "    </tr>\n",
       "    <tr>\n",
       "      <th>D</th>\n",
       "      <td>2.236007</td>\n",
       "      <td>1.088086</td>\n",
       "      <td>0.021282</td>\n",
       "      <td>0.335742</td>\n",
       "    </tr>\n",
       "    <tr>\n",
       "      <th>E</th>\n",
       "      <td>0.118831</td>\n",
       "      <td>-1.440776</td>\n",
       "      <td>-0.899453</td>\n",
       "      <td>0.583541</td>\n",
       "    </tr>\n",
       "  </tbody>\n",
       "</table>\n",
       "</div>"
      ],
      "text/plain": [
       "          W         X         Y         Z\n",
       "A -1.020020 -0.188938  0.484974  1.699425\n",
       "B -1.700820 -1.365776  0.557644  0.402300\n",
       "C -0.555771 -1.481982  0.319883  0.428695\n",
       "D  2.236007  1.088086  0.021282  0.335742\n",
       "E  0.118831 -1.440776 -0.899453  0.583541"
      ]
     },
     "execution_count": 11,
     "metadata": {},
     "output_type": "execute_result"
    }
   ],
   "source": [
    "# executa e veja o DataFrame\n",
    "df"
   ]
  },
  {
   "cell_type": "code",
   "execution_count": 12,
   "id": "38d21db2-0a35-43e1-8e00-8885b159eab6",
   "metadata": {},
   "outputs": [
    {
     "data": {
      "text/plain": [
       "pandas.core.frame.DataFrame"
      ]
     },
     "execution_count": 12,
     "metadata": {},
     "output_type": "execute_result"
    }
   ],
   "source": [
    "# tipo de dados => frame.DataFrame\n",
    "type(df)"
   ]
  },
  {
   "cell_type": "code",
   "execution_count": 13,
   "id": "7f097f4f-38b5-4efb-a8fc-d2457b9b56e0",
   "metadata": {},
   "outputs": [
    {
     "data": {
      "text/plain": [
       "A   -1.020020\n",
       "B   -1.700820\n",
       "C   -0.555771\n",
       "D    2.236007\n",
       "E    0.118831\n",
       "Name: W, dtype: float64"
      ]
     },
     "execution_count": 13,
     "metadata": {},
     "output_type": "execute_result"
    }
   ],
   "source": [
    "# com frame ao usar [] eu tenho que especificar a coluna\n",
    "df['W'] # retornando uma Series (coluna)"
   ]
  },
  {
   "cell_type": "code",
   "execution_count": 15,
   "id": "8c99d053-3d57-4066-8341-16534af1f1e4",
   "metadata": {},
   "outputs": [
    {
     "data": {
      "text/plain": [
       "pandas.core.series.Series"
      ]
     },
     "execution_count": 15,
     "metadata": {},
     "output_type": "execute_result"
    }
   ],
   "source": [
    "# comando para retornar a Series (coluna) => retorno => pandas.core.series.Series\n",
    "type(df['W'])"
   ]
  },
  {
   "cell_type": "code",
   "execution_count": null,
   "id": "5cfaeec5-5221-40d6-a307-29855fbb32a3",
   "metadata": {},
   "outputs": [],
   "source": []
  }
 ],
 "metadata": {
  "kernelspec": {
   "display_name": "Python 3 (ipykernel)",
   "language": "python",
   "name": "python3"
  },
  "language_info": {
   "codemirror_mode": {
    "name": "ipython",
    "version": 3
   },
   "file_extension": ".py",
   "mimetype": "text/x-python",
   "name": "python",
   "nbconvert_exporter": "python",
   "pygments_lexer": "ipython3",
   "version": "3.13.0"
  }
 },
 "nbformat": 4,
 "nbformat_minor": 5
}
