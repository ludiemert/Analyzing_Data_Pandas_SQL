{
 "cells": [
  {
   "cell_type": "code",
   "execution_count": 33,
   "id": "fb0ac0f1-a268-4279-9b7c-e66c61ceee95",
   "metadata": {},
   "outputs": [],
   "source": [
    "# Trab series => e elementos padrao do PY => variaveis, lista, dicionario\n",
    "\n",
    "import pandas as pd\n",
    "import numpy as np # numpy array\n"
   ]
  },
  {
   "cell_type": "code",
   "execution_count": 8,
   "id": "37a4cd76-db1f-4515-a6ef-62a79a2ac195",
   "metadata": {},
   "outputs": [],
   "source": [
    "# criando variaveis e um dicionario, criando elementos\n",
    "labels = ['a', 'b', 'c']\n",
    "\n",
    "minha_lista = [10,20,30]\n",
    "\n",
    "arr = np.array([10,20,30])\n",
    "\n",
    "d = {'a':10, 'b':20,'c':30}"
   ]
  },
  {
   "cell_type": "code",
   "execution_count": 9,
   "id": "ef976b42-9379-47c3-99a1-6c991e7a473d",
   "metadata": {},
   "outputs": [
    {
     "data": {
      "text/plain": [
       "0    a\n",
       "1    b\n",
       "2    c\n",
       "dtype: object"
      ]
     },
     "execution_count": 9,
     "metadata": {},
     "output_type": "execute_result"
    }
   ],
   "source": [
    "# criar os elementos dentro do Pandas\n",
    "# 1 - usando listas\n",
    "# instanciar a Series\n",
    "pd.Series(labels) # vai criar indices de 0 a 2 (0,1,2 na linha)"
   ]
  },
  {
   "cell_type": "code",
   "execution_count": 11,
   "id": "fe19ac56-52ed-46f1-964c-534ebfe364a9",
   "metadata": {},
   "outputs": [
    {
     "data": {
      "text/plain": [
       "10    a\n",
       "20    b\n",
       "30    c\n",
       "dtype: object"
      ]
     },
     "execution_count": 11,
     "metadata": {},
     "output_type": "execute_result"
    }
   ],
   "source": [
    "# eu vou dizer qual indice eu quero (mudar de 0,1,2 para o numero que eu quero)\n",
    "pd.Series(data=labels, index=minha_lista) # Valor de resposta 10 a, 20 b, 30 c\n",
    "# no indice posso colocar qualquer coisa strings,numeros. Sempre a Series pede data e index sao as primeiras inf que ele pede\n"
   ]
  },
  {
   "cell_type": "code",
   "execution_count": 12,
   "id": "a22dc705-6683-46c4-84d1-02b231df0ea8",
   "metadata": {},
   "outputs": [
    {
     "data": {
      "text/plain": [
       "10    a\n",
       "20    b\n",
       "30    c\n",
       "dtype: object"
      ]
     },
     "execution_count": 12,
     "metadata": {},
     "output_type": "execute_result"
    }
   ],
   "source": [
    "# exemp do mesmo codigo \n",
    "pd.Series(labels, minha_lista)"
   ]
  },
  {
   "cell_type": "code",
   "execution_count": 13,
   "id": "e698d75b-151f-47cb-8d7b-fccf0322cf66",
   "metadata": {},
   "outputs": [
    {
     "data": {
      "text/plain": [
       "a    10\n",
       "b    20\n",
       "c    30\n",
       "dtype: int64"
      ]
     },
     "execution_count": 13,
     "metadata": {},
     "output_type": "execute_result"
    }
   ],
   "source": [
    "# criando outra Series com outras informacoes do dicionario\n",
    "# outro dicionario com os dados, => {'a': 10, 'b': 20, 'c': 30}\n",
    "pd.Series(d) # Qdo passa o dicionario a Series ja entende"
   ]
  },
  {
   "cell_type": "code",
   "execution_count": 14,
   "id": "8a790317-c404-47e8-8e77-314aa40c422e",
   "metadata": {},
   "outputs": [
    {
     "data": {
      "text/plain": [
       "{'a': 10, 'b': 20, 'c': 30}"
      ]
     },
     "execution_count": 14,
     "metadata": {},
     "output_type": "execute_result"
    }
   ],
   "source": [
    "d # o pandas conversa muito bem com dicionarios, ele ja encaixa os indices e valores (colunas e linhas)\n"
   ]
  },
  {
   "cell_type": "code",
   "execution_count": 26,
   "id": "22ab4606-3782-4551-8ade-6f12ced6a5c2",
   "metadata": {},
   "outputs": [],
   "source": [
    "# criando uma Series ser1\n",
    "ser1 = pd.Series([1,2,3,4],index=[\"EUA\", \"Alemanha\", \"USSR\", \"Japao\"]) # passei lista e indices"
   ]
  },
  {
   "cell_type": "code",
   "execution_count": 27,
   "id": "1ed37d20-536a-45c1-b9bb-4074a29caafc",
   "metadata": {},
   "outputs": [
    {
     "data": {
      "text/plain": [
       "EUA         1\n",
       "Alemanha    2\n",
       "USSR        3\n",
       "Japao       4\n",
       "dtype: int64"
      ]
     },
     "execution_count": 27,
     "metadata": {},
     "output_type": "execute_result"
    }
   ],
   "source": [
    "ser1 # chama a variavel"
   ]
  },
  {
   "cell_type": "code",
   "execution_count": 38,
   "id": "9c7f3499-7d04-40c4-b7c2-4a83f9e1b60a",
   "metadata": {},
   "outputs": [
    {
     "data": {
      "text/plain": [
       "EUA         1\n",
       "Alemanha    2\n",
       "Italia      5\n",
       "Japao       4\n",
       "dtype: int64"
      ]
     },
     "execution_count": 38,
     "metadata": {},
     "output_type": "execute_result"
    }
   ],
   "source": [
    "# criando uma Series ser2\n",
    "ser2 = pd.Series([1,2,5,4],index=[\"EUA\", \"Alemanha\", \"Italia\", \"Japao\"]) # passei lista e indices\n",
    "ser2"
   ]
  },
  {
   "cell_type": "code",
   "execution_count": 35,
   "id": "1ac42334-9c0e-45cd-8795-ff5d28920e8c",
   "metadata": {},
   "outputs": [
    {
     "data": {
      "text/plain": [
       "np.int64(1)"
      ]
     },
     "execution_count": 35,
     "metadata": {},
     "output_type": "execute_result"
    }
   ],
   "source": [
    "# consultar o index da Series\n",
    "ser2['EUA']"
   ]
  },
  {
   "cell_type": "code",
   "execution_count": 36,
   "id": "95349f06-f6ca-4579-9ee7-ddeca9990ed1",
   "metadata": {},
   "outputs": [
    {
     "data": {
      "text/plain": [
       "np.int64(3)"
      ]
     },
     "execution_count": 36,
     "metadata": {},
     "output_type": "execute_result"
    }
   ],
   "source": [
    "ser1[\"USSR\"] # selecao de valor eh representada assim ['EUA']"
   ]
  },
  {
   "cell_type": "code",
   "execution_count": 40,
   "id": "cc4fd5c3-7484-4958-a369-38376eeb02bf",
   "metadata": {},
   "outputs": [
    {
     "data": {
      "text/plain": [
       "Italia      5\n",
       "Alemanha    2\n",
       "dtype: int64"
      ]
     },
     "execution_count": 40,
     "metadata": {},
     "output_type": "execute_result"
    }
   ],
   "source": [
    "ser2[[\"Italia\", \"Alemanha\"]] # passando uma linsta de strings, retorna a lista \n",
    "# string => selecao de 1 indice \n",
    "# uma lista quando quero fazer multiplos indices"
   ]
  },
  {
   "cell_type": "code",
   "execution_count": 41,
   "id": "fcdcd02b-3124-4256-9f2c-d13395482298",
   "metadata": {},
   "outputs": [
    {
     "data": {
      "text/plain": [
       "Alemanha    4.0\n",
       "EUA         2.0\n",
       "Italia      NaN\n",
       "Japao       8.0\n",
       "USSR        NaN\n",
       "dtype: float64"
      ]
     },
     "execution_count": 41,
     "metadata": {},
     "output_type": "execute_result"
    }
   ],
   "source": [
    "# operacao artimetica entre duas SERIES\n",
    "# ele faz a operacao olhando indice por indice\n",
    "# NaN => nao encontrou fica indefinido\n",
    "ser1 + ser2"
   ]
  },
  {
   "cell_type": "code",
   "execution_count": null,
   "id": "09c8317b-162a-4bec-8fbf-b593398145c2",
   "metadata": {},
   "outputs": [],
   "source": [
    "# operacoes dentro do PY sao orientados por indices"
   ]
  }
 ],
 "metadata": {
  "kernelspec": {
   "display_name": "Python 3 (ipykernel)",
   "language": "python",
   "name": "python3"
  },
  "language_info": {
   "codemirror_mode": {
    "name": "ipython",
    "version": 3
   },
   "file_extension": ".py",
   "mimetype": "text/x-python",
   "name": "python",
   "nbconvert_exporter": "python",
   "pygments_lexer": "ipython3",
   "version": "3.13.0"
  }
 },
 "nbformat": 4,
 "nbformat_minor": 5
}
