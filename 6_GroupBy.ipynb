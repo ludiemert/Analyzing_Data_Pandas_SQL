{
 "cells": [
  {
   "cell_type": "code",
   "execution_count": null,
   "id": "c1f203e9-97da-444e-8144-847d5081114b",
   "metadata": {},
   "outputs": [],
   "source": [
    "# GROUP_BY\n",
    "# agrupar funcoes => vem do SQL\n"
   ]
  },
  {
   "cell_type": "code",
   "execution_count": 8,
   "id": "80944a17-9c7f-4169-ad94-18d2136b58a3",
   "metadata": {},
   "outputs": [],
   "source": [
    "import pandas as pd\n",
    "# Cria um DataFrame\n",
    "data = {'Classe':['Júnior','Júnior','Pleno','Pleno','Sênior','Sênior'],\n",
    "       'Nome':['Jorge','Carlos','Roberta','Patrícia','Bruno','Vera'],\n",
    "       'Venda':[200,120,340,124,243,350]}"
   ]
  },
  {
   "cell_type": "code",
   "execution_count": 9,
   "id": "d8c1caa3-018c-4fcd-9653-77dfe59710bd",
   "metadata": {},
   "outputs": [
    {
     "data": {
      "text/plain": [
       "{'Classe': ['Júnior', 'Júnior', 'Pleno', 'Pleno', 'Sênior', 'Sênior'],\n",
       " 'Nome': ['Jorge', 'Carlos', 'Roberta', 'Patrícia', 'Bruno', 'Vera'],\n",
       " 'Venda': [200, 120, 340, 124, 243, 350]}"
      ]
     },
     "execution_count": 9,
     "metadata": {},
     "output_type": "execute_result"
    }
   ],
   "source": [
    "data"
   ]
  },
  {
   "cell_type": "code",
   "execution_count": 10,
   "id": "67701a94-8ee6-48ba-a7c0-9afbf55a3efc",
   "metadata": {},
   "outputs": [],
   "source": [
    "# cria o DataFrame\n",
    "df = pd.DataFrame(data)"
   ]
  },
  {
   "cell_type": "code",
   "execution_count": 11,
   "id": "563c7edc-a58f-4af4-9674-3efca60afcf4",
   "metadata": {},
   "outputs": [
    {
     "data": {
      "text/html": [
       "<div>\n",
       "<style scoped>\n",
       "    .dataframe tbody tr th:only-of-type {\n",
       "        vertical-align: middle;\n",
       "    }\n",
       "\n",
       "    .dataframe tbody tr th {\n",
       "        vertical-align: top;\n",
       "    }\n",
       "\n",
       "    .dataframe thead th {\n",
       "        text-align: right;\n",
       "    }\n",
       "</style>\n",
       "<table border=\"1\" class=\"dataframe\">\n",
       "  <thead>\n",
       "    <tr style=\"text-align: right;\">\n",
       "      <th></th>\n",
       "      <th>Classe</th>\n",
       "      <th>Nome</th>\n",
       "      <th>Venda</th>\n",
       "    </tr>\n",
       "  </thead>\n",
       "  <tbody>\n",
       "    <tr>\n",
       "      <th>0</th>\n",
       "      <td>Júnior</td>\n",
       "      <td>Jorge</td>\n",
       "      <td>200</td>\n",
       "    </tr>\n",
       "    <tr>\n",
       "      <th>1</th>\n",
       "      <td>Júnior</td>\n",
       "      <td>Carlos</td>\n",
       "      <td>120</td>\n",
       "    </tr>\n",
       "    <tr>\n",
       "      <th>2</th>\n",
       "      <td>Pleno</td>\n",
       "      <td>Roberta</td>\n",
       "      <td>340</td>\n",
       "    </tr>\n",
       "    <tr>\n",
       "      <th>3</th>\n",
       "      <td>Pleno</td>\n",
       "      <td>Patrícia</td>\n",
       "      <td>124</td>\n",
       "    </tr>\n",
       "    <tr>\n",
       "      <th>4</th>\n",
       "      <td>Sênior</td>\n",
       "      <td>Bruno</td>\n",
       "      <td>243</td>\n",
       "    </tr>\n",
       "    <tr>\n",
       "      <th>5</th>\n",
       "      <td>Sênior</td>\n",
       "      <td>Vera</td>\n",
       "      <td>350</td>\n",
       "    </tr>\n",
       "  </tbody>\n",
       "</table>\n",
       "</div>"
      ],
      "text/plain": [
       "   Classe      Nome  Venda\n",
       "0  Júnior     Jorge    200\n",
       "1  Júnior    Carlos    120\n",
       "2   Pleno   Roberta    340\n",
       "3   Pleno  Patrícia    124\n",
       "4  Sênior     Bruno    243\n",
       "5  Sênior      Vera    350"
      ]
     },
     "execution_count": 11,
     "metadata": {},
     "output_type": "execute_result"
    }
   ],
   "source": [
    "df"
   ]
  },
  {
   "cell_type": "code",
   "execution_count": null,
   "id": "edb989cd-a469-46d9-afc2-98ade0390262",
   "metadata": {},
   "outputs": [],
   "source": [
    "# usamos sempre que alguma condicao for verificada"
   ]
  },
  {
   "cell_type": "code",
   "execution_count": 25,
   "id": "9fb8d5bc-b40e-49b7-b3cf-0f338add7ece",
   "metadata": {},
   "outputs": [
    {
     "data": {
      "text/plain": [
       "<pandas.core.groupby.generic.DataFrameGroupBy object at 0x000002472C2E7890>"
      ]
     },
     "execution_count": 25,
     "metadata": {},
     "output_type": "execute_result"
    }
   ],
   "source": [
    "# media de venda de cada um dos vendedores\n",
    "#df.groupby(\"Classe\") # pd faca agrupamento da coluna Classe\n"
   ]
  },
  {
   "cell_type": "code",
   "execution_count": 38,
   "id": "a17dde47-8f1e-4315-a9d6-6d6a91df1802",
   "metadata": {},
   "outputs": [
    {
     "name": "stdout",
     "output_type": "stream",
     "text": [
      "Classe\n",
      "Júnior    320\n",
      "Pleno     464\n",
      "Sênior    593\n",
      "Name: Venda, dtype: int64\n"
     ]
    }
   ],
   "source": [
    "# groupby ele agrupa e depois ele vai expandir\n",
    "# criando uma variavel para somar a coluna de vendas agrupada da coluna Classe\n",
    "#group = df.groupby(\"Classe\")\n",
    "group = df.groupby(\"Classe\")[\"Venda\"].sum()\n",
    "print(group)"
   ]
  },
  {
   "cell_type": "code",
   "execution_count": 39,
   "id": "de70656b-87df-4420-b2bc-c6fe0ae3dc08",
   "metadata": {},
   "outputs": [
    {
     "data": {
      "text/plain": [
       "Classe\n",
       "Júnior    320\n",
       "Pleno     464\n",
       "Sênior    593\n",
       "Name: Venda, dtype: int64"
      ]
     },
     "execution_count": 39,
     "metadata": {},
     "output_type": "execute_result"
    }
   ],
   "source": [
    "group"
   ]
  },
  {
   "cell_type": "code",
   "execution_count": 40,
   "id": "7ceba0a3-1599-445b-83db-a33793d59960",
   "metadata": {},
   "outputs": [
    {
     "data": {
      "text/plain": [
       "np.int64(1377)"
      ]
     },
     "execution_count": 40,
     "metadata": {},
     "output_type": "execute_result"
    }
   ],
   "source": [
    "group.sum()"
   ]
  },
  {
   "cell_type": "code",
   "execution_count": 41,
   "id": "606bc292-4fb8-4428-8fd5-adfa61ec6030",
   "metadata": {},
   "outputs": [
    {
     "data": {
      "text/plain": [
       "np.float64(459.0)"
      ]
     },
     "execution_count": 41,
     "metadata": {},
     "output_type": "execute_result"
    }
   ],
   "source": [
    "group.mean()"
   ]
  },
  {
   "cell_type": "code",
   "execution_count": 42,
   "id": "3dbe0b52-3a86-4f00-9b32-15d0473bea26",
   "metadata": {},
   "outputs": [
    {
     "name": "stdout",
     "output_type": "stream",
     "text": [
      "Classe\n",
      "Júnior    160.0\n",
      "Pleno     232.0\n",
      "Sênior    296.5\n",
      "Name: Venda, dtype: float64\n"
     ]
    }
   ],
   "source": [
    "group = df.groupby(\"Classe\")[\"Venda\"].mean()\n",
    "print(group)"
   ]
  },
  {
   "cell_type": "code",
   "execution_count": null,
   "id": "464f9c3e-4063-41e8-be97-fa6ea0d95c05",
   "metadata": {},
   "outputs": [],
   "source": []
  }
 ],
 "metadata": {
  "kernelspec": {
   "display_name": "Python 3 (ipykernel)",
   "language": "python",
   "name": "python3"
  },
  "language_info": {
   "codemirror_mode": {
    "name": "ipython",
    "version": 3
   },
   "file_extension": ".py",
   "mimetype": "text/x-python",
   "name": "python",
   "nbconvert_exporter": "python",
   "pygments_lexer": "ipython3",
   "version": "3.13.0"
  }
 },
 "nbformat": 4,
 "nbformat_minor": 5
}
