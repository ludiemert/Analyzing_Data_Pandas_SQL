{
 "cells": [
  {
   "cell_type": "code",
   "execution_count": null,
   "id": "26559954-bb42-410f-b4bf-92d8b18d79ed",
   "metadata": {},
   "outputs": [],
   "source": [
    "# New_Method => Merge => Concat => Join"
   ]
  }
 ],
 "metadata": {
  "kernelspec": {
   "display_name": "Python 3 (ipykernel)",
   "language": "python",
   "name": "python3"
  },
  "language_info": {
   "codemirror_mode": {
    "name": "ipython",
    "version": 3
   },
   "file_extension": ".py",
   "mimetype": "text/x-python",
   "name": "python",
   "nbconvert_exporter": "python",
   "pygments_lexer": "ipython3",
   "version": "3.13.0"
  }
 },
 "nbformat": 4,
 "nbformat_minor": 5
}
