{
 "cells": [
  {
   "cell_type": "code",
   "execution_count": null,
   "id": "24e822ed-43d5-46bb-9eb5-5692a12a5b2e",
   "metadata": {},
   "outputs": [],
   "source": [
    "# Projeto final\n",
    "\n",
    "#Bem vindo ao projeto final do curso/módulo de Pandas.\n",
    "#Neste projeto, você deve responder a um conjunto de perguntas feitas a dois conjuntos de dados:\n",
    "\n",
    "#1. [Obesity among adults by country, 1975-2016](https://www.kaggle.com/amanarora/obesity-among-adults-by-country-19752016/)\n",
    "#2. [GDP Per Person (1901-2011)](https://www.kaggle.com/divyansh22/gdp-per-person-19012011?select=GDP.csv)\n",
    "\n",
    "# Tais conjuntos de dados são públicos foram publicados no Kaggle. Mais instruções sobre cada um deles podem ser \n",
    "#encontrados nos links acima. Você também os encontrará na pasta `Datasets`, dentro de nossas apostilas.\n",
    "\n",
    "## Perguntas - Obesity among adults by country, 1975-2016    "
   ]
  },
  {
   "cell_type": "code",
   "execution_count": 3,
   "id": "086b6db3-887c-426e-aabc-81ab766ed9c6",
   "metadata": {},
   "outputs": [],
   "source": [
    "import pandas as pd\n",
    "import numpy as np"
   ]
  },
  {
   "cell_type": "code",
   "execution_count": 7,
   "id": "ec7f3c62-d225-4367-aae5-b768ed0b336b",
   "metadata": {},
   "outputs": [
    {
     "data": {
      "text/html": [
       "<div>\n",
       "<style scoped>\n",
       "    .dataframe tbody tr th:only-of-type {\n",
       "        vertical-align: middle;\n",
       "    }\n",
       "\n",
       "    .dataframe tbody tr th {\n",
       "        vertical-align: top;\n",
       "    }\n",
       "\n",
       "    .dataframe thead th {\n",
       "        text-align: right;\n",
       "    }\n",
       "</style>\n",
       "<table border=\"1\" class=\"dataframe\">\n",
       "  <thead>\n",
       "    <tr style=\"text-align: right;\">\n",
       "      <th></th>\n",
       "      <th>Unnamed: 0</th>\n",
       "      <th>Country</th>\n",
       "      <th>Year</th>\n",
       "      <th>Obesity (%)</th>\n",
       "      <th>Sex</th>\n",
       "    </tr>\n",
       "  </thead>\n",
       "  <tbody>\n",
       "    <tr>\n",
       "      <th>0</th>\n",
       "      <td>0</td>\n",
       "      <td>Afghanistan</td>\n",
       "      <td>1975</td>\n",
       "      <td>0.5 [0.2-1.1]</td>\n",
       "      <td>Both sexes</td>\n",
       "    </tr>\n",
       "    <tr>\n",
       "      <th>1</th>\n",
       "      <td>1</td>\n",
       "      <td>Afghanistan</td>\n",
       "      <td>1975</td>\n",
       "      <td>0.2 [0.0-0.6]</td>\n",
       "      <td>Male</td>\n",
       "    </tr>\n",
       "    <tr>\n",
       "      <th>2</th>\n",
       "      <td>2</td>\n",
       "      <td>Afghanistan</td>\n",
       "      <td>1975</td>\n",
       "      <td>0.8 [0.2-2.0]</td>\n",
       "      <td>Female</td>\n",
       "    </tr>\n",
       "    <tr>\n",
       "      <th>3</th>\n",
       "      <td>3</td>\n",
       "      <td>Afghanistan</td>\n",
       "      <td>1976</td>\n",
       "      <td>0.5 [0.2-1.1]</td>\n",
       "      <td>Both sexes</td>\n",
       "    </tr>\n",
       "    <tr>\n",
       "      <th>4</th>\n",
       "      <td>4</td>\n",
       "      <td>Afghanistan</td>\n",
       "      <td>1976</td>\n",
       "      <td>0.2 [0.0-0.7]</td>\n",
       "      <td>Male</td>\n",
       "    </tr>\n",
       "  </tbody>\n",
       "</table>\n",
       "</div>"
      ],
      "text/plain": [
       "   Unnamed: 0      Country  Year    Obesity (%)         Sex\n",
       "0           0  Afghanistan  1975  0.5 [0.2-1.1]  Both sexes\n",
       "1           1  Afghanistan  1975  0.2 [0.0-0.6]        Male\n",
       "2           2  Afghanistan  1975  0.8 [0.2-2.0]      Female\n",
       "3           3  Afghanistan  1976  0.5 [0.2-1.1]  Both sexes\n",
       "4           4  Afghanistan  1976  0.2 [0.0-0.7]        Male"
      ]
     },
     "execution_count": 7,
     "metadata": {},
     "output_type": "execute_result"
    }
   ],
   "source": [
    "# ler o arquivo\n",
    "df_obesity = pd.read_csv(\"Datasets/obesity_cleaned.csv\")\n",
    "df_obesity.head()"
   ]
  },
  {
   "cell_type": "code",
   "execution_count": 10,
   "id": "c208cabe-65d3-4264-97f2-839fd7aade91",
   "metadata": {},
   "outputs": [
    {
     "data": {
      "text/plain": [
       "'0.5 [0.2-1.1]'"
      ]
     },
     "execution_count": 10,
     "metadata": {},
     "output_type": "execute_result"
    }
   ],
   "source": [
    "# - Limpe os dados do DataFrame, criando uma coluna de nome 'Obesity' que conterá os valores de obesidade. \n",
    "#Transforme em float as colunas que porventura foram importadas como string.\n",
    "# veja as inf como obj, string e preciso q seja float\n",
    "\n",
    "df_obesity[\"Obesity (%)\"].iloc[0]\n"
   ]
  },
  {
   "cell_type": "code",
   "execution_count": 11,
   "id": "096b083e-ffaf-4422-9887-c1126c6a6678",
   "metadata": {},
   "outputs": [
    {
     "data": {
      "text/plain": [
       "Obesity (%)\n",
       "No data             504\n",
       "0.4 [0.1-1.0]        55\n",
       "0.6 [0.2-1.3]        47\n",
       "0.3 [0.1-0.7]        46\n",
       "0.3 [0.1-0.8]        46\n",
       "                   ... \n",
       "18.5 [14.1-23.7]      1\n",
       "11.2 [8.8-14.0]       1\n",
       "19.0 [14.5-24.1]      1\n",
       "11.9 [9.4-14.7]       1\n",
       "4.7 [2.5-8.0]         1\n",
       "Name: count, Length: 16375, dtype: int64"
      ]
     },
     "execution_count": 11,
     "metadata": {},
     "output_type": "execute_result"
    }
   ],
   "source": [
    "df_obesity[\"Obesity (%)\"].value_counts() # No data             504 nao conseg detectar de inf"
   ]
  },
  {
   "cell_type": "code",
   "execution_count": 12,
   "id": "5ae4716f-ad9d-4471-9260-d1158e2e3aa7",
   "metadata": {},
   "outputs": [
    {
     "data": {
      "text/plain": [
       "Index(['Unnamed: 0', 'Country', 'Year', 'Obesity (%)', 'Sex'], dtype='object')"
      ]
     },
     "execution_count": 12,
     "metadata": {},
     "output_type": "execute_result"
    }
   ],
   "source": [
    "# ver as colunas e ver oque precisa tirar\n",
    "df_obesity.columns # 'Unnamed: 0', Obesity (%)"
   ]
  },
  {
   "cell_type": "code",
   "execution_count": null,
   "id": "60381b52-8c18-4189-bc10-d15bb0d24528",
   "metadata": {},
   "outputs": [],
   "source": []
  }
 ],
 "metadata": {
  "kernelspec": {
   "display_name": "Python 3 (ipykernel)",
   "language": "python",
   "name": "python3"
  },
  "language_info": {
   "codemirror_mode": {
    "name": "ipython",
    "version": 3
   },
   "file_extension": ".py",
   "mimetype": "text/x-python",
   "name": "python",
   "nbconvert_exporter": "python",
   "pygments_lexer": "ipython3",
   "version": "3.13.0"
  }
 },
 "nbformat": 4,
 "nbformat_minor": 5
}
