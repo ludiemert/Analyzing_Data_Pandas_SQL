{
 "cells": [
  {
   "cell_type": "markdown",
   "id": "886e1db5-4c5a-4d22-b510-592c05957bd6",
   "metadata": {},
   "source": [
    "## Perguntas - GDP Per Person (1901-2011)"
   ]
  },
  {
   "cell_type": "code",
   "execution_count": null,
   "id": "6262e87a-2c1b-44e6-9633-873525e54755",
   "metadata": {},
   "outputs": [],
   "source": [
    "import pandas as pd\n",
    "import numpy as np"
   ]
  },
  {
   "cell_type": "code",
   "execution_count": null,
   "id": "45e5730b-75df-4137-971c-2b1cab983ddb",
   "metadata": {},
   "outputs": [],
   "source": [
    "# import table\n",
    "df_gdp = pd.read_csv(\"Datasets/gdp.csv\")"
   ]
  },
  {
   "cell_type": "code",
   "execution_count": null,
   "id": "fe20c7af-1fba-44bf-a62d-734f8a3ba260",
   "metadata": {},
   "outputs": [],
   "source": [
    "# - Limpe o conjunto de dados, convertendo strings em datas ou float, quando necessário."
   ]
  }
 ],
 "metadata": {
  "kernelspec": {
   "display_name": "Python 3 (ipykernel)",
   "language": "python",
   "name": "python3"
  },
  "language_info": {
   "codemirror_mode": {
    "name": "ipython",
    "version": 3
   },
   "file_extension": ".py",
   "mimetype": "text/x-python",
   "name": "python",
   "nbconvert_exporter": "python",
   "pygments_lexer": "ipython3",
   "version": "3.13.0"
  }
 },
 "nbformat": 4,
 "nbformat_minor": 5
}
