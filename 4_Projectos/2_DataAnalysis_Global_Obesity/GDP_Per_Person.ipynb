{
 "cells": [
  {
   "cell_type": "markdown",
   "id": "886e1db5-4c5a-4d22-b510-592c05957bd6",
   "metadata": {},
   "source": [
    "## Perguntas - GDP Per Person (1901-2011)"
   ]
  },
  {
   "cell_type": "code",
   "execution_count": 1,
   "id": "6262e87a-2c1b-44e6-9633-873525e54755",
   "metadata": {},
   "outputs": [],
   "source": [
    "import pandas as pd\n",
    "import numpy as np"
   ]
  },
  {
   "cell_type": "code",
   "execution_count": 2,
   "id": "45e5730b-75df-4137-971c-2b1cab983ddb",
   "metadata": {},
   "outputs": [],
   "source": [
    "# import table\n",
    "df_gdp = pd.read_csv(\"Datasets/gdp.csv\")"
   ]
  },
  {
   "cell_type": "code",
   "execution_count": 3,
   "id": "fe20c7af-1fba-44bf-a62d-734f8a3ba260",
   "metadata": {},
   "outputs": [
    {
     "data": {
      "text/html": [
       "<div>\n",
       "<style scoped>\n",
       "    .dataframe tbody tr th:only-of-type {\n",
       "        vertical-align: middle;\n",
       "    }\n",
       "\n",
       "    .dataframe tbody tr th {\n",
       "        vertical-align: top;\n",
       "    }\n",
       "\n",
       "    .dataframe thead th {\n",
       "        text-align: right;\n",
       "    }\n",
       "</style>\n",
       "<table border=\"1\" class=\"dataframe\">\n",
       "  <thead>\n",
       "    <tr style=\"text-align: right;\">\n",
       "      <th></th>\n",
       "      <th>Country</th>\n",
       "      <th>Region</th>\n",
       "      <th>Year</th>\n",
       "      <th>GDP_pp</th>\n",
       "    </tr>\n",
       "  </thead>\n",
       "  <tbody>\n",
       "    <tr>\n",
       "      <th>0</th>\n",
       "      <td>Afghanistan</td>\n",
       "      <td>Middle East, North Africa, and Greater Arabia</td>\n",
       "      <td>1/1/1901</td>\n",
       "      <td>613.99</td>\n",
       "    </tr>\n",
       "    <tr>\n",
       "      <th>1</th>\n",
       "      <td>Afghanistan</td>\n",
       "      <td>Middle East, North Africa, and Greater Arabia</td>\n",
       "      <td>1/1/1906</td>\n",
       "      <td>624.04</td>\n",
       "    </tr>\n",
       "    <tr>\n",
       "      <th>2</th>\n",
       "      <td>Afghanistan</td>\n",
       "      <td>Middle East, North Africa, and Greater Arabia</td>\n",
       "      <td>1/1/1911</td>\n",
       "      <td>634.25</td>\n",
       "    </tr>\n",
       "    <tr>\n",
       "      <th>3</th>\n",
       "      <td>Afghanistan</td>\n",
       "      <td>Middle East, North Africa, and Greater Arabia</td>\n",
       "      <td>1/1/1916</td>\n",
       "      <td>647.28</td>\n",
       "    </tr>\n",
       "    <tr>\n",
       "      <th>4</th>\n",
       "      <td>Afghanistan</td>\n",
       "      <td>Middle East, North Africa, and Greater Arabia</td>\n",
       "      <td>1/1/1921</td>\n",
       "      <td>662.40</td>\n",
       "    </tr>\n",
       "    <tr>\n",
       "      <th>...</th>\n",
       "      <td>...</td>\n",
       "      <td>...</td>\n",
       "      <td>...</td>\n",
       "      <td>...</td>\n",
       "    </tr>\n",
       "    <tr>\n",
       "      <th>4414</th>\n",
       "      <td>Zimbabwe</td>\n",
       "      <td>Sub-Saharan Africa</td>\n",
       "      <td>1/1/1991</td>\n",
       "      <td>782.09</td>\n",
       "    </tr>\n",
       "    <tr>\n",
       "      <th>4415</th>\n",
       "      <td>Zimbabwe</td>\n",
       "      <td>Sub-Saharan Africa</td>\n",
       "      <td>1/1/1996</td>\n",
       "      <td>781.50</td>\n",
       "    </tr>\n",
       "    <tr>\n",
       "      <th>4416</th>\n",
       "      <td>Zimbabwe</td>\n",
       "      <td>Sub-Saharan Africa</td>\n",
       "      <td>1/1/2001</td>\n",
       "      <td>719.96</td>\n",
       "    </tr>\n",
       "    <tr>\n",
       "      <th>4417</th>\n",
       "      <td>Zimbabwe</td>\n",
       "      <td>Sub-Saharan Africa</td>\n",
       "      <td>1/1/2006</td>\n",
       "      <td>520.17</td>\n",
       "    </tr>\n",
       "    <tr>\n",
       "      <th>4418</th>\n",
       "      <td>Zimbabwe</td>\n",
       "      <td>Sub-Saharan Africa</td>\n",
       "      <td>1/1/2011</td>\n",
       "      <td>526.33</td>\n",
       "    </tr>\n",
       "  </tbody>\n",
       "</table>\n",
       "<p>4419 rows × 4 columns</p>\n",
       "</div>"
      ],
      "text/plain": [
       "          Country                                         Region      Year  \\\n",
       "0     Afghanistan  Middle East, North Africa, and Greater Arabia  1/1/1901   \n",
       "1     Afghanistan  Middle East, North Africa, and Greater Arabia  1/1/1906   \n",
       "2     Afghanistan  Middle East, North Africa, and Greater Arabia  1/1/1911   \n",
       "3     Afghanistan  Middle East, North Africa, and Greater Arabia  1/1/1916   \n",
       "4     Afghanistan  Middle East, North Africa, and Greater Arabia  1/1/1921   \n",
       "...           ...                                            ...       ...   \n",
       "4414     Zimbabwe                             Sub-Saharan Africa  1/1/1991   \n",
       "4415     Zimbabwe                             Sub-Saharan Africa  1/1/1996   \n",
       "4416     Zimbabwe                             Sub-Saharan Africa  1/1/2001   \n",
       "4417     Zimbabwe                             Sub-Saharan Africa  1/1/2006   \n",
       "4418     Zimbabwe                             Sub-Saharan Africa  1/1/2011   \n",
       "\n",
       "       GDP_pp   \n",
       "0      613.99   \n",
       "1      624.04   \n",
       "2      634.25   \n",
       "3      647.28   \n",
       "4      662.40   \n",
       "...        ...  \n",
       "4414   782.09   \n",
       "4415   781.50   \n",
       "4416   719.96   \n",
       "4417   520.17   \n",
       "4418   526.33   \n",
       "\n",
       "[4419 rows x 4 columns]"
      ]
     },
     "execution_count": 3,
     "metadata": {},
     "output_type": "execute_result"
    }
   ],
   "source": [
    "df_gdp"
   ]
  },
  {
   "cell_type": "code",
   "execution_count": 4,
   "id": "e6408a5c-4a24-477e-b5f8-115b35305bf5",
   "metadata": {},
   "outputs": [
    {
     "data": {
      "text/plain": [
       "0       1/1/1901\n",
       "1       1/1/1906\n",
       "2       1/1/1911\n",
       "3       1/1/1916\n",
       "4       1/1/1921\n",
       "          ...   \n",
       "4414    1/1/1991\n",
       "4415    1/1/1996\n",
       "4416    1/1/2001\n",
       "4417    1/1/2006\n",
       "4418    1/1/2011\n",
       "Name: Year, Length: 4419, dtype: object"
      ]
     },
     "execution_count": 4,
     "metadata": {},
     "output_type": "execute_result"
    }
   ],
   "source": [
    "# - Limpe o conjunto de dados, convertendo strings em datas ou float, quando necessário.\n",
    "# possivelmente dados Year eh string => dtype: object\n",
    "df_gdp[\"Year\"]\n",
    "\n"
   ]
  },
  {
   "cell_type": "code",
   "execution_count": 7,
   "id": "e887edad-4324-45f1-8668-9222da28e27b",
   "metadata": {},
   "outputs": [
    {
     "data": {
      "text/plain": [
       "str"
      ]
     },
     "execution_count": 7,
     "metadata": {},
     "output_type": "execute_result"
    }
   ],
   "source": [
    "# para ver o primeiro elemento ele vai estar com `` => '1/1/1901' => type => \n",
    "str\n",
    "type(df_gdp[\"Year\"].iloc[0])\n"
   ]
  },
  {
   "cell_type": "code",
   "execution_count": 11,
   "id": "0a60d92b-e482-4951-ad73-98dded05226f",
   "metadata": {},
   "outputs": [
    {
     "data": {
      "text/plain": [
       "0       1901\n",
       "1       1906\n",
       "2       1911\n",
       "3       1916\n",
       "4       1921\n",
       "        ... \n",
       "4414    1991\n",
       "4415    1996\n",
       "4416    2001\n",
       "4417    2006\n",
       "4418    2011\n",
       "Name: Year, Length: 4419, dtype: int64"
      ]
     },
     "execution_count": 11,
     "metadata": {},
     "output_type": "execute_result"
    }
   ],
   "source": [
    "# para iniciar a limpeza usamos o split\n",
    "# retorna uma lista (\"/\")[-1] me interessa o ultimo elemento que eh o ano, seja inteiro\n",
    "# vai retornar uma Series com todos os numetos inteiros\n",
    "df_gdp[\"Year\"].apply(lambda x: int(x.split(\"/\")[-1]))\n"
   ]
  },
  {
   "cell_type": "code",
   "execution_count": null,
   "id": "28ecbc55-f1ca-4626-a09d-d5ffc00ff188",
   "metadata": {},
   "outputs": [],
   "source": []
  }
 ],
 "metadata": {
  "kernelspec": {
   "display_name": "Python 3 (ipykernel)",
   "language": "python",
   "name": "python3"
  },
  "language_info": {
   "codemirror_mode": {
    "name": "ipython",
    "version": 3
   },
   "file_extension": ".py",
   "mimetype": "text/x-python",
   "name": "python",
   "nbconvert_exporter": "python",
   "pygments_lexer": "ipython3",
   "version": "3.13.0"
  }
 },
 "nbformat": 4,
 "nbformat_minor": 5
}
