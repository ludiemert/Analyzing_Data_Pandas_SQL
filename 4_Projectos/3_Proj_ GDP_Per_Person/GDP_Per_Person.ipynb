{
 "cells": [
  {
   "cell_type": "markdown",
   "id": "886e1db5-4c5a-4d22-b510-592c05957bd6",
   "metadata": {},
   "source": [
    "## Perguntas - GDP Per Person (1901-2011)"
   ]
  },
  {
   "cell_type": "code",
   "execution_count": 16,
   "id": "6262e87a-2c1b-44e6-9633-873525e54755",
   "metadata": {},
   "outputs": [],
   "source": [
    "import pandas as pd\n",
    "import numpy as np"
   ]
  },
  {
   "cell_type": "code",
   "execution_count": 17,
   "id": "45e5730b-75df-4137-971c-2b1cab983ddb",
   "metadata": {},
   "outputs": [],
   "source": [
    "# import table\n",
    "df_gdp = pd.read_csv(\"Datasets/gdp.csv\")"
   ]
  },
  {
   "cell_type": "code",
   "execution_count": 18,
   "id": "fe20c7af-1fba-44bf-a62d-734f8a3ba260",
   "metadata": {},
   "outputs": [
    {
     "data": {
      "text/html": [
       "<div>\n",
       "<style scoped>\n",
       "    .dataframe tbody tr th:only-of-type {\n",
       "        vertical-align: middle;\n",
       "    }\n",
       "\n",
       "    .dataframe tbody tr th {\n",
       "        vertical-align: top;\n",
       "    }\n",
       "\n",
       "    .dataframe thead th {\n",
       "        text-align: right;\n",
       "    }\n",
       "</style>\n",
       "<table border=\"1\" class=\"dataframe\">\n",
       "  <thead>\n",
       "    <tr style=\"text-align: right;\">\n",
       "      <th></th>\n",
       "      <th>Country</th>\n",
       "      <th>Region</th>\n",
       "      <th>Year</th>\n",
       "      <th>GDP_pp</th>\n",
       "    </tr>\n",
       "  </thead>\n",
       "  <tbody>\n",
       "    <tr>\n",
       "      <th>0</th>\n",
       "      <td>Afghanistan</td>\n",
       "      <td>Middle East, North Africa, and Greater Arabia</td>\n",
       "      <td>1/1/1901</td>\n",
       "      <td>613.99</td>\n",
       "    </tr>\n",
       "    <tr>\n",
       "      <th>1</th>\n",
       "      <td>Afghanistan</td>\n",
       "      <td>Middle East, North Africa, and Greater Arabia</td>\n",
       "      <td>1/1/1906</td>\n",
       "      <td>624.04</td>\n",
       "    </tr>\n",
       "    <tr>\n",
       "      <th>2</th>\n",
       "      <td>Afghanistan</td>\n",
       "      <td>Middle East, North Africa, and Greater Arabia</td>\n",
       "      <td>1/1/1911</td>\n",
       "      <td>634.25</td>\n",
       "    </tr>\n",
       "    <tr>\n",
       "      <th>3</th>\n",
       "      <td>Afghanistan</td>\n",
       "      <td>Middle East, North Africa, and Greater Arabia</td>\n",
       "      <td>1/1/1916</td>\n",
       "      <td>647.28</td>\n",
       "    </tr>\n",
       "    <tr>\n",
       "      <th>4</th>\n",
       "      <td>Afghanistan</td>\n",
       "      <td>Middle East, North Africa, and Greater Arabia</td>\n",
       "      <td>1/1/1921</td>\n",
       "      <td>662.40</td>\n",
       "    </tr>\n",
       "    <tr>\n",
       "      <th>...</th>\n",
       "      <td>...</td>\n",
       "      <td>...</td>\n",
       "      <td>...</td>\n",
       "      <td>...</td>\n",
       "    </tr>\n",
       "    <tr>\n",
       "      <th>4414</th>\n",
       "      <td>Zimbabwe</td>\n",
       "      <td>Sub-Saharan Africa</td>\n",
       "      <td>1/1/1991</td>\n",
       "      <td>782.09</td>\n",
       "    </tr>\n",
       "    <tr>\n",
       "      <th>4415</th>\n",
       "      <td>Zimbabwe</td>\n",
       "      <td>Sub-Saharan Africa</td>\n",
       "      <td>1/1/1996</td>\n",
       "      <td>781.50</td>\n",
       "    </tr>\n",
       "    <tr>\n",
       "      <th>4416</th>\n",
       "      <td>Zimbabwe</td>\n",
       "      <td>Sub-Saharan Africa</td>\n",
       "      <td>1/1/2001</td>\n",
       "      <td>719.96</td>\n",
       "    </tr>\n",
       "    <tr>\n",
       "      <th>4417</th>\n",
       "      <td>Zimbabwe</td>\n",
       "      <td>Sub-Saharan Africa</td>\n",
       "      <td>1/1/2006</td>\n",
       "      <td>520.17</td>\n",
       "    </tr>\n",
       "    <tr>\n",
       "      <th>4418</th>\n",
       "      <td>Zimbabwe</td>\n",
       "      <td>Sub-Saharan Africa</td>\n",
       "      <td>1/1/2011</td>\n",
       "      <td>526.33</td>\n",
       "    </tr>\n",
       "  </tbody>\n",
       "</table>\n",
       "<p>4419 rows × 4 columns</p>\n",
       "</div>"
      ],
      "text/plain": [
       "          Country                                         Region      Year  \\\n",
       "0     Afghanistan  Middle East, North Africa, and Greater Arabia  1/1/1901   \n",
       "1     Afghanistan  Middle East, North Africa, and Greater Arabia  1/1/1906   \n",
       "2     Afghanistan  Middle East, North Africa, and Greater Arabia  1/1/1911   \n",
       "3     Afghanistan  Middle East, North Africa, and Greater Arabia  1/1/1916   \n",
       "4     Afghanistan  Middle East, North Africa, and Greater Arabia  1/1/1921   \n",
       "...           ...                                            ...       ...   \n",
       "4414     Zimbabwe                             Sub-Saharan Africa  1/1/1991   \n",
       "4415     Zimbabwe                             Sub-Saharan Africa  1/1/1996   \n",
       "4416     Zimbabwe                             Sub-Saharan Africa  1/1/2001   \n",
       "4417     Zimbabwe                             Sub-Saharan Africa  1/1/2006   \n",
       "4418     Zimbabwe                             Sub-Saharan Africa  1/1/2011   \n",
       "\n",
       "       GDP_pp   \n",
       "0      613.99   \n",
       "1      624.04   \n",
       "2      634.25   \n",
       "3      647.28   \n",
       "4      662.40   \n",
       "...        ...  \n",
       "4414   782.09   \n",
       "4415   781.50   \n",
       "4416   719.96   \n",
       "4417   520.17   \n",
       "4418   526.33   \n",
       "\n",
       "[4419 rows x 4 columns]"
      ]
     },
     "execution_count": 18,
     "metadata": {},
     "output_type": "execute_result"
    }
   ],
   "source": [
    "df_gdp"
   ]
  },
  {
   "cell_type": "code",
   "execution_count": 19,
   "id": "e6408a5c-4a24-477e-b5f8-115b35305bf5",
   "metadata": {},
   "outputs": [
    {
     "data": {
      "text/plain": [
       "0       1/1/1901\n",
       "1       1/1/1906\n",
       "2       1/1/1911\n",
       "3       1/1/1916\n",
       "4       1/1/1921\n",
       "          ...   \n",
       "4414    1/1/1991\n",
       "4415    1/1/1996\n",
       "4416    1/1/2001\n",
       "4417    1/1/2006\n",
       "4418    1/1/2011\n",
       "Name: Year, Length: 4419, dtype: object"
      ]
     },
     "execution_count": 19,
     "metadata": {},
     "output_type": "execute_result"
    }
   ],
   "source": [
    "# - Limpe o conjunto de dados, convertendo strings em datas ou float, quando necessário.\n",
    "# possivelmente dados Year eh string => dtype: object\n",
    "df_gdp[\"Year\"]\n",
    "\n"
   ]
  },
  {
   "cell_type": "code",
   "execution_count": 20,
   "id": "e887edad-4324-45f1-8668-9222da28e27b",
   "metadata": {},
   "outputs": [
    {
     "data": {
      "text/plain": [
       "str"
      ]
     },
     "execution_count": 20,
     "metadata": {},
     "output_type": "execute_result"
    }
   ],
   "source": [
    "# para ver o primeiro elemento ele vai estar com `` => '1/1/1901' => type => \n",
    "str\n",
    "type(df_gdp[\"Year\"].iloc[0])\n"
   ]
  },
  {
   "cell_type": "code",
   "execution_count": 21,
   "id": "0a60d92b-e482-4951-ad73-98dded05226f",
   "metadata": {},
   "outputs": [
    {
     "data": {
      "text/plain": [
       "0       1901\n",
       "1       1906\n",
       "2       1911\n",
       "3       1916\n",
       "4       1921\n",
       "        ... \n",
       "4414    1991\n",
       "4415    1996\n",
       "4416    2001\n",
       "4417    2006\n",
       "4418    2011\n",
       "Name: Year, Length: 4419, dtype: int64"
      ]
     },
     "execution_count": 21,
     "metadata": {},
     "output_type": "execute_result"
    }
   ],
   "source": [
    "# para iniciar a limpeza usamos o split\n",
    "# retorna uma lista (\"/\")[-1] me interessa o ultimo elemento que eh o ano, seja inteiro\n",
    "# vai retornar uma Series com todos os numetos inteiros\n",
    "df_gdp[\"Year\"].apply(lambda x: int(x.split(\"/\")[-1]))\n"
   ]
  },
  {
   "cell_type": "code",
   "execution_count": 22,
   "id": "28ecbc55-f1ca-4626-a09d-d5ffc00ff188",
   "metadata": {},
   "outputs": [],
   "source": [
    "# subscrever a coluna Year e executar\n",
    "df_gdp[\"Year\"] = df_gdp[\"Year\"].apply(lambda x: int(x.split(\"/\")[-1]))"
   ]
  },
  {
   "cell_type": "code",
   "execution_count": 23,
   "id": "a36e2368-20e1-4210-9b07-8e6d56988b4d",
   "metadata": {},
   "outputs": [
    {
     "data": {
      "text/plain": [
       "numpy.int64"
      ]
     },
     "execution_count": 23,
     "metadata": {},
     "output_type": "execute_result"
    }
   ],
   "source": [
    "type(df_gdp[\"Year\"].iloc[0])"
   ]
  },
  {
   "cell_type": "code",
   "execution_count": 24,
   "id": "a90f6c60-c6a1-41e2-bd4d-aa7d9de0a533",
   "metadata": {},
   "outputs": [
    {
     "data": {
      "text/plain": [
       "Index(['Country', 'Region', 'Year', ' GDP_pp '], dtype='object')"
      ]
     },
     "execution_count": 24,
     "metadata": {},
     "output_type": "execute_result"
    }
   ],
   "source": [
    "# name das colunas (tem espaco, e eh preciso ver direitinho como esta escrito)\n",
    "# ' GDP_pp '\n",
    "df_gdp.columns"
   ]
  },
  {
   "cell_type": "code",
   "execution_count": 25,
   "id": "583bbd47-e184-4e65-8e73-1bc388c9e3c5",
   "metadata": {},
   "outputs": [
    {
     "data": {
      "text/plain": [
       "str"
      ]
     },
     "execution_count": 25,
     "metadata": {},
     "output_type": "execute_result"
    }
   ],
   "source": [
    "# ver o tipo de dado da coluna\n",
    "type(df_gdp[\" GDP_pp \"].iloc[0])"
   ]
  },
  {
   "cell_type": "code",
   "execution_count": 26,
   "id": "d54d19c5-34e0-4c9c-905e-f262ab06cb4c",
   "metadata": {},
   "outputs": [
    {
     "data": {
      "text/plain": [
       "' 613.99 '"
      ]
     },
     "execution_count": 26,
     "metadata": {},
     "output_type": "execute_result"
    }
   ],
   "source": [
    "df_gdp[\" GDP_pp \"].iloc[0]"
   ]
  },
  {
   "cell_type": "code",
   "execution_count": 27,
   "id": "18d95e51-07d2-4c6d-8ae9-1c52c037bb21",
   "metadata": {},
   "outputs": [
    {
     "data": {
      "text/plain": [
       "['', '613.99', '']"
      ]
     },
     "execution_count": 27,
     "metadata": {},
     "output_type": "execute_result"
    }
   ],
   "source": [
    "df_gdp[\" GDP_pp \"].iloc[0].split(\" \") # retorna 3 valores => ['', '613.99', '']\n",
    "\n",
    "#float(df_gdp[\" GDP_pp \"].iloc[0].split()p[0])"
   ]
  },
  {
   "cell_type": "code",
   "execution_count": 28,
   "id": "58c6fd57-f1d4-4007-b05b-60d22ba52f4a",
   "metadata": {},
   "outputs": [
    {
     "data": {
      "text/plain": [
       "['613.99']"
      ]
     },
     "execution_count": 28,
     "metadata": {},
     "output_type": "execute_result"
    }
   ],
   "source": [
    "# nao passar o parametro\n",
    "df_gdp[\" GDP_pp \"].iloc[0].split() # retorna apenas uma lista com um valor"
   ]
  },
  {
   "cell_type": "code",
   "execution_count": 29,
   "id": "cd599622-229b-48d7-8335-5fb7c6983238",
   "metadata": {},
   "outputs": [
    {
     "data": {
      "text/plain": [
       "'613.99'"
      ]
     },
     "execution_count": 29,
     "metadata": {},
     "output_type": "execute_result"
    }
   ],
   "source": [
    "# pegar o valor 0\n",
    "df_gdp[\" GDP_pp \"].iloc[0].split()[0]"
   ]
  },
  {
   "cell_type": "code",
   "execution_count": 30,
   "id": "f3628e0b-8acb-4037-920b-c102dffb0d0b",
   "metadata": {},
   "outputs": [
    {
     "data": {
      "text/plain": [
       "613.99"
      ]
     },
     "execution_count": 30,
     "metadata": {},
     "output_type": "execute_result"
    }
   ],
   "source": [
    "# converter para float\n",
    "float(df_gdp[\" GDP_pp \"].iloc[0].split()[0])"
   ]
  },
  {
   "cell_type": "code",
   "execution_count": 31,
   "id": "36951daf-5daa-4114-b550-78709f473a03",
   "metadata": {},
   "outputs": [
    {
     "ename": "ValueError",
     "evalue": "could not convert string to float: '1,030.89'",
     "output_type": "error",
     "traceback": [
      "\u001b[1;31m---------------------------------------------------------------------------\u001b[0m",
      "\u001b[1;31mValueError\u001b[0m                                Traceback (most recent call last)",
      "Cell \u001b[1;32mIn[31], line 2\u001b[0m\n\u001b[0;32m      1\u001b[0m \u001b[38;5;66;03m# criar uma nova Serie sem perder a outra\u001b[39;00m\n\u001b[1;32m----> 2\u001b[0m df_gdp[\u001b[38;5;124m\"\u001b[39m\u001b[38;5;124mgdp_pp\u001b[39m\u001b[38;5;124m\"\u001b[39m] \u001b[38;5;241m=\u001b[39m \u001b[43mdf_gdp\u001b[49m\u001b[43m[\u001b[49m\u001b[38;5;124;43m\"\u001b[39;49m\u001b[38;5;124;43m GDP_pp \u001b[39;49m\u001b[38;5;124;43m\"\u001b[39;49m\u001b[43m]\u001b[49m\u001b[38;5;241;43m.\u001b[39;49m\u001b[43mapply\u001b[49m\u001b[43m(\u001b[49m\u001b[38;5;28;43;01mlambda\u001b[39;49;00m\u001b[43m \u001b[49m\u001b[43mx\u001b[49m\u001b[43m:\u001b[49m\u001b[43m \u001b[49m\u001b[38;5;28;43mfloat\u001b[39;49m\u001b[43m(\u001b[49m\u001b[43mx\u001b[49m\u001b[38;5;241;43m.\u001b[39;49m\u001b[43msplit\u001b[49m\u001b[43m(\u001b[49m\u001b[43m)\u001b[49m\u001b[43m[\u001b[49m\u001b[38;5;241;43m0\u001b[39;49m\u001b[43m]\u001b[49m\u001b[43m)\u001b[49m\u001b[43m)\u001b[49m\n\u001b[0;32m      4\u001b[0m \u001b[38;5;66;03m#  ValueError: could not convert string to float: '1,030.89'\u001b[39;00m\n\u001b[0;32m      5\u001b[0m \u001b[38;5;66;03m# series com outros tipos de dados de , e ponto .\u001b[39;00m\n",
      "File \u001b[1;32m~\\AppData\\Local\\Programs\\Python\\Python313\\Lib\\site-packages\\pandas\\core\\series.py:4924\u001b[0m, in \u001b[0;36mSeries.apply\u001b[1;34m(self, func, convert_dtype, args, by_row, **kwargs)\u001b[0m\n\u001b[0;32m   4789\u001b[0m \u001b[38;5;28;01mdef\u001b[39;00m \u001b[38;5;21mapply\u001b[39m(\n\u001b[0;32m   4790\u001b[0m     \u001b[38;5;28mself\u001b[39m,\n\u001b[0;32m   4791\u001b[0m     func: AggFuncType,\n\u001b[1;32m   (...)\u001b[0m\n\u001b[0;32m   4796\u001b[0m     \u001b[38;5;241m*\u001b[39m\u001b[38;5;241m*\u001b[39mkwargs,\n\u001b[0;32m   4797\u001b[0m ) \u001b[38;5;241m-\u001b[39m\u001b[38;5;241m>\u001b[39m DataFrame \u001b[38;5;241m|\u001b[39m Series:\n\u001b[0;32m   4798\u001b[0m \u001b[38;5;250m    \u001b[39m\u001b[38;5;124;03m\"\"\"\u001b[39;00m\n\u001b[0;32m   4799\u001b[0m \u001b[38;5;124;03m    Invoke function on values of Series.\u001b[39;00m\n\u001b[0;32m   4800\u001b[0m \n\u001b[1;32m   (...)\u001b[0m\n\u001b[0;32m   4915\u001b[0m \u001b[38;5;124;03m    dtype: float64\u001b[39;00m\n\u001b[0;32m   4916\u001b[0m \u001b[38;5;124;03m    \"\"\"\u001b[39;00m\n\u001b[0;32m   4917\u001b[0m     \u001b[38;5;28;01mreturn\u001b[39;00m \u001b[43mSeriesApply\u001b[49m\u001b[43m(\u001b[49m\n\u001b[0;32m   4918\u001b[0m \u001b[43m        \u001b[49m\u001b[38;5;28;43mself\u001b[39;49m\u001b[43m,\u001b[49m\n\u001b[0;32m   4919\u001b[0m \u001b[43m        \u001b[49m\u001b[43mfunc\u001b[49m\u001b[43m,\u001b[49m\n\u001b[0;32m   4920\u001b[0m \u001b[43m        \u001b[49m\u001b[43mconvert_dtype\u001b[49m\u001b[38;5;241;43m=\u001b[39;49m\u001b[43mconvert_dtype\u001b[49m\u001b[43m,\u001b[49m\n\u001b[0;32m   4921\u001b[0m \u001b[43m        \u001b[49m\u001b[43mby_row\u001b[49m\u001b[38;5;241;43m=\u001b[39;49m\u001b[43mby_row\u001b[49m\u001b[43m,\u001b[49m\n\u001b[0;32m   4922\u001b[0m \u001b[43m        \u001b[49m\u001b[43margs\u001b[49m\u001b[38;5;241;43m=\u001b[39;49m\u001b[43margs\u001b[49m\u001b[43m,\u001b[49m\n\u001b[0;32m   4923\u001b[0m \u001b[43m        \u001b[49m\u001b[43mkwargs\u001b[49m\u001b[38;5;241;43m=\u001b[39;49m\u001b[43mkwargs\u001b[49m\u001b[43m,\u001b[49m\n\u001b[1;32m-> 4924\u001b[0m \u001b[43m    \u001b[49m\u001b[43m)\u001b[49m\u001b[38;5;241;43m.\u001b[39;49m\u001b[43mapply\u001b[49m\u001b[43m(\u001b[49m\u001b[43m)\u001b[49m\n",
      "File \u001b[1;32m~\\AppData\\Local\\Programs\\Python\\Python313\\Lib\\site-packages\\pandas\\core\\apply.py:1427\u001b[0m, in \u001b[0;36mSeriesApply.apply\u001b[1;34m(self)\u001b[0m\n\u001b[0;32m   1424\u001b[0m     \u001b[38;5;28;01mreturn\u001b[39;00m \u001b[38;5;28mself\u001b[39m\u001b[38;5;241m.\u001b[39mapply_compat()\n\u001b[0;32m   1426\u001b[0m \u001b[38;5;66;03m# self.func is Callable\u001b[39;00m\n\u001b[1;32m-> 1427\u001b[0m \u001b[38;5;28;01mreturn\u001b[39;00m \u001b[38;5;28;43mself\u001b[39;49m\u001b[38;5;241;43m.\u001b[39;49m\u001b[43mapply_standard\u001b[49m\u001b[43m(\u001b[49m\u001b[43m)\u001b[49m\n",
      "File \u001b[1;32m~\\AppData\\Local\\Programs\\Python\\Python313\\Lib\\site-packages\\pandas\\core\\apply.py:1507\u001b[0m, in \u001b[0;36mSeriesApply.apply_standard\u001b[1;34m(self)\u001b[0m\n\u001b[0;32m   1501\u001b[0m \u001b[38;5;66;03m# row-wise access\u001b[39;00m\n\u001b[0;32m   1502\u001b[0m \u001b[38;5;66;03m# apply doesn't have a `na_action` keyword and for backward compat reasons\u001b[39;00m\n\u001b[0;32m   1503\u001b[0m \u001b[38;5;66;03m# we need to give `na_action=\"ignore\"` for categorical data.\u001b[39;00m\n\u001b[0;32m   1504\u001b[0m \u001b[38;5;66;03m# TODO: remove the `na_action=\"ignore\"` when that default has been changed in\u001b[39;00m\n\u001b[0;32m   1505\u001b[0m \u001b[38;5;66;03m#  Categorical (GH51645).\u001b[39;00m\n\u001b[0;32m   1506\u001b[0m action \u001b[38;5;241m=\u001b[39m \u001b[38;5;124m\"\u001b[39m\u001b[38;5;124mignore\u001b[39m\u001b[38;5;124m\"\u001b[39m \u001b[38;5;28;01mif\u001b[39;00m \u001b[38;5;28misinstance\u001b[39m(obj\u001b[38;5;241m.\u001b[39mdtype, CategoricalDtype) \u001b[38;5;28;01melse\u001b[39;00m \u001b[38;5;28;01mNone\u001b[39;00m\n\u001b[1;32m-> 1507\u001b[0m mapped \u001b[38;5;241m=\u001b[39m \u001b[43mobj\u001b[49m\u001b[38;5;241;43m.\u001b[39;49m\u001b[43m_map_values\u001b[49m\u001b[43m(\u001b[49m\n\u001b[0;32m   1508\u001b[0m \u001b[43m    \u001b[49m\u001b[43mmapper\u001b[49m\u001b[38;5;241;43m=\u001b[39;49m\u001b[43mcurried\u001b[49m\u001b[43m,\u001b[49m\u001b[43m \u001b[49m\u001b[43mna_action\u001b[49m\u001b[38;5;241;43m=\u001b[39;49m\u001b[43maction\u001b[49m\u001b[43m,\u001b[49m\u001b[43m \u001b[49m\u001b[43mconvert\u001b[49m\u001b[38;5;241;43m=\u001b[39;49m\u001b[38;5;28;43mself\u001b[39;49m\u001b[38;5;241;43m.\u001b[39;49m\u001b[43mconvert_dtype\u001b[49m\n\u001b[0;32m   1509\u001b[0m \u001b[43m\u001b[49m\u001b[43m)\u001b[49m\n\u001b[0;32m   1511\u001b[0m \u001b[38;5;28;01mif\u001b[39;00m \u001b[38;5;28mlen\u001b[39m(mapped) \u001b[38;5;129;01mand\u001b[39;00m \u001b[38;5;28misinstance\u001b[39m(mapped[\u001b[38;5;241m0\u001b[39m], ABCSeries):\n\u001b[0;32m   1512\u001b[0m     \u001b[38;5;66;03m# GH#43986 Need to do list(mapped) in order to get treated as nested\u001b[39;00m\n\u001b[0;32m   1513\u001b[0m     \u001b[38;5;66;03m#  See also GH#25959 regarding EA support\u001b[39;00m\n\u001b[0;32m   1514\u001b[0m     \u001b[38;5;28;01mreturn\u001b[39;00m obj\u001b[38;5;241m.\u001b[39m_constructor_expanddim(\u001b[38;5;28mlist\u001b[39m(mapped), index\u001b[38;5;241m=\u001b[39mobj\u001b[38;5;241m.\u001b[39mindex)\n",
      "File \u001b[1;32m~\\AppData\\Local\\Programs\\Python\\Python313\\Lib\\site-packages\\pandas\\core\\base.py:921\u001b[0m, in \u001b[0;36mIndexOpsMixin._map_values\u001b[1;34m(self, mapper, na_action, convert)\u001b[0m\n\u001b[0;32m    918\u001b[0m \u001b[38;5;28;01mif\u001b[39;00m \u001b[38;5;28misinstance\u001b[39m(arr, ExtensionArray):\n\u001b[0;32m    919\u001b[0m     \u001b[38;5;28;01mreturn\u001b[39;00m arr\u001b[38;5;241m.\u001b[39mmap(mapper, na_action\u001b[38;5;241m=\u001b[39mna_action)\n\u001b[1;32m--> 921\u001b[0m \u001b[38;5;28;01mreturn\u001b[39;00m \u001b[43malgorithms\u001b[49m\u001b[38;5;241;43m.\u001b[39;49m\u001b[43mmap_array\u001b[49m\u001b[43m(\u001b[49m\u001b[43marr\u001b[49m\u001b[43m,\u001b[49m\u001b[43m \u001b[49m\u001b[43mmapper\u001b[49m\u001b[43m,\u001b[49m\u001b[43m \u001b[49m\u001b[43mna_action\u001b[49m\u001b[38;5;241;43m=\u001b[39;49m\u001b[43mna_action\u001b[49m\u001b[43m,\u001b[49m\u001b[43m \u001b[49m\u001b[43mconvert\u001b[49m\u001b[38;5;241;43m=\u001b[39;49m\u001b[43mconvert\u001b[49m\u001b[43m)\u001b[49m\n",
      "File \u001b[1;32m~\\AppData\\Local\\Programs\\Python\\Python313\\Lib\\site-packages\\pandas\\core\\algorithms.py:1743\u001b[0m, in \u001b[0;36mmap_array\u001b[1;34m(arr, mapper, na_action, convert)\u001b[0m\n\u001b[0;32m   1741\u001b[0m values \u001b[38;5;241m=\u001b[39m arr\u001b[38;5;241m.\u001b[39mastype(\u001b[38;5;28mobject\u001b[39m, copy\u001b[38;5;241m=\u001b[39m\u001b[38;5;28;01mFalse\u001b[39;00m)\n\u001b[0;32m   1742\u001b[0m \u001b[38;5;28;01mif\u001b[39;00m na_action \u001b[38;5;129;01mis\u001b[39;00m \u001b[38;5;28;01mNone\u001b[39;00m:\n\u001b[1;32m-> 1743\u001b[0m     \u001b[38;5;28;01mreturn\u001b[39;00m \u001b[43mlib\u001b[49m\u001b[38;5;241;43m.\u001b[39;49m\u001b[43mmap_infer\u001b[49m\u001b[43m(\u001b[49m\u001b[43mvalues\u001b[49m\u001b[43m,\u001b[49m\u001b[43m \u001b[49m\u001b[43mmapper\u001b[49m\u001b[43m,\u001b[49m\u001b[43m \u001b[49m\u001b[43mconvert\u001b[49m\u001b[38;5;241;43m=\u001b[39;49m\u001b[43mconvert\u001b[49m\u001b[43m)\u001b[49m\n\u001b[0;32m   1744\u001b[0m \u001b[38;5;28;01melse\u001b[39;00m:\n\u001b[0;32m   1745\u001b[0m     \u001b[38;5;28;01mreturn\u001b[39;00m lib\u001b[38;5;241m.\u001b[39mmap_infer_mask(\n\u001b[0;32m   1746\u001b[0m         values, mapper, mask\u001b[38;5;241m=\u001b[39misna(values)\u001b[38;5;241m.\u001b[39mview(np\u001b[38;5;241m.\u001b[39muint8), convert\u001b[38;5;241m=\u001b[39mconvert\n\u001b[0;32m   1747\u001b[0m     )\n",
      "File \u001b[1;32mlib.pyx:2972\u001b[0m, in \u001b[0;36mpandas._libs.lib.map_infer\u001b[1;34m()\u001b[0m\n",
      "Cell \u001b[1;32mIn[31], line 2\u001b[0m, in \u001b[0;36m<lambda>\u001b[1;34m(x)\u001b[0m\n\u001b[0;32m      1\u001b[0m \u001b[38;5;66;03m# criar uma nova Serie sem perder a outra\u001b[39;00m\n\u001b[1;32m----> 2\u001b[0m df_gdp[\u001b[38;5;124m\"\u001b[39m\u001b[38;5;124mgdp_pp\u001b[39m\u001b[38;5;124m\"\u001b[39m] \u001b[38;5;241m=\u001b[39m df_gdp[\u001b[38;5;124m\"\u001b[39m\u001b[38;5;124m GDP_pp \u001b[39m\u001b[38;5;124m\"\u001b[39m]\u001b[38;5;241m.\u001b[39mapply(\u001b[38;5;28;01mlambda\u001b[39;00m x: \u001b[38;5;28;43mfloat\u001b[39;49m\u001b[43m(\u001b[49m\u001b[43mx\u001b[49m\u001b[38;5;241;43m.\u001b[39;49m\u001b[43msplit\u001b[49m\u001b[43m(\u001b[49m\u001b[43m)\u001b[49m\u001b[43m[\u001b[49m\u001b[38;5;241;43m0\u001b[39;49m\u001b[43m]\u001b[49m\u001b[43m)\u001b[49m)\n\u001b[0;32m      4\u001b[0m \u001b[38;5;66;03m#  ValueError: could not convert string to float: '1,030.89'\u001b[39;00m\n\u001b[0;32m      5\u001b[0m \u001b[38;5;66;03m# series com outros tipos de dados de , e ponto .\u001b[39;00m\n",
      "\u001b[1;31mValueError\u001b[0m: could not convert string to float: '1,030.89'"
     ]
    }
   ],
   "source": [
    "# criar uma nova Serie sem perder a outra\n",
    "df_gdp[\"gdp_pp\"] = df_gdp[\" GDP_pp \"].apply(lambda x: float(x.split()[0]))\n",
    "\n",
    "#  ValueError: could not convert string to float: '1,030.89'\n",
    "# series com outros tipos de dados de , e ponto ."
   ]
  },
  {
   "cell_type": "code",
   "execution_count": null,
   "id": "03fa7876-9c8e-4e61-b012-370629db684d",
   "metadata": {},
   "outputs": [],
   "source": [
    "# trab o . e a , da serie\n",
    "# df_gdp[\"gdp_pp\"] = \n",
    "df_gdp[\" GDP_pp \"].apply(lambda x: float(x.split()[0]))\n"
   ]
  },
  {
   "cell_type": "code",
   "execution_count": 32,
   "id": "8c1950f3-b086-470d-8e4d-45b8fc58b8b3",
   "metadata": {},
   "outputs": [
    {
     "data": {
      "text/plain": [
       "'1030.89'"
      ]
     },
     "execution_count": 32,
     "metadata": {},
     "output_type": "execute_result"
    }
   ],
   "source": [
    "# criar outra celula para tratar esse caso '1,030.89'\n",
    "# substituir um valor por outro, mostrando os valores, vou subst uma , por nada \"\"\n",
    "# ao executar a mesma string sem a , => '1030.89'\n",
    "'1,030.89' .replace(\",\", \"\")"
   ]
  },
  {
   "cell_type": "code",
   "execution_count": 33,
   "id": "1f0fdb61-dad3-48cf-971d-a022c855f2f4",
   "metadata": {},
   "outputs": [
    {
     "data": {
      "text/plain": [
       "0       613.99\n",
       "1       624.04\n",
       "2       634.25\n",
       "3       647.28\n",
       "4       662.40\n",
       "         ...  \n",
       "4414    782.09\n",
       "4415    781.50\n",
       "4416    719.96\n",
       "4417    520.17\n",
       "4418    526.33\n",
       "Name:  GDP_pp , Length: 4419, dtype: float64"
      ]
     },
     "execution_count": 33,
     "metadata": {},
     "output_type": "execute_result"
    }
   ],
   "source": [
    "# substituir os valores da ,\n",
    "# df_gdp[\"gdp_pp\"] = \n",
    "df_gdp[\" GDP_pp \"].apply(lambda x: float(x.split()[0].replace(\",\", \"\")))"
   ]
  },
  {
   "cell_type": "code",
   "execution_count": 34,
   "id": "de339cca-394b-4881-9c15-2c80c9ee9695",
   "metadata": {},
   "outputs": [],
   "source": [
    "# substituir os valores da , => serei limpa\n",
    "df_gdp[\"gdp_pp\"] = df_gdp[\" GDP_pp \"].apply(lambda x: float(x.split()[0].replace(\",\", \"\")))"
   ]
  },
  {
   "cell_type": "code",
   "execution_count": 35,
   "id": "a298beaf-a631-4a07-a5f3-09b4c7ef495c",
   "metadata": {},
   "outputs": [
    {
     "data": {
      "text/html": [
       "<div>\n",
       "<style scoped>\n",
       "    .dataframe tbody tr th:only-of-type {\n",
       "        vertical-align: middle;\n",
       "    }\n",
       "\n",
       "    .dataframe tbody tr th {\n",
       "        vertical-align: top;\n",
       "    }\n",
       "\n",
       "    .dataframe thead th {\n",
       "        text-align: right;\n",
       "    }\n",
       "</style>\n",
       "<table border=\"1\" class=\"dataframe\">\n",
       "  <thead>\n",
       "    <tr style=\"text-align: right;\">\n",
       "      <th></th>\n",
       "      <th>Country</th>\n",
       "      <th>Region</th>\n",
       "      <th>Year</th>\n",
       "      <th>GDP_pp</th>\n",
       "      <th>gdp_pp</th>\n",
       "    </tr>\n",
       "  </thead>\n",
       "  <tbody>\n",
       "    <tr>\n",
       "      <th>0</th>\n",
       "      <td>Afghanistan</td>\n",
       "      <td>Middle East, North Africa, and Greater Arabia</td>\n",
       "      <td>1901</td>\n",
       "      <td>613.99</td>\n",
       "      <td>613.99</td>\n",
       "    </tr>\n",
       "    <tr>\n",
       "      <th>1</th>\n",
       "      <td>Afghanistan</td>\n",
       "      <td>Middle East, North Africa, and Greater Arabia</td>\n",
       "      <td>1906</td>\n",
       "      <td>624.04</td>\n",
       "      <td>624.04</td>\n",
       "    </tr>\n",
       "    <tr>\n",
       "      <th>2</th>\n",
       "      <td>Afghanistan</td>\n",
       "      <td>Middle East, North Africa, and Greater Arabia</td>\n",
       "      <td>1911</td>\n",
       "      <td>634.25</td>\n",
       "      <td>634.25</td>\n",
       "    </tr>\n",
       "    <tr>\n",
       "      <th>3</th>\n",
       "      <td>Afghanistan</td>\n",
       "      <td>Middle East, North Africa, and Greater Arabia</td>\n",
       "      <td>1916</td>\n",
       "      <td>647.28</td>\n",
       "      <td>647.28</td>\n",
       "    </tr>\n",
       "    <tr>\n",
       "      <th>4</th>\n",
       "      <td>Afghanistan</td>\n",
       "      <td>Middle East, North Africa, and Greater Arabia</td>\n",
       "      <td>1921</td>\n",
       "      <td>662.40</td>\n",
       "      <td>662.40</td>\n",
       "    </tr>\n",
       "    <tr>\n",
       "      <th>5</th>\n",
       "      <td>Afghanistan</td>\n",
       "      <td>Middle East, North Africa, and Greater Arabia</td>\n",
       "      <td>1926</td>\n",
       "      <td>677.87</td>\n",
       "      <td>677.87</td>\n",
       "    </tr>\n",
       "    <tr>\n",
       "      <th>6</th>\n",
       "      <td>Afghanistan</td>\n",
       "      <td>Middle East, North Africa, and Greater Arabia</td>\n",
       "      <td>1931</td>\n",
       "      <td>693.71</td>\n",
       "      <td>693.71</td>\n",
       "    </tr>\n",
       "    <tr>\n",
       "      <th>7</th>\n",
       "      <td>Afghanistan</td>\n",
       "      <td>Middle East, North Africa, and Greater Arabia</td>\n",
       "      <td>1936</td>\n",
       "      <td>709.91</td>\n",
       "      <td>709.91</td>\n",
       "    </tr>\n",
       "    <tr>\n",
       "      <th>8</th>\n",
       "      <td>Afghanistan</td>\n",
       "      <td>Middle East, North Africa, and Greater Arabia</td>\n",
       "      <td>1941</td>\n",
       "      <td>726.49</td>\n",
       "      <td>726.49</td>\n",
       "    </tr>\n",
       "    <tr>\n",
       "      <th>9</th>\n",
       "      <td>Afghanistan</td>\n",
       "      <td>Middle East, North Africa, and Greater Arabia</td>\n",
       "      <td>1946</td>\n",
       "      <td>743.46</td>\n",
       "      <td>743.46</td>\n",
       "    </tr>\n",
       "    <tr>\n",
       "      <th>10</th>\n",
       "      <td>Afghanistan</td>\n",
       "      <td>Middle East, North Africa, and Greater Arabia</td>\n",
       "      <td>1951</td>\n",
       "      <td>766.75</td>\n",
       "      <td>766.75</td>\n",
       "    </tr>\n",
       "    <tr>\n",
       "      <th>11</th>\n",
       "      <td>Afghanistan</td>\n",
       "      <td>Middle East, North Africa, and Greater Arabia</td>\n",
       "      <td>1956</td>\n",
       "      <td>837.07</td>\n",
       "      <td>837.07</td>\n",
       "    </tr>\n",
       "    <tr>\n",
       "      <th>12</th>\n",
       "      <td>Afghanistan</td>\n",
       "      <td>Middle East, North Africa, and Greater Arabia</td>\n",
       "      <td>1961</td>\n",
       "      <td>857.36</td>\n",
       "      <td>857.36</td>\n",
       "    </tr>\n",
       "    <tr>\n",
       "      <th>13</th>\n",
       "      <td>Afghanistan</td>\n",
       "      <td>Middle East, North Africa, and Greater Arabia</td>\n",
       "      <td>1966</td>\n",
       "      <td>833.61</td>\n",
       "      <td>833.61</td>\n",
       "    </tr>\n",
       "    <tr>\n",
       "      <th>14</th>\n",
       "      <td>Afghanistan</td>\n",
       "      <td>Middle East, North Africa, and Greater Arabia</td>\n",
       "      <td>1971</td>\n",
       "      <td>773.70</td>\n",
       "      <td>773.70</td>\n",
       "    </tr>\n",
       "    <tr>\n",
       "      <th>15</th>\n",
       "      <td>Afghanistan</td>\n",
       "      <td>Middle East, North Africa, and Greater Arabia</td>\n",
       "      <td>1976</td>\n",
       "      <td>866.19</td>\n",
       "      <td>866.19</td>\n",
       "    </tr>\n",
       "    <tr>\n",
       "      <th>16</th>\n",
       "      <td>Afghanistan</td>\n",
       "      <td>Middle East, North Africa, and Greater Arabia</td>\n",
       "      <td>1981</td>\n",
       "      <td>896.86</td>\n",
       "      <td>896.86</td>\n",
       "    </tr>\n",
       "    <tr>\n",
       "      <th>17</th>\n",
       "      <td>Afghanistan</td>\n",
       "      <td>Middle East, North Africa, and Greater Arabia</td>\n",
       "      <td>1986</td>\n",
       "      <td>1,030.89</td>\n",
       "      <td>1030.89</td>\n",
       "    </tr>\n",
       "    <tr>\n",
       "      <th>18</th>\n",
       "      <td>Afghanistan</td>\n",
       "      <td>Middle East, North Africa, and Greater Arabia</td>\n",
       "      <td>1991</td>\n",
       "      <td>705.45</td>\n",
       "      <td>705.45</td>\n",
       "    </tr>\n",
       "    <tr>\n",
       "      <th>19</th>\n",
       "      <td>Afghanistan</td>\n",
       "      <td>Middle East, North Africa, and Greater Arabia</td>\n",
       "      <td>1996</td>\n",
       "      <td>617.91</td>\n",
       "      <td>617.91</td>\n",
       "    </tr>\n",
       "  </tbody>\n",
       "</table>\n",
       "</div>"
      ],
      "text/plain": [
       "        Country                                         Region  Year  \\\n",
       "0   Afghanistan  Middle East, North Africa, and Greater Arabia  1901   \n",
       "1   Afghanistan  Middle East, North Africa, and Greater Arabia  1906   \n",
       "2   Afghanistan  Middle East, North Africa, and Greater Arabia  1911   \n",
       "3   Afghanistan  Middle East, North Africa, and Greater Arabia  1916   \n",
       "4   Afghanistan  Middle East, North Africa, and Greater Arabia  1921   \n",
       "5   Afghanistan  Middle East, North Africa, and Greater Arabia  1926   \n",
       "6   Afghanistan  Middle East, North Africa, and Greater Arabia  1931   \n",
       "7   Afghanistan  Middle East, North Africa, and Greater Arabia  1936   \n",
       "8   Afghanistan  Middle East, North Africa, and Greater Arabia  1941   \n",
       "9   Afghanistan  Middle East, North Africa, and Greater Arabia  1946   \n",
       "10  Afghanistan  Middle East, North Africa, and Greater Arabia  1951   \n",
       "11  Afghanistan  Middle East, North Africa, and Greater Arabia  1956   \n",
       "12  Afghanistan  Middle East, North Africa, and Greater Arabia  1961   \n",
       "13  Afghanistan  Middle East, North Africa, and Greater Arabia  1966   \n",
       "14  Afghanistan  Middle East, North Africa, and Greater Arabia  1971   \n",
       "15  Afghanistan  Middle East, North Africa, and Greater Arabia  1976   \n",
       "16  Afghanistan  Middle East, North Africa, and Greater Arabia  1981   \n",
       "17  Afghanistan  Middle East, North Africa, and Greater Arabia  1986   \n",
       "18  Afghanistan  Middle East, North Africa, and Greater Arabia  1991   \n",
       "19  Afghanistan  Middle East, North Africa, and Greater Arabia  1996   \n",
       "\n",
       "       GDP_pp    gdp_pp  \n",
       "0      613.99    613.99  \n",
       "1      624.04    624.04  \n",
       "2      634.25    634.25  \n",
       "3      647.28    647.28  \n",
       "4      662.40    662.40  \n",
       "5      677.87    677.87  \n",
       "6      693.71    693.71  \n",
       "7      709.91    709.91  \n",
       "8      726.49    726.49  \n",
       "9      743.46    743.46  \n",
       "10     766.75    766.75  \n",
       "11     837.07    837.07  \n",
       "12     857.36    857.36  \n",
       "13     833.61    833.61  \n",
       "14     773.70    773.70  \n",
       "15     866.19    866.19  \n",
       "16     896.86    896.86  \n",
       "17   1,030.89   1030.89  \n",
       "18     705.45    705.45  \n",
       "19     617.91    617.91  "
      ]
     },
     "execution_count": 35,
     "metadata": {},
     "output_type": "execute_result"
    }
   ],
   "source": [
    "df_gdp.head(20)"
   ]
  },
  {
   "cell_type": "code",
   "execution_count": 36,
   "id": "3e6cce85-6e6f-4c3d-8f27-3deafd6ac7ef",
   "metadata": {},
   "outputs": [],
   "source": [
    "# deletar a coluna que nao importa mais com , e string GDP_pp\n",
    "del df_gdp[\" GDP_pp \"]\n"
   ]
  },
  {
   "cell_type": "code",
   "execution_count": 37,
   "id": "3d6b844c-df54-4af7-b256-7621a0bd94cb",
   "metadata": {},
   "outputs": [
    {
     "data": {
      "text/html": [
       "<div>\n",
       "<style scoped>\n",
       "    .dataframe tbody tr th:only-of-type {\n",
       "        vertical-align: middle;\n",
       "    }\n",
       "\n",
       "    .dataframe tbody tr th {\n",
       "        vertical-align: top;\n",
       "    }\n",
       "\n",
       "    .dataframe thead th {\n",
       "        text-align: right;\n",
       "    }\n",
       "</style>\n",
       "<table border=\"1\" class=\"dataframe\">\n",
       "  <thead>\n",
       "    <tr style=\"text-align: right;\">\n",
       "      <th></th>\n",
       "      <th>Country</th>\n",
       "      <th>Region</th>\n",
       "      <th>Year</th>\n",
       "      <th>gdp_pp</th>\n",
       "    </tr>\n",
       "  </thead>\n",
       "  <tbody>\n",
       "    <tr>\n",
       "      <th>0</th>\n",
       "      <td>Afghanistan</td>\n",
       "      <td>Middle East, North Africa, and Greater Arabia</td>\n",
       "      <td>1901</td>\n",
       "      <td>613.99</td>\n",
       "    </tr>\n",
       "    <tr>\n",
       "      <th>1</th>\n",
       "      <td>Afghanistan</td>\n",
       "      <td>Middle East, North Africa, and Greater Arabia</td>\n",
       "      <td>1906</td>\n",
       "      <td>624.04</td>\n",
       "    </tr>\n",
       "    <tr>\n",
       "      <th>2</th>\n",
       "      <td>Afghanistan</td>\n",
       "      <td>Middle East, North Africa, and Greater Arabia</td>\n",
       "      <td>1911</td>\n",
       "      <td>634.25</td>\n",
       "    </tr>\n",
       "    <tr>\n",
       "      <th>3</th>\n",
       "      <td>Afghanistan</td>\n",
       "      <td>Middle East, North Africa, and Greater Arabia</td>\n",
       "      <td>1916</td>\n",
       "      <td>647.28</td>\n",
       "    </tr>\n",
       "    <tr>\n",
       "      <th>4</th>\n",
       "      <td>Afghanistan</td>\n",
       "      <td>Middle East, North Africa, and Greater Arabia</td>\n",
       "      <td>1921</td>\n",
       "      <td>662.40</td>\n",
       "    </tr>\n",
       "    <tr>\n",
       "      <th>5</th>\n",
       "      <td>Afghanistan</td>\n",
       "      <td>Middle East, North Africa, and Greater Arabia</td>\n",
       "      <td>1926</td>\n",
       "      <td>677.87</td>\n",
       "    </tr>\n",
       "    <tr>\n",
       "      <th>6</th>\n",
       "      <td>Afghanistan</td>\n",
       "      <td>Middle East, North Africa, and Greater Arabia</td>\n",
       "      <td>1931</td>\n",
       "      <td>693.71</td>\n",
       "    </tr>\n",
       "    <tr>\n",
       "      <th>7</th>\n",
       "      <td>Afghanistan</td>\n",
       "      <td>Middle East, North Africa, and Greater Arabia</td>\n",
       "      <td>1936</td>\n",
       "      <td>709.91</td>\n",
       "    </tr>\n",
       "    <tr>\n",
       "      <th>8</th>\n",
       "      <td>Afghanistan</td>\n",
       "      <td>Middle East, North Africa, and Greater Arabia</td>\n",
       "      <td>1941</td>\n",
       "      <td>726.49</td>\n",
       "    </tr>\n",
       "    <tr>\n",
       "      <th>9</th>\n",
       "      <td>Afghanistan</td>\n",
       "      <td>Middle East, North Africa, and Greater Arabia</td>\n",
       "      <td>1946</td>\n",
       "      <td>743.46</td>\n",
       "    </tr>\n",
       "    <tr>\n",
       "      <th>10</th>\n",
       "      <td>Afghanistan</td>\n",
       "      <td>Middle East, North Africa, and Greater Arabia</td>\n",
       "      <td>1951</td>\n",
       "      <td>766.75</td>\n",
       "    </tr>\n",
       "    <tr>\n",
       "      <th>11</th>\n",
       "      <td>Afghanistan</td>\n",
       "      <td>Middle East, North Africa, and Greater Arabia</td>\n",
       "      <td>1956</td>\n",
       "      <td>837.07</td>\n",
       "    </tr>\n",
       "    <tr>\n",
       "      <th>12</th>\n",
       "      <td>Afghanistan</td>\n",
       "      <td>Middle East, North Africa, and Greater Arabia</td>\n",
       "      <td>1961</td>\n",
       "      <td>857.36</td>\n",
       "    </tr>\n",
       "    <tr>\n",
       "      <th>13</th>\n",
       "      <td>Afghanistan</td>\n",
       "      <td>Middle East, North Africa, and Greater Arabia</td>\n",
       "      <td>1966</td>\n",
       "      <td>833.61</td>\n",
       "    </tr>\n",
       "    <tr>\n",
       "      <th>14</th>\n",
       "      <td>Afghanistan</td>\n",
       "      <td>Middle East, North Africa, and Greater Arabia</td>\n",
       "      <td>1971</td>\n",
       "      <td>773.70</td>\n",
       "    </tr>\n",
       "    <tr>\n",
       "      <th>15</th>\n",
       "      <td>Afghanistan</td>\n",
       "      <td>Middle East, North Africa, and Greater Arabia</td>\n",
       "      <td>1976</td>\n",
       "      <td>866.19</td>\n",
       "    </tr>\n",
       "    <tr>\n",
       "      <th>16</th>\n",
       "      <td>Afghanistan</td>\n",
       "      <td>Middle East, North Africa, and Greater Arabia</td>\n",
       "      <td>1981</td>\n",
       "      <td>896.86</td>\n",
       "    </tr>\n",
       "    <tr>\n",
       "      <th>17</th>\n",
       "      <td>Afghanistan</td>\n",
       "      <td>Middle East, North Africa, and Greater Arabia</td>\n",
       "      <td>1986</td>\n",
       "      <td>1030.89</td>\n",
       "    </tr>\n",
       "    <tr>\n",
       "      <th>18</th>\n",
       "      <td>Afghanistan</td>\n",
       "      <td>Middle East, North Africa, and Greater Arabia</td>\n",
       "      <td>1991</td>\n",
       "      <td>705.45</td>\n",
       "    </tr>\n",
       "    <tr>\n",
       "      <th>19</th>\n",
       "      <td>Afghanistan</td>\n",
       "      <td>Middle East, North Africa, and Greater Arabia</td>\n",
       "      <td>1996</td>\n",
       "      <td>617.91</td>\n",
       "    </tr>\n",
       "  </tbody>\n",
       "</table>\n",
       "</div>"
      ],
      "text/plain": [
       "        Country                                         Region  Year   gdp_pp\n",
       "0   Afghanistan  Middle East, North Africa, and Greater Arabia  1901   613.99\n",
       "1   Afghanistan  Middle East, North Africa, and Greater Arabia  1906   624.04\n",
       "2   Afghanistan  Middle East, North Africa, and Greater Arabia  1911   634.25\n",
       "3   Afghanistan  Middle East, North Africa, and Greater Arabia  1916   647.28\n",
       "4   Afghanistan  Middle East, North Africa, and Greater Arabia  1921   662.40\n",
       "5   Afghanistan  Middle East, North Africa, and Greater Arabia  1926   677.87\n",
       "6   Afghanistan  Middle East, North Africa, and Greater Arabia  1931   693.71\n",
       "7   Afghanistan  Middle East, North Africa, and Greater Arabia  1936   709.91\n",
       "8   Afghanistan  Middle East, North Africa, and Greater Arabia  1941   726.49\n",
       "9   Afghanistan  Middle East, North Africa, and Greater Arabia  1946   743.46\n",
       "10  Afghanistan  Middle East, North Africa, and Greater Arabia  1951   766.75\n",
       "11  Afghanistan  Middle East, North Africa, and Greater Arabia  1956   837.07\n",
       "12  Afghanistan  Middle East, North Africa, and Greater Arabia  1961   857.36\n",
       "13  Afghanistan  Middle East, North Africa, and Greater Arabia  1966   833.61\n",
       "14  Afghanistan  Middle East, North Africa, and Greater Arabia  1971   773.70\n",
       "15  Afghanistan  Middle East, North Africa, and Greater Arabia  1976   866.19\n",
       "16  Afghanistan  Middle East, North Africa, and Greater Arabia  1981   896.86\n",
       "17  Afghanistan  Middle East, North Africa, and Greater Arabia  1986  1030.89\n",
       "18  Afghanistan  Middle East, North Africa, and Greater Arabia  1991   705.45\n",
       "19  Afghanistan  Middle East, North Africa, and Greater Arabia  1996   617.91"
      ]
     },
     "execution_count": 37,
     "metadata": {},
     "output_type": "execute_result"
    }
   ],
   "source": [
    "df_gdp.head(20)"
   ]
  },
  {
   "cell_type": "code",
   "execution_count": 38,
   "id": "d6889f3c-0d63-4ba7-b7ae-1fa9cc1153b2",
   "metadata": {},
   "outputs": [
    {
     "data": {
      "text/html": [
       "<div>\n",
       "<style scoped>\n",
       "    .dataframe tbody tr th:only-of-type {\n",
       "        vertical-align: middle;\n",
       "    }\n",
       "\n",
       "    .dataframe tbody tr th {\n",
       "        vertical-align: top;\n",
       "    }\n",
       "\n",
       "    .dataframe thead th {\n",
       "        text-align: right;\n",
       "    }\n",
       "</style>\n",
       "<table border=\"1\" class=\"dataframe\">\n",
       "  <thead>\n",
       "    <tr style=\"text-align: right;\">\n",
       "      <th></th>\n",
       "      <th>Country</th>\n",
       "      <th>Region</th>\n",
       "      <th>Year</th>\n",
       "      <th>gdp_pp</th>\n",
       "    </tr>\n",
       "  </thead>\n",
       "  <tbody>\n",
       "    <tr>\n",
       "      <th>0</th>\n",
       "      <td>Afghanistan</td>\n",
       "      <td>Middle East, North Africa, and Greater Arabia</td>\n",
       "      <td>1901</td>\n",
       "      <td>613.99</td>\n",
       "    </tr>\n",
       "    <tr>\n",
       "      <th>1</th>\n",
       "      <td>Afghanistan</td>\n",
       "      <td>Middle East, North Africa, and Greater Arabia</td>\n",
       "      <td>1906</td>\n",
       "      <td>624.04</td>\n",
       "    </tr>\n",
       "    <tr>\n",
       "      <th>2</th>\n",
       "      <td>Afghanistan</td>\n",
       "      <td>Middle East, North Africa, and Greater Arabia</td>\n",
       "      <td>1911</td>\n",
       "      <td>634.25</td>\n",
       "    </tr>\n",
       "    <tr>\n",
       "      <th>3</th>\n",
       "      <td>Afghanistan</td>\n",
       "      <td>Middle East, North Africa, and Greater Arabia</td>\n",
       "      <td>1916</td>\n",
       "      <td>647.28</td>\n",
       "    </tr>\n",
       "    <tr>\n",
       "      <th>4</th>\n",
       "      <td>Afghanistan</td>\n",
       "      <td>Middle East, North Africa, and Greater Arabia</td>\n",
       "      <td>1921</td>\n",
       "      <td>662.40</td>\n",
       "    </tr>\n",
       "    <tr>\n",
       "      <th>5</th>\n",
       "      <td>Afghanistan</td>\n",
       "      <td>Middle East, North Africa, and Greater Arabia</td>\n",
       "      <td>1926</td>\n",
       "      <td>677.87</td>\n",
       "    </tr>\n",
       "    <tr>\n",
       "      <th>6</th>\n",
       "      <td>Afghanistan</td>\n",
       "      <td>Middle East, North Africa, and Greater Arabia</td>\n",
       "      <td>1931</td>\n",
       "      <td>693.71</td>\n",
       "    </tr>\n",
       "    <tr>\n",
       "      <th>7</th>\n",
       "      <td>Afghanistan</td>\n",
       "      <td>Middle East, North Africa, and Greater Arabia</td>\n",
       "      <td>1936</td>\n",
       "      <td>709.91</td>\n",
       "    </tr>\n",
       "    <tr>\n",
       "      <th>8</th>\n",
       "      <td>Afghanistan</td>\n",
       "      <td>Middle East, North Africa, and Greater Arabia</td>\n",
       "      <td>1941</td>\n",
       "      <td>726.49</td>\n",
       "    </tr>\n",
       "    <tr>\n",
       "      <th>9</th>\n",
       "      <td>Afghanistan</td>\n",
       "      <td>Middle East, North Africa, and Greater Arabia</td>\n",
       "      <td>1946</td>\n",
       "      <td>743.46</td>\n",
       "    </tr>\n",
       "    <tr>\n",
       "      <th>10</th>\n",
       "      <td>Afghanistan</td>\n",
       "      <td>Middle East, North Africa, and Greater Arabia</td>\n",
       "      <td>1951</td>\n",
       "      <td>766.75</td>\n",
       "    </tr>\n",
       "    <tr>\n",
       "      <th>11</th>\n",
       "      <td>Afghanistan</td>\n",
       "      <td>Middle East, North Africa, and Greater Arabia</td>\n",
       "      <td>1956</td>\n",
       "      <td>837.07</td>\n",
       "    </tr>\n",
       "    <tr>\n",
       "      <th>12</th>\n",
       "      <td>Afghanistan</td>\n",
       "      <td>Middle East, North Africa, and Greater Arabia</td>\n",
       "      <td>1961</td>\n",
       "      <td>857.36</td>\n",
       "    </tr>\n",
       "    <tr>\n",
       "      <th>13</th>\n",
       "      <td>Afghanistan</td>\n",
       "      <td>Middle East, North Africa, and Greater Arabia</td>\n",
       "      <td>1966</td>\n",
       "      <td>833.61</td>\n",
       "    </tr>\n",
       "    <tr>\n",
       "      <th>14</th>\n",
       "      <td>Afghanistan</td>\n",
       "      <td>Middle East, North Africa, and Greater Arabia</td>\n",
       "      <td>1971</td>\n",
       "      <td>773.70</td>\n",
       "    </tr>\n",
       "    <tr>\n",
       "      <th>15</th>\n",
       "      <td>Afghanistan</td>\n",
       "      <td>Middle East, North Africa, and Greater Arabia</td>\n",
       "      <td>1976</td>\n",
       "      <td>866.19</td>\n",
       "    </tr>\n",
       "    <tr>\n",
       "      <th>16</th>\n",
       "      <td>Afghanistan</td>\n",
       "      <td>Middle East, North Africa, and Greater Arabia</td>\n",
       "      <td>1981</td>\n",
       "      <td>896.86</td>\n",
       "    </tr>\n",
       "    <tr>\n",
       "      <th>17</th>\n",
       "      <td>Afghanistan</td>\n",
       "      <td>Middle East, North Africa, and Greater Arabia</td>\n",
       "      <td>1986</td>\n",
       "      <td>1030.89</td>\n",
       "    </tr>\n",
       "    <tr>\n",
       "      <th>18</th>\n",
       "      <td>Afghanistan</td>\n",
       "      <td>Middle East, North Africa, and Greater Arabia</td>\n",
       "      <td>1991</td>\n",
       "      <td>705.45</td>\n",
       "    </tr>\n",
       "    <tr>\n",
       "      <th>19</th>\n",
       "      <td>Afghanistan</td>\n",
       "      <td>Middle East, North Africa, and Greater Arabia</td>\n",
       "      <td>1996</td>\n",
       "      <td>617.91</td>\n",
       "    </tr>\n",
       "  </tbody>\n",
       "</table>\n",
       "</div>"
      ],
      "text/plain": [
       "        Country                                         Region  Year   gdp_pp\n",
       "0   Afghanistan  Middle East, North Africa, and Greater Arabia  1901   613.99\n",
       "1   Afghanistan  Middle East, North Africa, and Greater Arabia  1906   624.04\n",
       "2   Afghanistan  Middle East, North Africa, and Greater Arabia  1911   634.25\n",
       "3   Afghanistan  Middle East, North Africa, and Greater Arabia  1916   647.28\n",
       "4   Afghanistan  Middle East, North Africa, and Greater Arabia  1921   662.40\n",
       "5   Afghanistan  Middle East, North Africa, and Greater Arabia  1926   677.87\n",
       "6   Afghanistan  Middle East, North Africa, and Greater Arabia  1931   693.71\n",
       "7   Afghanistan  Middle East, North Africa, and Greater Arabia  1936   709.91\n",
       "8   Afghanistan  Middle East, North Africa, and Greater Arabia  1941   726.49\n",
       "9   Afghanistan  Middle East, North Africa, and Greater Arabia  1946   743.46\n",
       "10  Afghanistan  Middle East, North Africa, and Greater Arabia  1951   766.75\n",
       "11  Afghanistan  Middle East, North Africa, and Greater Arabia  1956   837.07\n",
       "12  Afghanistan  Middle East, North Africa, and Greater Arabia  1961   857.36\n",
       "13  Afghanistan  Middle East, North Africa, and Greater Arabia  1966   833.61\n",
       "14  Afghanistan  Middle East, North Africa, and Greater Arabia  1971   773.70\n",
       "15  Afghanistan  Middle East, North Africa, and Greater Arabia  1976   866.19\n",
       "16  Afghanistan  Middle East, North Africa, and Greater Arabia  1981   896.86\n",
       "17  Afghanistan  Middle East, North Africa, and Greater Arabia  1986  1030.89\n",
       "18  Afghanistan  Middle East, North Africa, and Greater Arabia  1991   705.45\n",
       "19  Afghanistan  Middle East, North Africa, and Greater Arabia  1996   617.91"
      ]
     },
     "execution_count": 38,
     "metadata": {},
     "output_type": "execute_result"
    }
   ],
   "source": [
    "# conjunto de dados Limpo, sem os pontos ou outro dado sem importancia para trab a tabela\n",
    "df_gdp.head(20)"
   ]
  },
  {
   "cell_type": "code",
   "execution_count": 39,
   "id": "26d4b17a-830d-4717-ae4d-aad9f1a62869",
   "metadata": {},
   "outputs": [
    {
     "data": {
      "text/html": [
       "<div>\n",
       "<style scoped>\n",
       "    .dataframe tbody tr th:only-of-type {\n",
       "        vertical-align: middle;\n",
       "    }\n",
       "\n",
       "    .dataframe tbody tr th {\n",
       "        vertical-align: top;\n",
       "    }\n",
       "\n",
       "    .dataframe thead th {\n",
       "        text-align: right;\n",
       "    }\n",
       "</style>\n",
       "<table border=\"1\" class=\"dataframe\">\n",
       "  <thead>\n",
       "    <tr style=\"text-align: right;\">\n",
       "      <th></th>\n",
       "      <th>Region</th>\n",
       "      <th>Year</th>\n",
       "      <th>gdp_pp</th>\n",
       "    </tr>\n",
       "    <tr>\n",
       "      <th>Country</th>\n",
       "      <th></th>\n",
       "      <th></th>\n",
       "      <th></th>\n",
       "    </tr>\n",
       "  </thead>\n",
       "  <tbody>\n",
       "    <tr>\n",
       "      <th>Afghanistan</th>\n",
       "      <td>Middle East, North Africa, and Greater Arabia</td>\n",
       "      <td>1901</td>\n",
       "      <td>595.04</td>\n",
       "    </tr>\n",
       "    <tr>\n",
       "      <th>Albania</th>\n",
       "      <td>Europe</td>\n",
       "      <td>1901</td>\n",
       "      <td>1062.01</td>\n",
       "    </tr>\n",
       "    <tr>\n",
       "      <th>Algeria</th>\n",
       "      <td>Middle East, North Africa, and Greater Arabia</td>\n",
       "      <td>1901</td>\n",
       "      <td>1807.76</td>\n",
       "    </tr>\n",
       "    <tr>\n",
       "      <th>Andorra</th>\n",
       "      <td>Europe</td>\n",
       "      <td>1901</td>\n",
       "      <td>3352.50</td>\n",
       "    </tr>\n",
       "    <tr>\n",
       "      <th>Angola</th>\n",
       "      <td>Sub-Saharan Africa</td>\n",
       "      <td>1901</td>\n",
       "      <td>525.76</td>\n",
       "    </tr>\n",
       "    <tr>\n",
       "      <th>...</th>\n",
       "      <td>...</td>\n",
       "      <td>...</td>\n",
       "      <td>...</td>\n",
       "    </tr>\n",
       "    <tr>\n",
       "      <th>Venezuela</th>\n",
       "      <td>South America</td>\n",
       "      <td>1901</td>\n",
       "      <td>766.21</td>\n",
       "    </tr>\n",
       "    <tr>\n",
       "      <th>Vietnam</th>\n",
       "      <td>Asia</td>\n",
       "      <td>1901</td>\n",
       "      <td>572.96</td>\n",
       "    </tr>\n",
       "    <tr>\n",
       "      <th>Yemen, Rep.</th>\n",
       "      <td>Middle East, North Africa, and Greater Arabia</td>\n",
       "      <td>1901</td>\n",
       "      <td>729.39</td>\n",
       "    </tr>\n",
       "    <tr>\n",
       "      <th>Zambia</th>\n",
       "      <td>Sub-Saharan Africa</td>\n",
       "      <td>1901</td>\n",
       "      <td>532.38</td>\n",
       "    </tr>\n",
       "    <tr>\n",
       "      <th>Zimbabwe</th>\n",
       "      <td>Sub-Saharan Africa</td>\n",
       "      <td>1901</td>\n",
       "      <td>385.69</td>\n",
       "    </tr>\n",
       "  </tbody>\n",
       "</table>\n",
       "<p>193 rows × 3 columns</p>\n",
       "</div>"
      ],
      "text/plain": [
       "                                                    Region  Year   gdp_pp\n",
       "Country                                                                  \n",
       "Afghanistan  Middle East, North Africa, and Greater Arabia  1901   595.04\n",
       "Albania                                             Europe  1901  1062.01\n",
       "Algeria      Middle East, North Africa, and Greater Arabia  1901  1807.76\n",
       "Andorra                                             Europe  1901  3352.50\n",
       "Angola                                  Sub-Saharan Africa  1901   525.76\n",
       "...                                                    ...   ...      ...\n",
       "Venezuela                                    South America  1901   766.21\n",
       "Vietnam                                               Asia  1901   572.96\n",
       "Yemen, Rep.  Middle East, North Africa, and Greater Arabia  1901   729.39\n",
       "Zambia                                  Sub-Saharan Africa  1901   532.38\n",
       "Zimbabwe                                Sub-Saharan Africa  1901   385.69\n",
       "\n",
       "[193 rows x 3 columns]"
      ]
     },
     "execution_count": 39,
     "metadata": {},
     "output_type": "execute_result"
    }
   ],
   "source": [
    "# com DF em maos limpo agora responder as perguntas\n",
    "\n",
    "# - Você conseguiria informar o primeiro valor registrado de cada país?\n",
    "# encontrar a menor ocorrencia por pais\n",
    "# fazer um groupby entre colunas\n",
    "\n",
    "df_gdp.groupby(\"Country\").min()"
   ]
  },
  {
   "cell_type": "code",
   "execution_count": 40,
   "id": "9c2c057b-ae58-47b4-ae74-a2a1f88ccc4d",
   "metadata": {},
   "outputs": [
    {
     "data": {
      "text/plain": [
       "pandas.core.frame.DataFrame"
      ]
     },
     "execution_count": 40,
     "metadata": {},
     "output_type": "execute_result"
    }
   ],
   "source": [
    "type(df_gdp)\n"
   ]
  },
  {
   "cell_type": "code",
   "execution_count": 41,
   "id": "ed870257-6fd1-499b-9638-252d111d6919",
   "metadata": {},
   "outputs": [
    {
     "data": {
      "text/plain": [
       "Country\n",
       "Afghanistan    1901\n",
       "Albania        1901\n",
       "Algeria        1901\n",
       "Andorra        1901\n",
       "Angola         1901\n",
       "               ... \n",
       "Venezuela      1901\n",
       "Vietnam        1901\n",
       "Yemen, Rep.    1901\n",
       "Zambia         1901\n",
       "Zimbabwe       1901\n",
       "Name: Year, Length: 193, dtype: int64"
      ]
     },
     "execution_count": 41,
     "metadata": {},
     "output_type": "execute_result"
    }
   ],
   "source": [
    "# agora acessar a coluna Year, min\n",
    "df_gdp.groupby(\"Country\")[\"Year\"].min()"
   ]
  },
  {
   "cell_type": "code",
   "execution_count": 42,
   "id": "851e65a4-0cf6-46e1-9f38-5c57cf750637",
   "metadata": {},
   "outputs": [
    {
     "data": {
      "text/plain": [
       "np.int64(1991)"
      ]
     },
     "execution_count": 42,
     "metadata": {},
     "output_type": "execute_result"
    }
   ],
   "source": [
    "# ver qdo comecaram os paises, max\n",
    "df_gdp.groupby(\"Country\")[\"Year\"].min().max()\n"
   ]
  },
  {
   "cell_type": "code",
   "execution_count": 43,
   "id": "861ff53e-5def-4cf7-a467-cad6fe912357",
   "metadata": {},
   "outputs": [
    {
     "data": {
      "text/plain": [
       "Year\n",
       "1901    192\n",
       "1991      1\n",
       "Name: count, dtype: int64"
      ]
     },
     "execution_count": 43,
     "metadata": {},
     "output_type": "execute_result"
    }
   ],
   "source": [
    "# que pais eh esse e que outras datas diferentes existem\n",
    "df_gdp.groupby(\"Country\")[\"Year\"].min().value_counts()"
   ]
  },
  {
   "cell_type": "code",
   "execution_count": 44,
   "id": "e7e02ba5-346a-4119-8d9e-86aebd8e6cfe",
   "metadata": {},
   "outputs": [
    {
     "data": {
      "text/plain": [
       "Country\n",
       "Kosovo    1991\n",
       "Name: Year, dtype: int64"
      ]
     },
     "execution_count": 44,
     "metadata": {},
     "output_type": "execute_result"
    }
   ],
   "source": [
    "# que pais eh esse: Fazer uma selecao no DF para ver que pais eh esse\n",
    "df_gdp.groupby(\"Country\")[\"Year\"].min()[df_gdp.groupby(\"Country\")[\"Year\"].min() == 1991]\n"
   ]
  },
  {
   "cell_type": "code",
   "execution_count": 45,
   "id": "dad92d14-ae8a-4dc7-a5ed-0c4003929a2b",
   "metadata": {},
   "outputs": [
    {
     "data": {
      "text/plain": [
       "Country              Zimbabwe\n",
       "Region     Sub-Saharan Africa\n",
       "Year                     1996\n",
       "gdp_pp               118681.3\n",
       "dtype: object"
      ]
     },
     "execution_count": 45,
     "metadata": {},
     "output_type": "execute_result"
    }
   ],
   "source": [
    "# preciso saber que data eh essa, a ultima data, antes da virada do seculo,\n",
    "# pega o valor maximo para essa ocorrencia => 1996\n",
    "df_gdp[df_gdp[\"Year\"] < 1999].max()\n",
    "\n"
   ]
  },
  {
   "cell_type": "code",
   "execution_count": 46,
   "id": "0715f9c0-84b1-487e-a3a7-c1c85a2c2408",
   "metadata": {},
   "outputs": [],
   "source": [
    "# - Informe as regiões com maiores crescimentos de PIB per capita no século passado.\n",
    "# separa em dois DF, primeira ocorrencia e da ultima ocorrencia\n",
    "# selecionar os paises no ano de 1901\n",
    "# DF\n",
    "\n",
    "# Selecionar os países no ano de 1901\n",
    "df_gdp_start = df_gdp[df_gdp[\"Year\"] == 1901]\n",
    "\n",
    "# Selecionar os países no ano de 1996\n",
    "df_gdp_end = df_gdp[df_gdp[\"Year\"] == 1996]\n"
   ]
  },
  {
   "cell_type": "code",
   "execution_count": 47,
   "id": "bd5cc72e-5b1b-4279-a502-a38afd23c2cc",
   "metadata": {},
   "outputs": [
    {
     "data": {
      "text/html": [
       "<div>\n",
       "<style scoped>\n",
       "    .dataframe tbody tr th:only-of-type {\n",
       "        vertical-align: middle;\n",
       "    }\n",
       "\n",
       "    .dataframe tbody tr th {\n",
       "        vertical-align: top;\n",
       "    }\n",
       "\n",
       "    .dataframe thead th {\n",
       "        text-align: right;\n",
       "    }\n",
       "</style>\n",
       "<table border=\"1\" class=\"dataframe\">\n",
       "  <thead>\n",
       "    <tr style=\"text-align: right;\">\n",
       "      <th></th>\n",
       "      <th>Country</th>\n",
       "      <th>Region</th>\n",
       "      <th>Year</th>\n",
       "      <th>gdp_pp</th>\n",
       "    </tr>\n",
       "  </thead>\n",
       "  <tbody>\n",
       "    <tr>\n",
       "      <th>19</th>\n",
       "      <td>Afghanistan</td>\n",
       "      <td>Middle East, North Africa, and Greater Arabia</td>\n",
       "      <td>1996</td>\n",
       "      <td>617.91</td>\n",
       "    </tr>\n",
       "    <tr>\n",
       "      <th>42</th>\n",
       "      <td>Albania</td>\n",
       "      <td>Europe</td>\n",
       "      <td>1996</td>\n",
       "      <td>3569.59</td>\n",
       "    </tr>\n",
       "    <tr>\n",
       "      <th>65</th>\n",
       "      <td>Algeria</td>\n",
       "      <td>Middle East, North Africa, and Greater Arabia</td>\n",
       "      <td>1996</td>\n",
       "      <td>4824.21</td>\n",
       "    </tr>\n",
       "    <tr>\n",
       "      <th>88</th>\n",
       "      <td>Andorra</td>\n",
       "      <td>Europe</td>\n",
       "      <td>1996</td>\n",
       "      <td>25839.07</td>\n",
       "    </tr>\n",
       "    <tr>\n",
       "      <th>111</th>\n",
       "      <td>Angola</td>\n",
       "      <td>Sub-Saharan Africa</td>\n",
       "      <td>1996</td>\n",
       "      <td>2157.35</td>\n",
       "    </tr>\n",
       "    <tr>\n",
       "      <th>...</th>\n",
       "      <td>...</td>\n",
       "      <td>...</td>\n",
       "      <td>...</td>\n",
       "      <td>...</td>\n",
       "    </tr>\n",
       "    <tr>\n",
       "      <th>4323</th>\n",
       "      <td>Venezuela</td>\n",
       "      <td>South America</td>\n",
       "      <td>1996</td>\n",
       "      <td>9725.53</td>\n",
       "    </tr>\n",
       "    <tr>\n",
       "      <th>4346</th>\n",
       "      <td>Vietnam</td>\n",
       "      <td>Asia</td>\n",
       "      <td>1996</td>\n",
       "      <td>1300.38</td>\n",
       "    </tr>\n",
       "    <tr>\n",
       "      <th>4369</th>\n",
       "      <td>Yemen, Rep.</td>\n",
       "      <td>Middle East, North Africa, and Greater Arabia</td>\n",
       "      <td>1996</td>\n",
       "      <td>2022.93</td>\n",
       "    </tr>\n",
       "    <tr>\n",
       "      <th>4392</th>\n",
       "      <td>Zambia</td>\n",
       "      <td>Sub-Saharan Africa</td>\n",
       "      <td>1996</td>\n",
       "      <td>1060.55</td>\n",
       "    </tr>\n",
       "    <tr>\n",
       "      <th>4415</th>\n",
       "      <td>Zimbabwe</td>\n",
       "      <td>Sub-Saharan Africa</td>\n",
       "      <td>1996</td>\n",
       "      <td>781.50</td>\n",
       "    </tr>\n",
       "  </tbody>\n",
       "</table>\n",
       "<p>193 rows × 4 columns</p>\n",
       "</div>"
      ],
      "text/plain": [
       "          Country                                         Region  Year  \\\n",
       "19    Afghanistan  Middle East, North Africa, and Greater Arabia  1996   \n",
       "42        Albania                                         Europe  1996   \n",
       "65        Algeria  Middle East, North Africa, and Greater Arabia  1996   \n",
       "88        Andorra                                         Europe  1996   \n",
       "111        Angola                             Sub-Saharan Africa  1996   \n",
       "...           ...                                            ...   ...   \n",
       "4323    Venezuela                                  South America  1996   \n",
       "4346      Vietnam                                           Asia  1996   \n",
       "4369  Yemen, Rep.  Middle East, North Africa, and Greater Arabia  1996   \n",
       "4392       Zambia                             Sub-Saharan Africa  1996   \n",
       "4415     Zimbabwe                             Sub-Saharan Africa  1996   \n",
       "\n",
       "        gdp_pp  \n",
       "19      617.91  \n",
       "42     3569.59  \n",
       "65     4824.21  \n",
       "88    25839.07  \n",
       "111    2157.35  \n",
       "...        ...  \n",
       "4323   9725.53  \n",
       "4346   1300.38  \n",
       "4369   2022.93  \n",
       "4392   1060.55  \n",
       "4415    781.50  \n",
       "\n",
       "[193 rows x 4 columns]"
      ]
     },
     "execution_count": 47,
     "metadata": {},
     "output_type": "execute_result"
    }
   ],
   "source": [
    "# primeiro faz um agrupamento por regiao\n",
    "df_gdp_end\n"
   ]
  },
  {
   "cell_type": "code",
   "execution_count": 48,
   "id": "da3d0638-155f-4d73-8add-c38ea2ff0b77",
   "metadata": {},
   "outputs": [
    {
     "data": {
      "text/plain": [
       "Region\n",
       "Asia                                             8.117615\n",
       "Australia and Oceania                            4.960754\n",
       "Central America and the Caribbean                5.064268\n",
       "Europe                                           6.940462\n",
       "Middle East, North Africa, and Greater Arabia    9.572159\n",
       "North America                                    6.897602\n",
       "South America                                    4.121237\n",
       "Sub-Saharan Africa                               3.486338\n",
       "Name: gdp_pp, dtype: float64"
      ]
     },
     "execution_count": 48,
     "metadata": {},
     "output_type": "execute_result"
    }
   ],
   "source": [
    "# calcular a media, entre os paises e multip por 100%\n",
    "df_gdp_end.groupby(\"Region\") [\"gdp_pp\"].mean() / df_gdp_start.groupby(\"Region\") [\"gdp_pp\"].mean()\n",
    "\n"
   ]
  },
  {
   "cell_type": "code",
   "execution_count": 49,
   "id": "72929419-26fb-48a4-9c2d-394dfe34fb36",
   "metadata": {},
   "outputs": [
    {
     "data": {
      "text/plain": [
       "Region\n",
       "Asia                                             811.761516\n",
       "Australia and Oceania                            496.075383\n",
       "Central America and the Caribbean                506.426789\n",
       "Europe                                           694.046167\n",
       "Middle East, North Africa, and Greater Arabia    957.215950\n",
       "North America                                    689.760175\n",
       "South America                                    412.123735\n",
       "Sub-Saharan Africa                               348.633780\n",
       "Name: gdp_pp, dtype: float64"
      ]
     },
     "execution_count": 49,
     "metadata": {},
     "output_type": "execute_result"
    }
   ],
   "source": [
    "# calcular a media, entre os paises e multip por 100%\n",
    "(df_gdp_end.groupby(\"Region\") [\"gdp_pp\"].mean() / df_gdp_start.groupby(\"Region\") [\"gdp_pp\"].mean()) * 100\n",
    "# PIB percapta por regioes => Asia 811.761516"
   ]
  },
  {
   "cell_type": "code",
   "execution_count": 50,
   "id": "079894b4-9265-4197-8ad6-492ab1b6668f",
   "metadata": {},
   "outputs": [
    {
     "data": {
      "text/plain": [
       "Region\n",
       "Sub-Saharan Africa                               348.633780\n",
       "South America                                    412.123735\n",
       "Australia and Oceania                            496.075383\n",
       "Central America and the Caribbean                506.426789\n",
       "North America                                    689.760175\n",
       "Europe                                           694.046167\n",
       "Asia                                             811.761516\n",
       "Middle East, North Africa, and Greater Arabia    957.215950\n",
       "Name: gdp_pp, dtype: float64"
      ]
     },
     "execution_count": 50,
     "metadata": {},
     "output_type": "execute_result"
    }
   ],
   "source": [
    "# - Informe as regiões com maiores crescimentos de PIB per capita no século passado.\n",
    "\n",
    "# ordenar os valores\n",
    "((df_gdp_end.groupby(\"Region\") [\"gdp_pp\"].mean() / df_gdp_start.groupby(\"Region\") [\"gdp_pp\"].mean()) * 100).sort_values()"
   ]
  },
  {
   "cell_type": "code",
   "execution_count": 51,
   "id": "712cb58c-67b6-41d9-916b-44db2a997b90",
   "metadata": {},
   "outputs": [
    {
     "data": {
      "image/png": "[encoded data removed]",
      "text/plain": [
       "<Figure size 1000x600 with 1 Axes>"
      ]
     },
     "metadata": {},
     "output_type": "display_data"
    }
   ],
   "source": [
    "# - Informe as regiões com maiores crescimentos de PIB per capita no século passado. Com grafico\n",
    "\n",
    "import matplotlib.pyplot as plt\n",
    "\n",
    "# Calcular o crescimento percentual do PIB per capita por região\n",
    "gdp_growth_by_region = (\n",
    "    (df_gdp_end.groupby(\"Region\")[\"gdp_pp\"].mean() / df_gdp_start.groupby(\"Region\")[\"gdp_pp\"].mean()) * 100\n",
    ").sort_values()\n",
    "\n",
    "# Plotar gráfico de barras\n",
    "plt.figure(figsize=(10, 6))\n",
    "gdp_growth_by_region.plot(kind=\"barh\", color=\"skyblue\")\n",
    "# kind=\"barh\" para um gráfico de barras horizontal (mais legível com nomes longos de regiões).\n",
    "\n",
    "plt.title(\"Crescimento percentual do PIB per capita por região (1901 a 1996)\")\n",
    "#Se quiser em ordem decrescente: .sort_values(ascending=False)\n",
    "\n",
    "plt.xlabel(\"Crescimento (%)\")\n",
    "plt.ylabel(\"Região\")\n",
    "plt.grid(axis='x', linestyle='--', alpha=0.7)\n",
    "plt.tight_layout()\n",
    "plt.show()\n"
   ]
  },
  {
   "cell_type": "code",
   "execution_count": null,
   "id": "c80b71c2-7b5a-4e02-8cbf-590ca96a5933",
   "metadata": {},
   "outputs": [],
   "source": []
  },
  {
   "cell_type": "code",
   "execution_count": 52,
   "id": "8905f4bd-d7ab-4a97-9960-48bba5773500",
   "metadata": {},
   "outputs": [
    {
     "data": {
      "text/html": [
       "<div>\n",
       "<style scoped>\n",
       "    .dataframe tbody tr th:only-of-type {\n",
       "        vertical-align: middle;\n",
       "    }\n",
       "\n",
       "    .dataframe tbody tr th {\n",
       "        vertical-align: top;\n",
       "    }\n",
       "\n",
       "    .dataframe thead th {\n",
       "        text-align: right;\n",
       "    }\n",
       "</style>\n",
       "<table border=\"1\" class=\"dataframe\">\n",
       "  <thead>\n",
       "    <tr style=\"text-align: right;\">\n",
       "      <th></th>\n",
       "      <th>Country</th>\n",
       "      <th>Region</th>\n",
       "      <th>Year</th>\n",
       "      <th>gdp_pp</th>\n",
       "    </tr>\n",
       "  </thead>\n",
       "  <tbody>\n",
       "    <tr>\n",
       "      <th>0</th>\n",
       "      <td>Afghanistan</td>\n",
       "      <td>Middle East, North Africa, and Greater Arabia</td>\n",
       "      <td>1901</td>\n",
       "      <td>613.99</td>\n",
       "    </tr>\n",
       "    <tr>\n",
       "      <th>1</th>\n",
       "      <td>Afghanistan</td>\n",
       "      <td>Middle East, North Africa, and Greater Arabia</td>\n",
       "      <td>1906</td>\n",
       "      <td>624.04</td>\n",
       "    </tr>\n",
       "    <tr>\n",
       "      <th>2</th>\n",
       "      <td>Afghanistan</td>\n",
       "      <td>Middle East, North Africa, and Greater Arabia</td>\n",
       "      <td>1911</td>\n",
       "      <td>634.25</td>\n",
       "    </tr>\n",
       "    <tr>\n",
       "      <th>3</th>\n",
       "      <td>Afghanistan</td>\n",
       "      <td>Middle East, North Africa, and Greater Arabia</td>\n",
       "      <td>1916</td>\n",
       "      <td>647.28</td>\n",
       "    </tr>\n",
       "    <tr>\n",
       "      <th>4</th>\n",
       "      <td>Afghanistan</td>\n",
       "      <td>Middle East, North Africa, and Greater Arabia</td>\n",
       "      <td>1921</td>\n",
       "      <td>662.40</td>\n",
       "    </tr>\n",
       "    <tr>\n",
       "      <th>...</th>\n",
       "      <td>...</td>\n",
       "      <td>...</td>\n",
       "      <td>...</td>\n",
       "      <td>...</td>\n",
       "    </tr>\n",
       "    <tr>\n",
       "      <th>4414</th>\n",
       "      <td>Zimbabwe</td>\n",
       "      <td>Sub-Saharan Africa</td>\n",
       "      <td>1991</td>\n",
       "      <td>782.09</td>\n",
       "    </tr>\n",
       "    <tr>\n",
       "      <th>4415</th>\n",
       "      <td>Zimbabwe</td>\n",
       "      <td>Sub-Saharan Africa</td>\n",
       "      <td>1996</td>\n",
       "      <td>781.50</td>\n",
       "    </tr>\n",
       "    <tr>\n",
       "      <th>4416</th>\n",
       "      <td>Zimbabwe</td>\n",
       "      <td>Sub-Saharan Africa</td>\n",
       "      <td>2001</td>\n",
       "      <td>719.96</td>\n",
       "    </tr>\n",
       "    <tr>\n",
       "      <th>4417</th>\n",
       "      <td>Zimbabwe</td>\n",
       "      <td>Sub-Saharan Africa</td>\n",
       "      <td>2006</td>\n",
       "      <td>520.17</td>\n",
       "    </tr>\n",
       "    <tr>\n",
       "      <th>4418</th>\n",
       "      <td>Zimbabwe</td>\n",
       "      <td>Sub-Saharan Africa</td>\n",
       "      <td>2011</td>\n",
       "      <td>526.33</td>\n",
       "    </tr>\n",
       "  </tbody>\n",
       "</table>\n",
       "<p>4419 rows × 4 columns</p>\n",
       "</div>"
      ],
      "text/plain": [
       "          Country                                         Region  Year  gdp_pp\n",
       "0     Afghanistan  Middle East, North Africa, and Greater Arabia  1901  613.99\n",
       "1     Afghanistan  Middle East, North Africa, and Greater Arabia  1906  624.04\n",
       "2     Afghanistan  Middle East, North Africa, and Greater Arabia  1911  634.25\n",
       "3     Afghanistan  Middle East, North Africa, and Greater Arabia  1916  647.28\n",
       "4     Afghanistan  Middle East, North Africa, and Greater Arabia  1921  662.40\n",
       "...           ...                                            ...   ...     ...\n",
       "4414     Zimbabwe                             Sub-Saharan Africa  1991  782.09\n",
       "4415     Zimbabwe                             Sub-Saharan Africa  1996  781.50\n",
       "4416     Zimbabwe                             Sub-Saharan Africa  2001  719.96\n",
       "4417     Zimbabwe                             Sub-Saharan Africa  2006  520.17\n",
       "4418     Zimbabwe                             Sub-Saharan Africa  2011  526.33\n",
       "\n",
       "[4419 rows x 4 columns]"
      ]
     },
     "execution_count": 52,
     "metadata": {},
     "output_type": "execute_result"
    }
   ],
   "source": [
    "# - Preecha os anos ausentes em cada país com uma estimativa, baseada na diferença entre o próximo registro e o anterior.\n",
    "# ver a diferenca para o proximo ano\n",
    "df_gdp\n"
   ]
  },
  {
   "cell_type": "code",
   "execution_count": 64,
   "id": "34659361-82e2-47cc-b617-eb04ef537ab4",
   "metadata": {},
   "outputs": [],
   "source": [
    "# para iniciar precisa de uma lista => # - Preecha os anos ausentes em cada país com uma estimativa, baseada na diferença entre o próximo registro e o anterior.\n",
    "# primeiro cria uma lista dos anos subsequentes, depois cria variacoes ano a ano, \n",
    "# array Year, usando a funcao np => inicianliza no primeiro ano e fim no ultimo\n",
    "\n",
    "arr_year = np.arange(df_gdp[\"Year\"].min(), df_gdp[\"Year\"].max())\n",
    "\n"
   ]
  },
  {
   "cell_type": "code",
   "execution_count": 65,
   "id": "e4edf5e6-222b-49bd-bdff-749220725fb8",
   "metadata": {},
   "outputs": [
    {
     "data": {
      "text/plain": [
       "array([1901, 1902, 1903, 1904, 1905, 1906, 1907, 1908, 1909, 1910, 1911,\n",
       "       1912, 1913, 1914, 1915, 1916, 1917, 1918, 1919, 1920, 1921, 1922,\n",
       "       1923, 1924, 1925, 1926, 1927, 1928, 1929, 1930, 1931, 1932, 1933,\n",
       "       1934, 1935, 1936, 1937, 1938, 1939, 1940, 1941, 1942, 1943, 1944,\n",
       "       1945, 1946, 1947, 1948, 1949, 1950, 1951, 1952, 1953, 1954, 1955,\n",
       "       1956, 1957, 1958, 1959, 1960, 1961, 1962, 1963, 1964, 1965, 1966,\n",
       "       1967, 1968, 1969, 1970, 1971, 1972, 1973, 1974, 1975, 1976, 1977,\n",
       "       1978, 1979, 1980, 1981, 1982, 1983, 1984, 1985, 1986, 1987, 1988,\n",
       "       1989, 1990, 1991, 1992, 1993, 1994, 1995, 1996, 1997, 1998, 1999,\n",
       "       2000, 2001, 2002, 2003, 2004, 2005, 2006, 2007, 2008, 2009, 2010])"
      ]
     },
     "execution_count": 65,
     "metadata": {},
     "output_type": "execute_result"
    }
   ],
   "source": [
    "arr_year # todos os anos nao esta incluido 2011"
   ]
  },
  {
   "cell_type": "code",
   "execution_count": null,
   "id": "33daac8d-155e-4db8-a567-a09cd2c8e0b1",
   "metadata": {},
   "outputs": [],
   "source": [
    "# proximo passo, remover os anos que nao estao no array"
   ]
  },
  {
   "cell_type": "code",
   "execution_count": null,
   "id": "8be865b7-5977-4302-b059-554aff864c13",
   "metadata": {},
   "outputs": [],
   "source": []
  },
  {
   "cell_type": "code",
   "execution_count": 53,
   "id": "c630d640-6cb7-4326-80ce-f689798650c5",
   "metadata": {},
   "outputs": [
    {
     "ename": "TypeError",
     "evalue": "arange() requires stop to be specified.",
     "output_type": "error",
     "traceback": [
      "\u001b[1;31m---------------------------------------------------------------------------\u001b[0m",
      "\u001b[1;31mTypeError\u001b[0m                                 Traceback (most recent call last)",
      "Cell \u001b[1;32mIn[53], line 5\u001b[0m\n\u001b[0;32m      1\u001b[0m \u001b[38;5;66;03m# para iniciar precisa de uma lista => # - Preecha os anos ausentes em cada país com uma estimativa, baseada na diferença entre o próximo registro e o anterior.\u001b[39;00m\n\u001b[0;32m      2\u001b[0m \u001b[38;5;66;03m# primeiro cria uma lista dos anos subsequentes, depois cria variacoes ano a ano, \u001b[39;00m\n\u001b[0;32m      3\u001b[0m \u001b[38;5;66;03m# array Year, usando a funcao np\u001b[39;00m\n\u001b[1;32m----> 5\u001b[0m arr_year \u001b[38;5;241m=\u001b[39m \u001b[43mnp\u001b[49m\u001b[38;5;241;43m.\u001b[39;49m\u001b[43marange\u001b[49m\u001b[43m(\u001b[49m\u001b[43m)\u001b[49m\n",
      "\u001b[1;31mTypeError\u001b[0m: arange() requires stop to be specified."
     ]
    }
   ],
   "source": [
    "\n",
    "\n"
   ]
  },
  {
   "cell_type": "code",
   "execution_count": null,
   "id": "8b3699c0-2428-4371-9697-6e01fb808a06",
   "metadata": {},
   "outputs": [],
   "source": []
  }
 ],
 "metadata": {
  "kernelspec": {
   "display_name": "Python 3 (ipykernel)",
   "language": "python",
   "name": "python3"
  },
  "language_info": {
   "codemirror_mode": {
    "name": "ipython",
    "version": 3
   },
   "file_extension": ".py",
   "mimetype": "text/x-python",
   "name": "python",
   "nbconvert_exporter": "python",
   "pygments_lexer": "ipython3",
   "version": "3.13.0"
  }
 },
 "nbformat": 4,
 "nbformat_minor": 5
}
