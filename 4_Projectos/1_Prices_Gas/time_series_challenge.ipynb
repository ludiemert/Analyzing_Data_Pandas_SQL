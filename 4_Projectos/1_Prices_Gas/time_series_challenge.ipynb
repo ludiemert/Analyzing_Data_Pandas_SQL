{
 "cells": [
  {
   "cell_type": "markdown",
   "id": "bef476c8-79bb-4eba-927c-4231967ba370",
   "metadata": {},
   "source": [
    "### DESAFIO: Crie uma tabela contendo uma serie temporal com a diferença absoluta e percentual entre os valores mais baratos e caros. Apresente também ao lado os estados na qual os maiores e menores preços foram registrados."
   ]
  },
  {
   "cell_type": "code",
   "execution_count": null,
   "id": "09edc246-a274-406d-b0c4-6114abcc49ee",
   "metadata": {},
   "outputs": [],
   "source": []
  }
 ],
 "metadata": {
  "kernelspec": {
   "display_name": "Python 3 (ipykernel)",
   "language": "python",
   "name": "python3"
  },
  "language_info": {
   "codemirror_mode": {
    "name": "ipython",
    "version": 3
   },
   "file_extension": ".py",
   "mimetype": "text/x-python",
   "name": "python",
   "nbconvert_exporter": "python",
   "pygments_lexer": "ipython3",
   "version": "3.13.0"
  }
 },
 "nbformat": 4,
 "nbformat_minor": 5
}
