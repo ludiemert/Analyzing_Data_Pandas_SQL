{
 "cells": [
  {
   "cell_type": "markdown",
   "id": "bef476c8-79bb-4eba-927c-4231967ba370",
   "metadata": {},
   "source": [
    "### DESAFIO: Crie uma tabela contendo uma serie temporal com a diferença absoluta e percentual entre os valores mais baratos e caros. Apresente também ao lado os estados na qual os maiores e menores preços foram registrados."
   ]
  },
  {
   "cell_type": "code",
   "execution_count": 1,
   "id": "09edc246-a274-406d-b0c4-6114abcc49ee",
   "metadata": {},
   "outputs": [],
   "source": [
    "import pandas as pd"
   ]
  },
  {
   "cell_type": "code",
   "execution_count": 2,
   "id": "cfa2b7db-f64b-40f1-b3dc-f73dbb530761",
   "metadata": {},
   "outputs": [],
   "source": [
    "df2_table_2001 = pd.read_csv(\"gasolina_2000.csv\")"
   ]
  },
  {
   "cell_type": "code",
   "execution_count": 4,
   "id": "bcdfe578-6f97-4753-9b37-5dd278174baa",
   "metadata": {},
   "outputs": [
    {
     "data": {
      "text/html": [
       "<div>\n",
       "<style scoped>\n",
       "    .dataframe tbody tr th:only-of-type {\n",
       "        vertical-align: middle;\n",
       "    }\n",
       "\n",
       "    .dataframe tbody tr th {\n",
       "        vertical-align: top;\n",
       "    }\n",
       "\n",
       "    .dataframe thead th {\n",
       "        text-align: right;\n",
       "    }\n",
       "</style>\n",
       "<table border=\"1\" class=\"dataframe\">\n",
       "  <thead>\n",
       "    <tr style=\"text-align: right;\">\n",
       "      <th></th>\n",
       "      <th>Unnamed: 0</th>\n",
       "      <th>DATA INICIAL</th>\n",
       "      <th>DATA FINAL</th>\n",
       "      <th>REGIÃO</th>\n",
       "      <th>ESTADO</th>\n",
       "      <th>PRODUTO</th>\n",
       "      <th>NÚMERO DE POSTOS PESQUISADOS</th>\n",
       "      <th>UNIDADE DE MEDIDA</th>\n",
       "      <th>PREÇO MÉDIO REVENDA</th>\n",
       "      <th>DESVIO PADRÃO REVENDA</th>\n",
       "      <th>PREÇO MÍNIMO REVENDA</th>\n",
       "      <th>PREÇO MÁXIMO REVENDA</th>\n",
       "      <th>MARGEM MÉDIA REVENDA</th>\n",
       "      <th>COEF DE VARIAÇÃO REVENDA</th>\n",
       "      <th>PREÇO MÉDIO DISTRIBUIÇÃO</th>\n",
       "      <th>DESVIO PADRÃO DISTRIBUIÇÃO</th>\n",
       "      <th>PREÇO MÍNIMO DISTRIBUIÇÃO</th>\n",
       "      <th>PREÇO MÁXIMO DISTRIBUIÇÃO</th>\n",
       "      <th>COEF DE VARIAÇÃO DISTRIBUIÇÃO</th>\n",
       "    </tr>\n",
       "  </thead>\n",
       "  <tbody>\n",
       "    <tr>\n",
       "      <th>0</th>\n",
       "      <td>0</td>\n",
       "      <td>2004-05-09</td>\n",
       "      <td>2004-05-15</td>\n",
       "      <td>CENTRO OESTE</td>\n",
       "      <td>DISTRITO FEDERAL</td>\n",
       "      <td>ETANOL HIDRATADO</td>\n",
       "      <td>127</td>\n",
       "      <td>R$/l</td>\n",
       "      <td>1.288</td>\n",
       "      <td>0.016</td>\n",
       "      <td>1.19</td>\n",
       "      <td>1.350</td>\n",
       "      <td>0.463</td>\n",
       "      <td>0.012</td>\n",
       "      <td>0.825</td>\n",
       "      <td>0.11</td>\n",
       "      <td>0.4201</td>\n",
       "      <td>0.9666</td>\n",
       "      <td>0.133</td>\n",
       "    </tr>\n",
       "    <tr>\n",
       "      <th>1</th>\n",
       "      <td>1</td>\n",
       "      <td>2004-05-09</td>\n",
       "      <td>2004-05-15</td>\n",
       "      <td>CENTRO OESTE</td>\n",
       "      <td>GOIAS</td>\n",
       "      <td>ETANOL HIDRATADO</td>\n",
       "      <td>387</td>\n",
       "      <td>R$/l</td>\n",
       "      <td>1.162</td>\n",
       "      <td>0.114</td>\n",
       "      <td>0.89</td>\n",
       "      <td>1.449</td>\n",
       "      <td>0.399</td>\n",
       "      <td>0.098</td>\n",
       "      <td>0.763</td>\n",
       "      <td>0.088</td>\n",
       "      <td>0.5013</td>\n",
       "      <td>1.05</td>\n",
       "      <td>0.115</td>\n",
       "    </tr>\n",
       "    <tr>\n",
       "      <th>2</th>\n",
       "      <td>2</td>\n",
       "      <td>2004-05-09</td>\n",
       "      <td>2004-05-15</td>\n",
       "      <td>CENTRO OESTE</td>\n",
       "      <td>MATO GROSSO</td>\n",
       "      <td>ETANOL HIDRATADO</td>\n",
       "      <td>192</td>\n",
       "      <td>R$/l</td>\n",
       "      <td>1.389</td>\n",
       "      <td>0.097</td>\n",
       "      <td>1.18</td>\n",
       "      <td>1.760</td>\n",
       "      <td>0.419</td>\n",
       "      <td>0.070</td>\n",
       "      <td>0.97</td>\n",
       "      <td>0.095</td>\n",
       "      <td>0.5614</td>\n",
       "      <td>1.161</td>\n",
       "      <td>0.098</td>\n",
       "    </tr>\n",
       "  </tbody>\n",
       "</table>\n",
       "</div>"
      ],
      "text/plain": [
       "   Unnamed: 0 DATA INICIAL  DATA FINAL        REGIÃO            ESTADO  \\\n",
       "0           0   2004-05-09  2004-05-15  CENTRO OESTE  DISTRITO FEDERAL   \n",
       "1           1   2004-05-09  2004-05-15  CENTRO OESTE             GOIAS   \n",
       "2           2   2004-05-09  2004-05-15  CENTRO OESTE       MATO GROSSO   \n",
       "\n",
       "            PRODUTO  NÚMERO DE POSTOS PESQUISADOS UNIDADE DE MEDIDA  \\\n",
       "0  ETANOL HIDRATADO                           127              R$/l   \n",
       "1  ETANOL HIDRATADO                           387              R$/l   \n",
       "2  ETANOL HIDRATADO                           192              R$/l   \n",
       "\n",
       "   PREÇO MÉDIO REVENDA  DESVIO PADRÃO REVENDA  PREÇO MÍNIMO REVENDA  \\\n",
       "0                1.288                  0.016                  1.19   \n",
       "1                1.162                  0.114                  0.89   \n",
       "2                1.389                  0.097                  1.18   \n",
       "\n",
       "   PREÇO MÁXIMO REVENDA MARGEM MÉDIA REVENDA  COEF DE VARIAÇÃO REVENDA  \\\n",
       "0                 1.350                0.463                     0.012   \n",
       "1                 1.449                0.399                     0.098   \n",
       "2                 1.760                0.419                     0.070   \n",
       "\n",
       "  PREÇO MÉDIO DISTRIBUIÇÃO DESVIO PADRÃO DISTRIBUIÇÃO  \\\n",
       "0                    0.825                       0.11   \n",
       "1                    0.763                      0.088   \n",
       "2                     0.97                      0.095   \n",
       "\n",
       "  PREÇO MÍNIMO DISTRIBUIÇÃO PREÇO MÁXIMO DISTRIBUIÇÃO  \\\n",
       "0                    0.4201                    0.9666   \n",
       "1                    0.5013                      1.05   \n",
       "2                    0.5614                     1.161   \n",
       "\n",
       "  COEF DE VARIAÇÃO DISTRIBUIÇÃO  \n",
       "0                         0.133  \n",
       "1                         0.115  \n",
       "2                         0.098  "
      ]
     },
     "execution_count": 4,
     "metadata": {},
     "output_type": "execute_result"
    }
   ],
   "source": [
    "df2_table_2001.head(3)"
   ]
  },
  {
   "cell_type": "code",
   "execution_count": 7,
   "id": "cbdb15d5-ebe5-4263-ad76-397f24e6f766",
   "metadata": {},
   "outputs": [
    {
     "data": {
      "text/html": [
       "<div>\n",
       "<style scoped>\n",
       "    .dataframe tbody tr th:only-of-type {\n",
       "        vertical-align: middle;\n",
       "    }\n",
       "\n",
       "    .dataframe tbody tr th {\n",
       "        vertical-align: top;\n",
       "    }\n",
       "\n",
       "    .dataframe thead th {\n",
       "        text-align: right;\n",
       "    }\n",
       "</style>\n",
       "<table border=\"1\" class=\"dataframe\">\n",
       "  <thead>\n",
       "    <tr style=\"text-align: right;\">\n",
       "      <th></th>\n",
       "      <th>DATA INICIAL</th>\n",
       "      <th>DATA FINAL</th>\n",
       "      <th>REGIÃO</th>\n",
       "      <th>ESTADO</th>\n",
       "      <th>PRODUTO</th>\n",
       "      <th>NÚMERO DE POSTOS PESQUISADOS</th>\n",
       "      <th>UNIDADE DE MEDIDA</th>\n",
       "      <th>PREÇO MÉDIO REVENDA</th>\n",
       "      <th>DESVIO PADRÃO REVENDA</th>\n",
       "      <th>PREÇO MÍNIMO REVENDA</th>\n",
       "      <th>PREÇO MÁXIMO REVENDA</th>\n",
       "      <th>MARGEM MÉDIA REVENDA</th>\n",
       "      <th>COEF DE VARIAÇÃO REVENDA</th>\n",
       "      <th>PREÇO MÉDIO DISTRIBUIÇÃO</th>\n",
       "      <th>DESVIO PADRÃO DISTRIBUIÇÃO</th>\n",
       "      <th>PREÇO MÍNIMO DISTRIBUIÇÃO</th>\n",
       "      <th>PREÇO MÁXIMO DISTRIBUIÇÃO</th>\n",
       "      <th>COEF DE VARIAÇÃO DISTRIBUIÇÃO</th>\n",
       "    </tr>\n",
       "  </thead>\n",
       "  <tbody>\n",
       "    <tr>\n",
       "      <th>0</th>\n",
       "      <td>2004-05-09</td>\n",
       "      <td>2004-05-15</td>\n",
       "      <td>CENTRO OESTE</td>\n",
       "      <td>DISTRITO FEDERAL</td>\n",
       "      <td>ETANOL HIDRATADO</td>\n",
       "      <td>127</td>\n",
       "      <td>R$/l</td>\n",
       "      <td>1.288</td>\n",
       "      <td>0.016</td>\n",
       "      <td>1.190</td>\n",
       "      <td>1.350</td>\n",
       "      <td>0.463</td>\n",
       "      <td>0.012</td>\n",
       "      <td>0.825</td>\n",
       "      <td>0.11</td>\n",
       "      <td>0.4201</td>\n",
       "      <td>0.9666</td>\n",
       "      <td>0.133</td>\n",
       "    </tr>\n",
       "    <tr>\n",
       "      <th>1</th>\n",
       "      <td>2004-05-09</td>\n",
       "      <td>2004-05-15</td>\n",
       "      <td>CENTRO OESTE</td>\n",
       "      <td>GOIAS</td>\n",
       "      <td>ETANOL HIDRATADO</td>\n",
       "      <td>387</td>\n",
       "      <td>R$/l</td>\n",
       "      <td>1.162</td>\n",
       "      <td>0.114</td>\n",
       "      <td>0.890</td>\n",
       "      <td>1.449</td>\n",
       "      <td>0.399</td>\n",
       "      <td>0.098</td>\n",
       "      <td>0.763</td>\n",
       "      <td>0.088</td>\n",
       "      <td>0.5013</td>\n",
       "      <td>1.05</td>\n",
       "      <td>0.115</td>\n",
       "    </tr>\n",
       "    <tr>\n",
       "      <th>2</th>\n",
       "      <td>2004-05-09</td>\n",
       "      <td>2004-05-15</td>\n",
       "      <td>CENTRO OESTE</td>\n",
       "      <td>MATO GROSSO</td>\n",
       "      <td>ETANOL HIDRATADO</td>\n",
       "      <td>192</td>\n",
       "      <td>R$/l</td>\n",
       "      <td>1.389</td>\n",
       "      <td>0.097</td>\n",
       "      <td>1.180</td>\n",
       "      <td>1.760</td>\n",
       "      <td>0.419</td>\n",
       "      <td>0.070</td>\n",
       "      <td>0.97</td>\n",
       "      <td>0.095</td>\n",
       "      <td>0.5614</td>\n",
       "      <td>1.161</td>\n",
       "      <td>0.098</td>\n",
       "    </tr>\n",
       "    <tr>\n",
       "      <th>3</th>\n",
       "      <td>2004-05-09</td>\n",
       "      <td>2004-05-15</td>\n",
       "      <td>CENTRO OESTE</td>\n",
       "      <td>MATO GROSSO DO SUL</td>\n",
       "      <td>ETANOL HIDRATADO</td>\n",
       "      <td>162</td>\n",
       "      <td>R$/l</td>\n",
       "      <td>1.262</td>\n",
       "      <td>0.070</td>\n",
       "      <td>1.090</td>\n",
       "      <td>1.509</td>\n",
       "      <td>0.432</td>\n",
       "      <td>0.055</td>\n",
       "      <td>0.83</td>\n",
       "      <td>0.119</td>\n",
       "      <td>0.5991</td>\n",
       "      <td>1.22242</td>\n",
       "      <td>0.143</td>\n",
       "    </tr>\n",
       "    <tr>\n",
       "      <th>4</th>\n",
       "      <td>2004-05-09</td>\n",
       "      <td>2004-05-15</td>\n",
       "      <td>NORDESTE</td>\n",
       "      <td>ALAGOAS</td>\n",
       "      <td>ETANOL HIDRATADO</td>\n",
       "      <td>103</td>\n",
       "      <td>R$/l</td>\n",
       "      <td>1.181</td>\n",
       "      <td>0.078</td>\n",
       "      <td>1.050</td>\n",
       "      <td>1.400</td>\n",
       "      <td>0.24</td>\n",
       "      <td>0.066</td>\n",
       "      <td>0.941</td>\n",
       "      <td>0.077</td>\n",
       "      <td>0.7441</td>\n",
       "      <td>1.0317</td>\n",
       "      <td>0.082</td>\n",
       "    </tr>\n",
       "    <tr>\n",
       "      <th>...</th>\n",
       "      <td>...</td>\n",
       "      <td>...</td>\n",
       "      <td>...</td>\n",
       "      <td>...</td>\n",
       "      <td>...</td>\n",
       "      <td>...</td>\n",
       "      <td>...</td>\n",
       "      <td>...</td>\n",
       "      <td>...</td>\n",
       "      <td>...</td>\n",
       "      <td>...</td>\n",
       "      <td>...</td>\n",
       "      <td>...</td>\n",
       "      <td>...</td>\n",
       "      <td>...</td>\n",
       "      <td>...</td>\n",
       "      <td>...</td>\n",
       "      <td>...</td>\n",
       "    </tr>\n",
       "    <tr>\n",
       "      <th>52802</th>\n",
       "      <td>2010-12-26</td>\n",
       "      <td>2011-01-01</td>\n",
       "      <td>SUDESTE</td>\n",
       "      <td>RIO DE JANEIRO</td>\n",
       "      <td>ÓLEO DIESEL</td>\n",
       "      <td>574</td>\n",
       "      <td>R$/l</td>\n",
       "      <td>1.983</td>\n",
       "      <td>0.086</td>\n",
       "      <td>1.779</td>\n",
       "      <td>2.280</td>\n",
       "      <td>0.255</td>\n",
       "      <td>0.043</td>\n",
       "      <td>1.728</td>\n",
       "      <td>0.04</td>\n",
       "      <td>1.609</td>\n",
       "      <td>1.8536</td>\n",
       "      <td>0.023</td>\n",
       "    </tr>\n",
       "    <tr>\n",
       "      <th>52803</th>\n",
       "      <td>2010-12-26</td>\n",
       "      <td>2011-01-01</td>\n",
       "      <td>SUDESTE</td>\n",
       "      <td>SAO PAULO</td>\n",
       "      <td>ÓLEO DIESEL</td>\n",
       "      <td>1871</td>\n",
       "      <td>R$/l</td>\n",
       "      <td>1.966</td>\n",
       "      <td>0.070</td>\n",
       "      <td>1.699</td>\n",
       "      <td>2.399</td>\n",
       "      <td>0.261</td>\n",
       "      <td>0.036</td>\n",
       "      <td>1.705</td>\n",
       "      <td>0.045</td>\n",
       "      <td>1.5764</td>\n",
       "      <td>1.969</td>\n",
       "      <td>0.026</td>\n",
       "    </tr>\n",
       "    <tr>\n",
       "      <th>52804</th>\n",
       "      <td>2010-12-26</td>\n",
       "      <td>2011-01-01</td>\n",
       "      <td>SUL</td>\n",
       "      <td>PARANA</td>\n",
       "      <td>ÓLEO DIESEL</td>\n",
       "      <td>469</td>\n",
       "      <td>R$/l</td>\n",
       "      <td>1.946</td>\n",
       "      <td>0.058</td>\n",
       "      <td>1.799</td>\n",
       "      <td>2.109</td>\n",
       "      <td>0.19</td>\n",
       "      <td>0.030</td>\n",
       "      <td>1.756</td>\n",
       "      <td>0.038</td>\n",
       "      <td>1.659</td>\n",
       "      <td>1.9268</td>\n",
       "      <td>0.022</td>\n",
       "    </tr>\n",
       "    <tr>\n",
       "      <th>52805</th>\n",
       "      <td>2010-12-26</td>\n",
       "      <td>2011-01-01</td>\n",
       "      <td>SUL</td>\n",
       "      <td>RIO GRANDE DO SUL</td>\n",
       "      <td>ÓLEO DIESEL</td>\n",
       "      <td>419</td>\n",
       "      <td>R$/l</td>\n",
       "      <td>2.052</td>\n",
       "      <td>0.059</td>\n",
       "      <td>1.890</td>\n",
       "      <td>2.310</td>\n",
       "      <td>0.267</td>\n",
       "      <td>0.029</td>\n",
       "      <td>1.785</td>\n",
       "      <td>0.039</td>\n",
       "      <td>1.677</td>\n",
       "      <td>1.9172</td>\n",
       "      <td>0.022</td>\n",
       "    </tr>\n",
       "    <tr>\n",
       "      <th>52806</th>\n",
       "      <td>2010-12-26</td>\n",
       "      <td>2011-01-01</td>\n",
       "      <td>SUL</td>\n",
       "      <td>SANTA CATARINA</td>\n",
       "      <td>ÓLEO DIESEL</td>\n",
       "      <td>328</td>\n",
       "      <td>R$/l</td>\n",
       "      <td>2.018</td>\n",
       "      <td>0.066</td>\n",
       "      <td>1.849</td>\n",
       "      <td>2.210</td>\n",
       "      <td>0.225</td>\n",
       "      <td>0.033</td>\n",
       "      <td>1.793</td>\n",
       "      <td>0.042</td>\n",
       "      <td>1.7</td>\n",
       "      <td>1.8854</td>\n",
       "      <td>0.023</td>\n",
       "    </tr>\n",
       "  </tbody>\n",
       "</table>\n",
       "<p>42638 rows × 18 columns</p>\n",
       "</div>"
      ],
      "text/plain": [
       "      DATA INICIAL  DATA FINAL        REGIÃO              ESTADO  \\\n",
       "0       2004-05-09  2004-05-15  CENTRO OESTE    DISTRITO FEDERAL   \n",
       "1       2004-05-09  2004-05-15  CENTRO OESTE               GOIAS   \n",
       "2       2004-05-09  2004-05-15  CENTRO OESTE         MATO GROSSO   \n",
       "3       2004-05-09  2004-05-15  CENTRO OESTE  MATO GROSSO DO SUL   \n",
       "4       2004-05-09  2004-05-15      NORDESTE             ALAGOAS   \n",
       "...            ...         ...           ...                 ...   \n",
       "52802   2010-12-26  2011-01-01       SUDESTE      RIO DE JANEIRO   \n",
       "52803   2010-12-26  2011-01-01       SUDESTE           SAO PAULO   \n",
       "52804   2010-12-26  2011-01-01           SUL              PARANA   \n",
       "52805   2010-12-26  2011-01-01           SUL   RIO GRANDE DO SUL   \n",
       "52806   2010-12-26  2011-01-01           SUL      SANTA CATARINA   \n",
       "\n",
       "                PRODUTO  NÚMERO DE POSTOS PESQUISADOS UNIDADE DE MEDIDA  \\\n",
       "0      ETANOL HIDRATADO                           127              R$/l   \n",
       "1      ETANOL HIDRATADO                           387              R$/l   \n",
       "2      ETANOL HIDRATADO                           192              R$/l   \n",
       "3      ETANOL HIDRATADO                           162              R$/l   \n",
       "4      ETANOL HIDRATADO                           103              R$/l   \n",
       "...                 ...                           ...               ...   \n",
       "52802       ÓLEO DIESEL                           574              R$/l   \n",
       "52803       ÓLEO DIESEL                          1871              R$/l   \n",
       "52804       ÓLEO DIESEL                           469              R$/l   \n",
       "52805       ÓLEO DIESEL                           419              R$/l   \n",
       "52806       ÓLEO DIESEL                           328              R$/l   \n",
       "\n",
       "       PREÇO MÉDIO REVENDA  DESVIO PADRÃO REVENDA  PREÇO MÍNIMO REVENDA  \\\n",
       "0                    1.288                  0.016                 1.190   \n",
       "1                    1.162                  0.114                 0.890   \n",
       "2                    1.389                  0.097                 1.180   \n",
       "3                    1.262                  0.070                 1.090   \n",
       "4                    1.181                  0.078                 1.050   \n",
       "...                    ...                    ...                   ...   \n",
       "52802                1.983                  0.086                 1.779   \n",
       "52803                1.966                  0.070                 1.699   \n",
       "52804                1.946                  0.058                 1.799   \n",
       "52805                2.052                  0.059                 1.890   \n",
       "52806                2.018                  0.066                 1.849   \n",
       "\n",
       "       PREÇO MÁXIMO REVENDA MARGEM MÉDIA REVENDA  COEF DE VARIAÇÃO REVENDA  \\\n",
       "0                     1.350                0.463                     0.012   \n",
       "1                     1.449                0.399                     0.098   \n",
       "2                     1.760                0.419                     0.070   \n",
       "3                     1.509                0.432                     0.055   \n",
       "4                     1.400                 0.24                     0.066   \n",
       "...                     ...                  ...                       ...   \n",
       "52802                 2.280                0.255                     0.043   \n",
       "52803                 2.399                0.261                     0.036   \n",
       "52804                 2.109                 0.19                     0.030   \n",
       "52805                 2.310                0.267                     0.029   \n",
       "52806                 2.210                0.225                     0.033   \n",
       "\n",
       "      PREÇO MÉDIO DISTRIBUIÇÃO DESVIO PADRÃO DISTRIBUIÇÃO  \\\n",
       "0                        0.825                       0.11   \n",
       "1                        0.763                      0.088   \n",
       "2                         0.97                      0.095   \n",
       "3                         0.83                      0.119   \n",
       "4                        0.941                      0.077   \n",
       "...                        ...                        ...   \n",
       "52802                    1.728                       0.04   \n",
       "52803                    1.705                      0.045   \n",
       "52804                    1.756                      0.038   \n",
       "52805                    1.785                      0.039   \n",
       "52806                    1.793                      0.042   \n",
       "\n",
       "      PREÇO MÍNIMO DISTRIBUIÇÃO PREÇO MÁXIMO DISTRIBUIÇÃO  \\\n",
       "0                        0.4201                    0.9666   \n",
       "1                        0.5013                      1.05   \n",
       "2                        0.5614                     1.161   \n",
       "3                        0.5991                   1.22242   \n",
       "4                        0.7441                    1.0317   \n",
       "...                         ...                       ...   \n",
       "52802                     1.609                    1.8536   \n",
       "52803                    1.5764                     1.969   \n",
       "52804                     1.659                    1.9268   \n",
       "52805                     1.677                    1.9172   \n",
       "52806                       1.7                    1.8854   \n",
       "\n",
       "      COEF DE VARIAÇÃO DISTRIBUIÇÃO  \n",
       "0                             0.133  \n",
       "1                             0.115  \n",
       "2                             0.098  \n",
       "3                             0.143  \n",
       "4                             0.082  \n",
       "...                             ...  \n",
       "52802                         0.023  \n",
       "52803                         0.026  \n",
       "52804                         0.022  \n",
       "52805                         0.022  \n",
       "52806                         0.023  \n",
       "\n",
       "[42638 rows x 18 columns]"
      ]
     },
     "execution_count": 7,
     "metadata": {},
     "output_type": "execute_result"
    }
   ],
   "source": [
    "# limpar a primeira coluna\n",
    "df2_table_2001 = pd.read_csv(\"gasolina_2000.csv\", index_col=0)\n",
    "df2_table_2001"
   ]
  },
  {
   "cell_type": "code",
   "execution_count": 8,
   "id": "0a845893-1399-4f99-82c5-89e55352aeae",
   "metadata": {},
   "outputs": [
    {
     "name": "stdout",
     "output_type": "stream",
     "text": [
      "<class 'pandas.core.frame.DataFrame'>\n",
      "Index: 42638 entries, 0 to 52806\n",
      "Data columns (total 18 columns):\n",
      " #   Column                         Non-Null Count  Dtype  \n",
      "---  ------                         --------------  -----  \n",
      " 0   DATA INICIAL                   42638 non-null  object \n",
      " 1   DATA FINAL                     42638 non-null  object \n",
      " 2   REGIÃO                         42638 non-null  object \n",
      " 3   ESTADO                         42638 non-null  object \n",
      " 4   PRODUTO                        42638 non-null  object \n",
      " 5   NÚMERO DE POSTOS PESQUISADOS   42638 non-null  int64  \n",
      " 6   UNIDADE DE MEDIDA              42638 non-null  object \n",
      " 7   PREÇO MÉDIO REVENDA            42638 non-null  float64\n",
      " 8   DESVIO PADRÃO REVENDA          42638 non-null  float64\n",
      " 9   PREÇO MÍNIMO REVENDA           42638 non-null  float64\n",
      " 10  PREÇO MÁXIMO REVENDA           42638 non-null  float64\n",
      " 11  MARGEM MÉDIA REVENDA           42638 non-null  object \n",
      " 12  COEF DE VARIAÇÃO REVENDA       42638 non-null  float64\n",
      " 13  PREÇO MÉDIO DISTRIBUIÇÃO       42638 non-null  object \n",
      " 14  DESVIO PADRÃO DISTRIBUIÇÃO     42638 non-null  object \n",
      " 15  PREÇO MÍNIMO DISTRIBUIÇÃO      42638 non-null  object \n",
      " 16  PREÇO MÁXIMO DISTRIBUIÇÃO      42638 non-null  object \n",
      " 17  COEF DE VARIAÇÃO DISTRIBUIÇÃO  42638 non-null  object \n",
      "dtypes: float64(5), int64(1), object(12)\n",
      "memory usage: 6.2+ MB\n"
     ]
    }
   ],
   "source": [
    "# info table\n",
    "df2_table_2001.info()\n"
   ]
  },
  {
   "cell_type": "code",
   "execution_count": 10,
   "id": "5d942ea1-8d2d-4ad1-a2e8-9e102019b03d",
   "metadata": {},
   "outputs": [
    {
     "data": {
      "text/plain": [
       "'2004-05-09'"
      ]
     },
     "execution_count": 10,
     "metadata": {},
     "output_type": "execute_result"
    }
   ],
   "source": [
    "df2_table_2001[\"DATA INICIAL\"][2]"
   ]
  },
  {
   "cell_type": "code",
   "execution_count": 11,
   "id": "640c9994-d947-49b5-9846-ed93f3cfeaa1",
   "metadata": {},
   "outputs": [],
   "source": [
    "df2_table_2001[\"DATA INICIAL\"] = pd.to_datetime(df2_table_2001[\"DATA INICIAL\"])"
   ]
  },
  {
   "cell_type": "code",
   "execution_count": 13,
   "id": "78aaa65d-849d-429b-a024-ade9221fe666",
   "metadata": {},
   "outputs": [
    {
     "data": {
      "text/plain": [
       "Timestamp('2004-05-09 00:00:00')"
      ]
     },
     "execution_count": 13,
     "metadata": {},
     "output_type": "execute_result"
    }
   ],
   "source": [
    "df2_table_2001[\"DATA INICIAL\"][2]"
   ]
  },
  {
   "cell_type": "code",
   "execution_count": 15,
   "id": "c27f23de-f8a3-43d7-8ae9-237630fe4810",
   "metadata": {},
   "outputs": [
    {
     "data": {
      "text/plain": [
       "Timestamp('2004-05-09 00:00:00')"
      ]
     },
     "execution_count": 15,
     "metadata": {},
     "output_type": "execute_result"
    }
   ],
   "source": [
    "pd.to_datetime(df2_table_2001[\"DATA INICIAL\"][2])"
   ]
  },
  {
   "cell_type": "code",
   "execution_count": 16,
   "id": "11fdf813-c056-46aa-968d-7c0167dc4381",
   "metadata": {},
   "outputs": [
    {
     "data": {
      "text/plain": [
       "0       2004-05-09\n",
       "1       2004-05-09\n",
       "2       2004-05-09\n",
       "3       2004-05-09\n",
       "4       2004-05-09\n",
       "           ...    \n",
       "52802   2010-12-26\n",
       "52803   2010-12-26\n",
       "52804   2010-12-26\n",
       "52805   2010-12-26\n",
       "52806   2010-12-26\n",
       "Name: DATA INICIAL, Length: 42638, dtype: datetime64[ns]"
      ]
     },
     "execution_count": 16,
     "metadata": {},
     "output_type": "execute_result"
    }
   ],
   "source": [
    "# fazendo tratamento\n",
    "pd.to_datetime(df2_table_2001[\"DATA INICIAL\"])"
   ]
  },
  {
   "cell_type": "code",
   "execution_count": 18,
   "id": "d6357eb1-0b15-4228-99b1-7c544192f6a3",
   "metadata": {},
   "outputs": [
    {
     "data": {
      "text/plain": [
       "5"
      ]
     },
     "execution_count": 18,
     "metadata": {},
     "output_type": "execute_result"
    }
   ],
   "source": [
    "# ver o mes dessa conversao\n",
    "pd.to_datetime(df2_table_2001[\"DATA INICIAL\"])[2].month"
   ]
  },
  {
   "cell_type": "code",
   "execution_count": 19,
   "id": "a1a8c21f-ab6e-4c31-a3d2-5e84ebfdb8da",
   "metadata": {},
   "outputs": [
    {
     "data": {
      "text/plain": [
       "Timestamp('2004-05-09 00:00:00')"
      ]
     },
     "execution_count": 19,
     "metadata": {},
     "output_type": "execute_result"
    }
   ],
   "source": [
    "# ver o Timestamp dessa conversao\n",
    "pd.to_datetime(df2_table_2001[\"DATA INICIAL\"])[2]"
   ]
  },
  {
   "cell_type": "code",
   "execution_count": 20,
   "id": "ef74553f-48f6-4914-b58b-3bf3916049b4",
   "metadata": {},
   "outputs": [],
   "source": [
    "# resp exercicios\n",
    "df2_table_2001[\"DATA INICIAL\"] = pd.to_datetime(df2_table_2001[\"DATA INICIAL\"])    \n",
    "df2_table_2001[\"DATA FINAL\"] = pd.to_datetime(df2_table_2001[\"DATA FINAL\"]) \n",
    " "
   ]
  },
  {
   "cell_type": "code",
   "execution_count": 21,
   "id": "75d2dd89-3527-4468-9ec0-a335ffe004b9",
   "metadata": {},
   "outputs": [
    {
     "data": {
      "text/plain": [
       "pandas._libs.tslibs.timestamps.Timestamp"
      ]
     },
     "execution_count": 21,
     "metadata": {},
     "output_type": "execute_result"
    }
   ],
   "source": [
    "# typo  => pandas._libs.tslibs.timestamps.Timestamp mudou o tipo do dado\n",
    "type(df2_table_2001[\"DATA INICIAL\"].iloc[2])"
   ]
  },
  {
   "cell_type": "code",
   "execution_count": 22,
   "id": "6ba362ab-10e7-4420-8f30-2eda3e418995",
   "metadata": {},
   "outputs": [
    {
     "data": {
      "text/plain": [
       "0       2004-05-15\n",
       "1       2004-05-15\n",
       "2       2004-05-15\n",
       "3       2004-05-15\n",
       "4       2004-05-15\n",
       "           ...    \n",
       "52802   2011-01-01\n",
       "52803   2011-01-01\n",
       "52804   2011-01-01\n",
       "52805   2011-01-01\n",
       "52806   2011-01-01\n",
       "Name: DATA FINAL, Length: 42638, dtype: datetime64[ns]"
      ]
     },
     "execution_count": 22,
     "metadata": {},
     "output_type": "execute_result"
    }
   ],
   "source": [
    "#coluna para representar o ano e o mês(aaaa-mm), utilizando a coluna DATA FINAL como referência. \n",
    "# link mes ao ano\n",
    "df2_table_2001[\"DATA FINAL\"]"
   ]
  },
  {
   "cell_type": "code",
   "execution_count": 23,
   "id": "388d835a-d4bd-4277-ac71-a1504eee1e85",
   "metadata": {},
   "outputs": [],
   "source": [
    "# referenciar mes com o ano\n",
    "# para cada data extrair o ano => lambda => x: x.year\n",
    "# string somente com ano =>  df_gas_2000[\"Year--Month\"] = df_gas_2000[\"DATA FINAL\"].apply(lambda x: '{}'.format(x.year))\n",
    "df2_table_2001[\"Year--Month\"] = df2_table_2001[\"DATA FINAL\"].apply(lambda x: '{}'.format(x.year))"
   ]
  },
  {
   "cell_type": "code",
   "execution_count": 25,
   "id": "cc44b66b-baf7-48a1-a918-63cd6b06e160",
   "metadata": {},
   "outputs": [
    {
     "data": {
      "text/plain": [
       "0        2004\n",
       "1        2004\n",
       "2        2004\n",
       "3        2004\n",
       "4        2004\n",
       "         ... \n",
       "52802    2011\n",
       "52803    2011\n",
       "52804    2011\n",
       "52805    2011\n",
       "52806    2011\n",
       "Name: Year--Month, Length: 42638, dtype: object"
      ]
     },
     "execution_count": 25,
     "metadata": {},
     "output_type": "execute_result"
    }
   ],
   "source": [
    "df2_table_2001[\"Year--Month\"] # alteracoes"
   ]
  },
  {
   "cell_type": "code",
   "execution_count": null,
   "id": "5ac9acb0-c2bd-45d5-8f2a-5576b57e2014",
   "metadata": {},
   "outputs": [],
   "source": []
  }
 ],
 "metadata": {
  "kernelspec": {
   "display_name": "Python 3 (ipykernel)",
   "language": "python",
   "name": "python3"
  },
  "language_info": {
   "codemirror_mode": {
    "name": "ipython",
    "version": 3
   },
   "file_extension": ".py",
   "mimetype": "text/x-python",
   "name": "python",
   "nbconvert_exporter": "python",
   "pygments_lexer": "ipython3",
   "version": "3.13.0"
  }
 },
 "nbformat": 4,
 "nbformat_minor": 5
}
