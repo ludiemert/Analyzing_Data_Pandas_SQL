{
 "cells": [
  {
   "cell_type": "markdown",
   "id": "98521d51-d6f0-4a4c-812f-42bc60f16e12",
   "metadata": {},
   "source": [
    "## Exercícios\n",
    "\n",
    "# Link para Dataset: https://www.kaggle.com/datasets/matheusfreitag/gas-prices-in-brazil\n",
    "\n",
    "## Neste projeto, trabalharemos com dois arquivos csvs separados, contendo informações sobre o preço da gasolina no Brasil. "
   ]
  },
  {
   "cell_type": "code",
   "execution_count": null,
   "id": "2e85407b-af7c-407e-ac23-9223df6ffbcb",
   "metadata": {},
   "outputs": [],
   "source": [
    "import pandas as pd"
   ]
  },
  {
   "cell_type": "markdown",
   "id": "f5fdbad9-f93a-467c-abc8-9b48f0ff88eb",
   "metadata": {},
   "source": [
    "### 1. Carregue os conjuntos de dados \"gasolina_2000+.csv\" e \"gasolina_2010+.csv\" em dois DataFrames diferentes e combine-os em um único DataFrame."
   ]
  },
  {
   "cell_type": "code",
   "execution_count": null,
   "id": "76be361d-89fc-4176-bf31-9db87cd0d83c",
   "metadata": {},
   "outputs": [],
   "source": []
  }
 ],
 "metadata": {
  "kernelspec": {
   "display_name": "Python 3 (ipykernel)",
   "language": "python",
   "name": "python3"
  },
  "language_info": {
   "codemirror_mode": {
    "name": "ipython",
    "version": 3
   },
   "file_extension": ".py",
   "mimetype": "text/x-python",
   "name": "python",
   "nbconvert_exporter": "python",
   "pygments_lexer": "ipython3",
   "version": "3.13.0"
  }
 },
 "nbformat": 4,
 "nbformat_minor": 5
}
