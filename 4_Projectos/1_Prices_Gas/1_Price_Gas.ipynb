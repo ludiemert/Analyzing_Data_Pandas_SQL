{
 "cells": [
  {
   "cell_type": "markdown",
   "id": "98521d51-d6f0-4a4c-812f-42bc60f16e12",
   "metadata": {},
   "source": [
    "## Exercícios\n",
    "\n",
    "# Link para Dataset: https://www.kaggle.com/datasets/matheusfreitag/gas-prices-in-brazil\n",
    "\n",
    "## Neste projeto, trabalharemos com dois arquivos csvs separados, contendo informações sobre o preço da gasolina no Brasil. "
   ]
  },
  {
   "cell_type": "code",
   "execution_count": 1,
   "id": "2e85407b-af7c-407e-ac23-9223df6ffbcb",
   "metadata": {},
   "outputs": [],
   "source": [
    "import pandas as pd"
   ]
  },
  {
   "cell_type": "markdown",
   "id": "f5fdbad9-f93a-467c-abc8-9b48f0ff88eb",
   "metadata": {},
   "source": [
    "### 1. Carregue os conjuntos de dados \"gasolina_2000+.csv\" e \"gasolina_2010+.csv\" em dois DataFrames diferentes e combine-os em um único DataFrame."
   ]
  },
  {
   "cell_type": "code",
   "execution_count": 7,
   "id": "76be361d-89fc-4176-bf31-9db87cd0d83c",
   "metadata": {},
   "outputs": [],
   "source": [
    "gas_2000 = pd.read_csv(\"gasolina_2000.csv\")\n",
    "gas_2010 = pd.read_csv(\"gasolina_2010.csv\", low_memory=False) # É um parâmetro de otimização usado pelo pandas ao ler arquivos CSV grandes.\n",
    "# low_memory=True\tMais leve para a memória, mas pode confundir os tipos (padrão)\n"
   ]
  },
  {
   "cell_type": "code",
   "execution_count": 8,
   "id": "ce22a01d-90df-45f8-b39e-d78553f7a446",
   "metadata": {},
   "outputs": [],
   "source": [
    "# 2. Combinar os dois DataFrames em um só\n",
    "gasolina = pd.concat([gas_2000, gas_2010], ignore_index=True)"
   ]
  },
  {
   "cell_type": "code",
   "execution_count": 9,
   "id": "0b598bd5-b3e3-4ac0-bd0c-03cf8d1118f3",
   "metadata": {},
   "outputs": [
    {
     "name": "stdout",
     "output_type": "stream",
     "text": [
      "   Unnamed: 0 DATA INICIAL  DATA FINAL        REGIÃO              ESTADO  \\\n",
      "0           0   2004-05-09  2004-05-15  CENTRO OESTE    DISTRITO FEDERAL   \n",
      "1           1   2004-05-09  2004-05-15  CENTRO OESTE               GOIAS   \n",
      "2           2   2004-05-09  2004-05-15  CENTRO OESTE         MATO GROSSO   \n",
      "3           3   2004-05-09  2004-05-15  CENTRO OESTE  MATO GROSSO DO SUL   \n",
      "4           4   2004-05-09  2004-05-15      NORDESTE             ALAGOAS   \n",
      "\n",
      "            PRODUTO  NÚMERO DE POSTOS PESQUISADOS UNIDADE DE MEDIDA  \\\n",
      "0  ETANOL HIDRATADO                           127              R$/l   \n",
      "1  ETANOL HIDRATADO                           387              R$/l   \n",
      "2  ETANOL HIDRATADO                           192              R$/l   \n",
      "3  ETANOL HIDRATADO                           162              R$/l   \n",
      "4  ETANOL HIDRATADO                           103              R$/l   \n",
      "\n",
      "   PREÇO MÉDIO REVENDA  DESVIO PADRÃO REVENDA  PREÇO MÍNIMO REVENDA  \\\n",
      "0                1.288                  0.016                  1.19   \n",
      "1                1.162                  0.114                  0.89   \n",
      "2                1.389                  0.097                  1.18   \n",
      "3                1.262                  0.070                  1.09   \n",
      "4                1.181                  0.078                  1.05   \n",
      "\n",
      "   PREÇO MÁXIMO REVENDA MARGEM MÉDIA REVENDA  COEF DE VARIAÇÃO REVENDA  \\\n",
      "0                 1.350                0.463                     0.012   \n",
      "1                 1.449                0.399                     0.098   \n",
      "2                 1.760                0.419                     0.070   \n",
      "3                 1.509                0.432                     0.055   \n",
      "4                 1.400                 0.24                     0.066   \n",
      "\n",
      "  PREÇO MÉDIO DISTRIBUIÇÃO DESVIO PADRÃO DISTRIBUIÇÃO  \\\n",
      "0                    0.825                       0.11   \n",
      "1                    0.763                      0.088   \n",
      "2                     0.97                      0.095   \n",
      "3                     0.83                      0.119   \n",
      "4                    0.941                      0.077   \n",
      "\n",
      "  PREÇO MÍNIMO DISTRIBUIÇÃO PREÇO MÁXIMO DISTRIBUIÇÃO  \\\n",
      "0                    0.4201                    0.9666   \n",
      "1                    0.5013                      1.05   \n",
      "2                    0.5614                     1.161   \n",
      "3                    0.5991                   1.22242   \n",
      "4                    0.7441                    1.0317   \n",
      "\n",
      "  COEF DE VARIAÇÃO DISTRIBUIÇÃO  \n",
      "0                         0.133  \n",
      "1                         0.115  \n",
      "2                         0.098  \n",
      "3                         0.143  \n",
      "4                         0.082  \n"
     ]
    }
   ],
   "source": [
    "print(gasolina.head())"
   ]
  },
  {
   "cell_type": "code",
   "execution_count": null,
   "id": "7eb8833f-f0e3-4ead-9b67-7c81fc7b89e0",
   "metadata": {},
   "outputs": [],
   "source": []
  }
 ],
 "metadata": {
  "kernelspec": {
   "display_name": "Python 3 (ipykernel)",
   "language": "python",
   "name": "python3"
  },
  "language_info": {
   "codemirror_mode": {
    "name": "ipython",
    "version": 3
   },
   "file_extension": ".py",
   "mimetype": "text/x-python",
   "name": "python",
   "nbconvert_exporter": "python",
   "pygments_lexer": "ipython3",
   "version": "3.13.0"
  }
 },
 "nbformat": 4,
 "nbformat_minor": 5
}
