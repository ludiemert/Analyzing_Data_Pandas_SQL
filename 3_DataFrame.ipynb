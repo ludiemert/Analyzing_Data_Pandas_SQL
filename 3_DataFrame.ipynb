{
 "cells": [
  {
   "cell_type": "code",
   "execution_count": 9,
   "id": "9ae34950-0e9f-4e1f-b9d1-398475c02543",
   "metadata": {},
   "outputs": [],
   "source": [
    "# DataFrames => sao as tabelas, sao composicoes de SERIES(COLUNAS)\n",
    "import pandas as pd\n",
    "from numpy.random import randn # random => funcao que gera numeros aleatorios"
   ]
  },
  {
   "cell_type": "code",
   "execution_count": 10,
   "id": "925231a3-0134-4b12-9503-77487216911e",
   "metadata": {},
   "outputs": [],
   "source": [
    "df = pd.DataFrame(randn(5, 4), index=[\"A\", \"B\", \"C\", \"D\", \"E\"], columns=\"W X Y Z\".split()) # dp => method cria o DataFrame. vai gerar uma tabela de 5, 4 5linhas por 4 colunas.                   "
   ]
  },
  {
   "cell_type": "code",
   "execution_count": 11,
   "id": "0cf96e99-ae20-489f-ba56-225def49fec4",
   "metadata": {},
   "outputs": [
    {
     "data": {
      "text/html": [
       "<div>\n",
       "<style scoped>\n",
       "    .dataframe tbody tr th:only-of-type {\n",
       "        vertical-align: middle;\n",
       "    }\n",
       "\n",
       "    .dataframe tbody tr th {\n",
       "        vertical-align: top;\n",
       "    }\n",
       "\n",
       "    .dataframe thead th {\n",
       "        text-align: right;\n",
       "    }\n",
       "</style>\n",
       "<table border=\"1\" class=\"dataframe\">\n",
       "  <thead>\n",
       "    <tr style=\"text-align: right;\">\n",
       "      <th></th>\n",
       "      <th>W</th>\n",
       "      <th>X</th>\n",
       "      <th>Y</th>\n",
       "      <th>Z</th>\n",
       "    </tr>\n",
       "  </thead>\n",
       "  <tbody>\n",
       "    <tr>\n",
       "      <th>A</th>\n",
       "      <td>-1.020020</td>\n",
       "      <td>-0.188938</td>\n",
       "      <td>0.484974</td>\n",
       "      <td>1.699425</td>\n",
       "    </tr>\n",
       "    <tr>\n",
       "      <th>B</th>\n",
       "      <td>-1.700820</td>\n",
       "      <td>-1.365776</td>\n",
       "      <td>0.557644</td>\n",
       "      <td>0.402300</td>\n",
       "    </tr>\n",
       "    <tr>\n",
       "      <th>C</th>\n",
       "      <td>-0.555771</td>\n",
       "      <td>-1.481982</td>\n",
       "      <td>0.319883</td>\n",
       "      <td>0.428695</td>\n",
       "    </tr>\n",
       "    <tr>\n",
       "      <th>D</th>\n",
       "      <td>2.236007</td>\n",
       "      <td>1.088086</td>\n",
       "      <td>0.021282</td>\n",
       "      <td>0.335742</td>\n",
       "    </tr>\n",
       "    <tr>\n",
       "      <th>E</th>\n",
       "      <td>0.118831</td>\n",
       "      <td>-1.440776</td>\n",
       "      <td>-0.899453</td>\n",
       "      <td>0.583541</td>\n",
       "    </tr>\n",
       "  </tbody>\n",
       "</table>\n",
       "</div>"
      ],
      "text/plain": [
       "          W         X         Y         Z\n",
       "A -1.020020 -0.188938  0.484974  1.699425\n",
       "B -1.700820 -1.365776  0.557644  0.402300\n",
       "C -0.555771 -1.481982  0.319883  0.428695\n",
       "D  2.236007  1.088086  0.021282  0.335742\n",
       "E  0.118831 -1.440776 -0.899453  0.583541"
      ]
     },
     "execution_count": 11,
     "metadata": {},
     "output_type": "execute_result"
    }
   ],
   "source": [
    "# executa e veja o DataFrame\n",
    "df"
   ]
  },
  {
   "cell_type": "code",
   "execution_count": 12,
   "id": "38d21db2-0a35-43e1-8e00-8885b159eab6",
   "metadata": {},
   "outputs": [
    {
     "data": {
      "text/plain": [
       "pandas.core.frame.DataFrame"
      ]
     },
     "execution_count": 12,
     "metadata": {},
     "output_type": "execute_result"
    }
   ],
   "source": [
    "# tipo de dados => frame.DataFrame\n",
    "type(df)"
   ]
  },
  {
   "cell_type": "code",
   "execution_count": 13,
   "id": "7f097f4f-38b5-4efb-a8fc-d2457b9b56e0",
   "metadata": {},
   "outputs": [
    {
     "data": {
      "text/plain": [
       "A   -1.020020\n",
       "B   -1.700820\n",
       "C   -0.555771\n",
       "D    2.236007\n",
       "E    0.118831\n",
       "Name: W, dtype: float64"
      ]
     },
     "execution_count": 13,
     "metadata": {},
     "output_type": "execute_result"
    }
   ],
   "source": [
    "# com frame ao usar [] eu tenho que especificar a coluna\n",
    "df['W'] # retornando uma Series (coluna)"
   ]
  },
  {
   "cell_type": "code",
   "execution_count": 15,
   "id": "8c99d053-3d57-4066-8341-16534af1f1e4",
   "metadata": {},
   "outputs": [
    {
     "data": {
      "text/plain": [
       "pandas.core.series.Series"
      ]
     },
     "execution_count": 15,
     "metadata": {},
     "output_type": "execute_result"
    }
   ],
   "source": [
    "# comando para retornar a Series (coluna) => retorno => pandas.core.series.Series\n",
    "type(df['W'])"
   ]
  },
  {
   "cell_type": "code",
   "execution_count": 18,
   "id": "5cfaeec5-5221-40d6-a307-29855fbb32a3",
   "metadata": {},
   "outputs": [
    {
     "data": {
      "text/html": [
       "<div>\n",
       "<style scoped>\n",
       "    .dataframe tbody tr th:only-of-type {\n",
       "        vertical-align: middle;\n",
       "    }\n",
       "\n",
       "    .dataframe tbody tr th {\n",
       "        vertical-align: top;\n",
       "    }\n",
       "\n",
       "    .dataframe thead th {\n",
       "        text-align: right;\n",
       "    }\n",
       "</style>\n",
       "<table border=\"1\" class=\"dataframe\">\n",
       "  <thead>\n",
       "    <tr style=\"text-align: right;\">\n",
       "      <th></th>\n",
       "      <th>W</th>\n",
       "      <th>X</th>\n",
       "    </tr>\n",
       "  </thead>\n",
       "  <tbody>\n",
       "    <tr>\n",
       "      <th>A</th>\n",
       "      <td>-1.020020</td>\n",
       "      <td>-0.188938</td>\n",
       "    </tr>\n",
       "    <tr>\n",
       "      <th>B</th>\n",
       "      <td>-1.700820</td>\n",
       "      <td>-1.365776</td>\n",
       "    </tr>\n",
       "    <tr>\n",
       "      <th>C</th>\n",
       "      <td>-0.555771</td>\n",
       "      <td>-1.481982</td>\n",
       "    </tr>\n",
       "    <tr>\n",
       "      <th>D</th>\n",
       "      <td>2.236007</td>\n",
       "      <td>1.088086</td>\n",
       "    </tr>\n",
       "    <tr>\n",
       "      <th>E</th>\n",
       "      <td>0.118831</td>\n",
       "      <td>-1.440776</td>\n",
       "    </tr>\n",
       "  </tbody>\n",
       "</table>\n",
       "</div>"
      ],
      "text/plain": [
       "          W         X\n",
       "A -1.020020 -0.188938\n",
       "B -1.700820 -1.365776\n",
       "C -0.555771 -1.481982\n",
       "D  2.236007  1.088086\n",
       "E  0.118831 -1.440776"
      ]
     },
     "execution_count": 18,
     "metadata": {},
     "output_type": "execute_result"
    }
   ],
   "source": [
    "# uma lista e 2 series (colunas)\n",
    "df[[\"W\", \"X\"]]"
   ]
  },
  {
   "cell_type": "code",
   "execution_count": 19,
   "id": "b1cf518c-8693-411c-baa1-2a67946da135",
   "metadata": {},
   "outputs": [],
   "source": [
    "# coluna New como uma copia da coluna W. isso eh inserir dados no DataFrame\n",
    "df['new'] = df['W']\n"
   ]
  },
  {
   "cell_type": "code",
   "execution_count": 20,
   "id": "29b25cf1-2c6e-44d5-9c1e-b6e52f1fae10",
   "metadata": {},
   "outputs": [
    {
     "data": {
      "text/html": [
       "<div>\n",
       "<style scoped>\n",
       "    .dataframe tbody tr th:only-of-type {\n",
       "        vertical-align: middle;\n",
       "    }\n",
       "\n",
       "    .dataframe tbody tr th {\n",
       "        vertical-align: top;\n",
       "    }\n",
       "\n",
       "    .dataframe thead th {\n",
       "        text-align: right;\n",
       "    }\n",
       "</style>\n",
       "<table border=\"1\" class=\"dataframe\">\n",
       "  <thead>\n",
       "    <tr style=\"text-align: right;\">\n",
       "      <th></th>\n",
       "      <th>W</th>\n",
       "      <th>X</th>\n",
       "      <th>Y</th>\n",
       "      <th>Z</th>\n",
       "      <th>new</th>\n",
       "    </tr>\n",
       "  </thead>\n",
       "  <tbody>\n",
       "    <tr>\n",
       "      <th>A</th>\n",
       "      <td>-1.020020</td>\n",
       "      <td>-0.188938</td>\n",
       "      <td>0.484974</td>\n",
       "      <td>1.699425</td>\n",
       "      <td>-1.020020</td>\n",
       "    </tr>\n",
       "    <tr>\n",
       "      <th>B</th>\n",
       "      <td>-1.700820</td>\n",
       "      <td>-1.365776</td>\n",
       "      <td>0.557644</td>\n",
       "      <td>0.402300</td>\n",
       "      <td>-1.700820</td>\n",
       "    </tr>\n",
       "    <tr>\n",
       "      <th>C</th>\n",
       "      <td>-0.555771</td>\n",
       "      <td>-1.481982</td>\n",
       "      <td>0.319883</td>\n",
       "      <td>0.428695</td>\n",
       "      <td>-0.555771</td>\n",
       "    </tr>\n",
       "    <tr>\n",
       "      <th>D</th>\n",
       "      <td>2.236007</td>\n",
       "      <td>1.088086</td>\n",
       "      <td>0.021282</td>\n",
       "      <td>0.335742</td>\n",
       "      <td>2.236007</td>\n",
       "    </tr>\n",
       "    <tr>\n",
       "      <th>E</th>\n",
       "      <td>0.118831</td>\n",
       "      <td>-1.440776</td>\n",
       "      <td>-0.899453</td>\n",
       "      <td>0.583541</td>\n",
       "      <td>0.118831</td>\n",
       "    </tr>\n",
       "  </tbody>\n",
       "</table>\n",
       "</div>"
      ],
      "text/plain": [
       "          W         X         Y         Z       new\n",
       "A -1.020020 -0.188938  0.484974  1.699425 -1.020020\n",
       "B -1.700820 -1.365776  0.557644  0.402300 -1.700820\n",
       "C -0.555771 -1.481982  0.319883  0.428695 -0.555771\n",
       "D  2.236007  1.088086  0.021282  0.335742  2.236007\n",
       "E  0.118831 -1.440776 -0.899453  0.583541  0.118831"
      ]
     },
     "execution_count": 20,
     "metadata": {},
     "output_type": "execute_result"
    }
   ],
   "source": [
    "df"
   ]
  },
  {
   "cell_type": "code",
   "execution_count": 21,
   "id": "15f1de6a-ca05-42e6-b58d-20bb115ab85c",
   "metadata": {},
   "outputs": [],
   "source": [
    "# somar 2 Series (colunas)\n",
    "df['new'] = df['W'] + df['Y']"
   ]
  },
  {
   "cell_type": "code",
   "execution_count": 22,
   "id": "a3ae4265-e8ed-443a-82d8-16bb5e2de41a",
   "metadata": {},
   "outputs": [
    {
     "data": {
      "text/html": [
       "<div>\n",
       "<style scoped>\n",
       "    .dataframe tbody tr th:only-of-type {\n",
       "        vertical-align: middle;\n",
       "    }\n",
       "\n",
       "    .dataframe tbody tr th {\n",
       "        vertical-align: top;\n",
       "    }\n",
       "\n",
       "    .dataframe thead th {\n",
       "        text-align: right;\n",
       "    }\n",
       "</style>\n",
       "<table border=\"1\" class=\"dataframe\">\n",
       "  <thead>\n",
       "    <tr style=\"text-align: right;\">\n",
       "      <th></th>\n",
       "      <th>W</th>\n",
       "      <th>X</th>\n",
       "      <th>Y</th>\n",
       "      <th>Z</th>\n",
       "      <th>new</th>\n",
       "    </tr>\n",
       "  </thead>\n",
       "  <tbody>\n",
       "    <tr>\n",
       "      <th>A</th>\n",
       "      <td>-1.020020</td>\n",
       "      <td>-0.188938</td>\n",
       "      <td>0.484974</td>\n",
       "      <td>1.699425</td>\n",
       "      <td>-0.535045</td>\n",
       "    </tr>\n",
       "    <tr>\n",
       "      <th>B</th>\n",
       "      <td>-1.700820</td>\n",
       "      <td>-1.365776</td>\n",
       "      <td>0.557644</td>\n",
       "      <td>0.402300</td>\n",
       "      <td>-1.143175</td>\n",
       "    </tr>\n",
       "    <tr>\n",
       "      <th>C</th>\n",
       "      <td>-0.555771</td>\n",
       "      <td>-1.481982</td>\n",
       "      <td>0.319883</td>\n",
       "      <td>0.428695</td>\n",
       "      <td>-0.235888</td>\n",
       "    </tr>\n",
       "    <tr>\n",
       "      <th>D</th>\n",
       "      <td>2.236007</td>\n",
       "      <td>1.088086</td>\n",
       "      <td>0.021282</td>\n",
       "      <td>0.335742</td>\n",
       "      <td>2.257289</td>\n",
       "    </tr>\n",
       "    <tr>\n",
       "      <th>E</th>\n",
       "      <td>0.118831</td>\n",
       "      <td>-1.440776</td>\n",
       "      <td>-0.899453</td>\n",
       "      <td>0.583541</td>\n",
       "      <td>-0.780622</td>\n",
       "    </tr>\n",
       "  </tbody>\n",
       "</table>\n",
       "</div>"
      ],
      "text/plain": [
       "          W         X         Y         Z       new\n",
       "A -1.020020 -0.188938  0.484974  1.699425 -0.535045\n",
       "B -1.700820 -1.365776  0.557644  0.402300 -1.143175\n",
       "C -0.555771 -1.481982  0.319883  0.428695 -0.235888\n",
       "D  2.236007  1.088086  0.021282  0.335742  2.257289\n",
       "E  0.118831 -1.440776 -0.899453  0.583541 -0.780622"
      ]
     },
     "execution_count": 22,
     "metadata": {},
     "output_type": "execute_result"
    }
   ],
   "source": [
    "df"
   ]
  },
  {
   "cell_type": "code",
   "execution_count": 24,
   "id": "72282c27-aad2-4847-b082-9f722c7d7867",
   "metadata": {},
   "outputs": [],
   "source": [
    "# deletar Sereies( coluna)\n",
    "del df['Y']"
   ]
  },
  {
   "cell_type": "code",
   "execution_count": 25,
   "id": "8d4974ac-f781-4f0a-b63b-7d5d34d48fae",
   "metadata": {},
   "outputs": [
    {
     "data": {
      "text/html": [
       "<div>\n",
       "<style scoped>\n",
       "    .dataframe tbody tr th:only-of-type {\n",
       "        vertical-align: middle;\n",
       "    }\n",
       "\n",
       "    .dataframe tbody tr th {\n",
       "        vertical-align: top;\n",
       "    }\n",
       "\n",
       "    .dataframe thead th {\n",
       "        text-align: right;\n",
       "    }\n",
       "</style>\n",
       "<table border=\"1\" class=\"dataframe\">\n",
       "  <thead>\n",
       "    <tr style=\"text-align: right;\">\n",
       "      <th></th>\n",
       "      <th>W</th>\n",
       "      <th>X</th>\n",
       "      <th>Z</th>\n",
       "      <th>new</th>\n",
       "    </tr>\n",
       "  </thead>\n",
       "  <tbody>\n",
       "    <tr>\n",
       "      <th>A</th>\n",
       "      <td>-1.020020</td>\n",
       "      <td>-0.188938</td>\n",
       "      <td>1.699425</td>\n",
       "      <td>-0.535045</td>\n",
       "    </tr>\n",
       "    <tr>\n",
       "      <th>B</th>\n",
       "      <td>-1.700820</td>\n",
       "      <td>-1.365776</td>\n",
       "      <td>0.402300</td>\n",
       "      <td>-1.143175</td>\n",
       "    </tr>\n",
       "    <tr>\n",
       "      <th>C</th>\n",
       "      <td>-0.555771</td>\n",
       "      <td>-1.481982</td>\n",
       "      <td>0.428695</td>\n",
       "      <td>-0.235888</td>\n",
       "    </tr>\n",
       "    <tr>\n",
       "      <th>D</th>\n",
       "      <td>2.236007</td>\n",
       "      <td>1.088086</td>\n",
       "      <td>0.335742</td>\n",
       "      <td>2.257289</td>\n",
       "    </tr>\n",
       "    <tr>\n",
       "      <th>E</th>\n",
       "      <td>0.118831</td>\n",
       "      <td>-1.440776</td>\n",
       "      <td>0.583541</td>\n",
       "      <td>-0.780622</td>\n",
       "    </tr>\n",
       "  </tbody>\n",
       "</table>\n",
       "</div>"
      ],
      "text/plain": [
       "          W         X         Z       new\n",
       "A -1.020020 -0.188938  1.699425 -0.535045\n",
       "B -1.700820 -1.365776  0.402300 -1.143175\n",
       "C -0.555771 -1.481982  0.428695 -0.235888\n",
       "D  2.236007  1.088086  0.335742  2.257289\n",
       "E  0.118831 -1.440776  0.583541 -0.780622"
      ]
     },
     "execution_count": 25,
     "metadata": {},
     "output_type": "execute_result"
    }
   ],
   "source": [
    "df"
   ]
  },
  {
   "cell_type": "code",
   "execution_count": 26,
   "id": "ed35a64e-0ba5-41d4-8dcc-0cef19e77a88",
   "metadata": {},
   "outputs": [
    {
     "data": {
      "text/html": [
       "<div>\n",
       "<style scoped>\n",
       "    .dataframe tbody tr th:only-of-type {\n",
       "        vertical-align: middle;\n",
       "    }\n",
       "\n",
       "    .dataframe tbody tr th {\n",
       "        vertical-align: top;\n",
       "    }\n",
       "\n",
       "    .dataframe thead th {\n",
       "        text-align: right;\n",
       "    }\n",
       "</style>\n",
       "<table border=\"1\" class=\"dataframe\">\n",
       "  <thead>\n",
       "    <tr style=\"text-align: right;\">\n",
       "      <th></th>\n",
       "      <th>W</th>\n",
       "      <th>X</th>\n",
       "      <th>Z</th>\n",
       "    </tr>\n",
       "  </thead>\n",
       "  <tbody>\n",
       "    <tr>\n",
       "      <th>A</th>\n",
       "      <td>-1.020020</td>\n",
       "      <td>-0.188938</td>\n",
       "      <td>1.699425</td>\n",
       "    </tr>\n",
       "    <tr>\n",
       "      <th>B</th>\n",
       "      <td>-1.700820</td>\n",
       "      <td>-1.365776</td>\n",
       "      <td>0.402300</td>\n",
       "    </tr>\n",
       "    <tr>\n",
       "      <th>C</th>\n",
       "      <td>-0.555771</td>\n",
       "      <td>-1.481982</td>\n",
       "      <td>0.428695</td>\n",
       "    </tr>\n",
       "    <tr>\n",
       "      <th>D</th>\n",
       "      <td>2.236007</td>\n",
       "      <td>1.088086</td>\n",
       "      <td>0.335742</td>\n",
       "    </tr>\n",
       "    <tr>\n",
       "      <th>E</th>\n",
       "      <td>0.118831</td>\n",
       "      <td>-1.440776</td>\n",
       "      <td>0.583541</td>\n",
       "    </tr>\n",
       "  </tbody>\n",
       "</table>\n",
       "</div>"
      ],
      "text/plain": [
       "          W         X         Z\n",
       "A -1.020020 -0.188938  1.699425\n",
       "B -1.700820 -1.365776  0.402300\n",
       "C -0.555771 -1.481982  0.428695\n",
       "D  2.236007  1.088086  0.335742\n",
       "E  0.118831 -1.440776  0.583541"
      ]
     },
     "execution_count": 26,
     "metadata": {},
     "output_type": "execute_result"
    }
   ],
   "source": [
    "# outra forma de deletar eh com o drop (tira linhas ou colunas)\n",
    "# ele ataca colunas e linhas, eixo 1 colunas (axis1) e eixo0 linhas (axis0)\n",
    "df.drop('new', axis=1) # colunas"
   ]
  },
  {
   "cell_type": "code",
   "execution_count": 27,
   "id": "68b7eecb-b796-4abb-976e-abae045a3983",
   "metadata": {},
   "outputs": [
    {
     "data": {
      "text/html": [
       "<div>\n",
       "<style scoped>\n",
       "    .dataframe tbody tr th:only-of-type {\n",
       "        vertical-align: middle;\n",
       "    }\n",
       "\n",
       "    .dataframe tbody tr th {\n",
       "        vertical-align: top;\n",
       "    }\n",
       "\n",
       "    .dataframe thead th {\n",
       "        text-align: right;\n",
       "    }\n",
       "</style>\n",
       "<table border=\"1\" class=\"dataframe\">\n",
       "  <thead>\n",
       "    <tr style=\"text-align: right;\">\n",
       "      <th></th>\n",
       "      <th>W</th>\n",
       "      <th>X</th>\n",
       "      <th>Z</th>\n",
       "      <th>new</th>\n",
       "    </tr>\n",
       "  </thead>\n",
       "  <tbody>\n",
       "    <tr>\n",
       "      <th>A</th>\n",
       "      <td>-1.020020</td>\n",
       "      <td>-0.188938</td>\n",
       "      <td>1.699425</td>\n",
       "      <td>-0.535045</td>\n",
       "    </tr>\n",
       "    <tr>\n",
       "      <th>B</th>\n",
       "      <td>-1.700820</td>\n",
       "      <td>-1.365776</td>\n",
       "      <td>0.402300</td>\n",
       "      <td>-1.143175</td>\n",
       "    </tr>\n",
       "    <tr>\n",
       "      <th>C</th>\n",
       "      <td>-0.555771</td>\n",
       "      <td>-1.481982</td>\n",
       "      <td>0.428695</td>\n",
       "      <td>-0.235888</td>\n",
       "    </tr>\n",
       "    <tr>\n",
       "      <th>D</th>\n",
       "      <td>2.236007</td>\n",
       "      <td>1.088086</td>\n",
       "      <td>0.335742</td>\n",
       "      <td>2.257289</td>\n",
       "    </tr>\n",
       "    <tr>\n",
       "      <th>E</th>\n",
       "      <td>0.118831</td>\n",
       "      <td>-1.440776</td>\n",
       "      <td>0.583541</td>\n",
       "      <td>-0.780622</td>\n",
       "    </tr>\n",
       "  </tbody>\n",
       "</table>\n",
       "</div>"
      ],
      "text/plain": [
       "          W         X         Z       new\n",
       "A -1.020020 -0.188938  1.699425 -0.535045\n",
       "B -1.700820 -1.365776  0.402300 -1.143175\n",
       "C -0.555771 -1.481982  0.428695 -0.235888\n",
       "D  2.236007  1.088086  0.335742  2.257289\n",
       "E  0.118831 -1.440776  0.583541 -0.780622"
      ]
     },
     "execution_count": 27,
     "metadata": {},
     "output_type": "execute_result"
    }
   ],
   "source": [
    "# ele manipulou uma copia do que foi pedido ele nao executou definitivo\n",
    "df # aparece a tabela new novamente "
   ]
  },
  {
   "cell_type": "code",
   "execution_count": 28,
   "id": "ac9abe7a-5dd1-457a-bfca-007ee8d4ad60",
   "metadata": {},
   "outputs": [],
   "source": [
    "# posso salvar uma nova variavel\n",
    "df2 = df.drop('new', axis=1) # colunas"
   ]
  },
  {
   "cell_type": "code",
   "execution_count": 29,
   "id": "c3c6642f-841c-4be0-87d5-8eaf4e4d3f56",
   "metadata": {},
   "outputs": [
    {
     "data": {
      "text/html": [
       "<div>\n",
       "<style scoped>\n",
       "    .dataframe tbody tr th:only-of-type {\n",
       "        vertical-align: middle;\n",
       "    }\n",
       "\n",
       "    .dataframe tbody tr th {\n",
       "        vertical-align: top;\n",
       "    }\n",
       "\n",
       "    .dataframe thead th {\n",
       "        text-align: right;\n",
       "    }\n",
       "</style>\n",
       "<table border=\"1\" class=\"dataframe\">\n",
       "  <thead>\n",
       "    <tr style=\"text-align: right;\">\n",
       "      <th></th>\n",
       "      <th>W</th>\n",
       "      <th>X</th>\n",
       "      <th>Z</th>\n",
       "    </tr>\n",
       "  </thead>\n",
       "  <tbody>\n",
       "    <tr>\n",
       "      <th>A</th>\n",
       "      <td>-1.020020</td>\n",
       "      <td>-0.188938</td>\n",
       "      <td>1.699425</td>\n",
       "    </tr>\n",
       "    <tr>\n",
       "      <th>B</th>\n",
       "      <td>-1.700820</td>\n",
       "      <td>-1.365776</td>\n",
       "      <td>0.402300</td>\n",
       "    </tr>\n",
       "    <tr>\n",
       "      <th>C</th>\n",
       "      <td>-0.555771</td>\n",
       "      <td>-1.481982</td>\n",
       "      <td>0.428695</td>\n",
       "    </tr>\n",
       "    <tr>\n",
       "      <th>D</th>\n",
       "      <td>2.236007</td>\n",
       "      <td>1.088086</td>\n",
       "      <td>0.335742</td>\n",
       "    </tr>\n",
       "    <tr>\n",
       "      <th>E</th>\n",
       "      <td>0.118831</td>\n",
       "      <td>-1.440776</td>\n",
       "      <td>0.583541</td>\n",
       "    </tr>\n",
       "  </tbody>\n",
       "</table>\n",
       "</div>"
      ],
      "text/plain": [
       "          W         X         Z\n",
       "A -1.020020 -0.188938  1.699425\n",
       "B -1.700820 -1.365776  0.402300\n",
       "C -0.555771 -1.481982  0.428695\n",
       "D  2.236007  1.088086  0.335742\n",
       "E  0.118831 -1.440776  0.583541"
      ]
     },
     "execution_count": 29,
     "metadata": {},
     "output_type": "execute_result"
    }
   ],
   "source": [
    "df2"
   ]
  },
  {
   "cell_type": "code",
   "execution_count": 31,
   "id": "805a98d4-5300-4d34-8dc8-a6ddf81996cb",
   "metadata": {},
   "outputs": [],
   "source": [
    "# para alterar o DataFrame original usa inplace=True\n",
    "df.drop('new', axis=1, inplace=True) # colunas\n",
    "# ele trab originalmente no DF"
   ]
  },
  {
   "cell_type": "code",
   "execution_count": 32,
   "id": "ca03b35e-bd51-4120-96cb-aff1cd845f1e",
   "metadata": {},
   "outputs": [
    {
     "data": {
      "text/html": [
       "<div>\n",
       "<style scoped>\n",
       "    .dataframe tbody tr th:only-of-type {\n",
       "        vertical-align: middle;\n",
       "    }\n",
       "\n",
       "    .dataframe tbody tr th {\n",
       "        vertical-align: top;\n",
       "    }\n",
       "\n",
       "    .dataframe thead th {\n",
       "        text-align: right;\n",
       "    }\n",
       "</style>\n",
       "<table border=\"1\" class=\"dataframe\">\n",
       "  <thead>\n",
       "    <tr style=\"text-align: right;\">\n",
       "      <th></th>\n",
       "      <th>W</th>\n",
       "      <th>X</th>\n",
       "      <th>Z</th>\n",
       "    </tr>\n",
       "  </thead>\n",
       "  <tbody>\n",
       "    <tr>\n",
       "      <th>A</th>\n",
       "      <td>-1.020020</td>\n",
       "      <td>-0.188938</td>\n",
       "      <td>1.699425</td>\n",
       "    </tr>\n",
       "    <tr>\n",
       "      <th>B</th>\n",
       "      <td>-1.700820</td>\n",
       "      <td>-1.365776</td>\n",
       "      <td>0.402300</td>\n",
       "    </tr>\n",
       "    <tr>\n",
       "      <th>C</th>\n",
       "      <td>-0.555771</td>\n",
       "      <td>-1.481982</td>\n",
       "      <td>0.428695</td>\n",
       "    </tr>\n",
       "    <tr>\n",
       "      <th>D</th>\n",
       "      <td>2.236007</td>\n",
       "      <td>1.088086</td>\n",
       "      <td>0.335742</td>\n",
       "    </tr>\n",
       "    <tr>\n",
       "      <th>E</th>\n",
       "      <td>0.118831</td>\n",
       "      <td>-1.440776</td>\n",
       "      <td>0.583541</td>\n",
       "    </tr>\n",
       "  </tbody>\n",
       "</table>\n",
       "</div>"
      ],
      "text/plain": [
       "          W         X         Z\n",
       "A -1.020020 -0.188938  1.699425\n",
       "B -1.700820 -1.365776  0.402300\n",
       "C -0.555771 -1.481982  0.428695\n",
       "D  2.236007  1.088086  0.335742\n",
       "E  0.118831 -1.440776  0.583541"
      ]
     },
     "execution_count": 32,
     "metadata": {},
     "output_type": "execute_result"
    }
   ],
   "source": [
    "df"
   ]
  },
  {
   "cell_type": "code",
   "execution_count": 33,
   "id": "77578e7b-0b64-4661-8bfb-ea2929714bd7",
   "metadata": {},
   "outputs": [
    {
     "data": {
      "text/plain": [
       "W   -1.020020\n",
       "X   -0.188938\n",
       "Z    1.699425\n",
       "Name: A, dtype: float64"
      ]
     },
     "execution_count": 33,
     "metadata": {},
     "output_type": "execute_result"
    }
   ],
   "source": [
    "# fazer selecao em linhas, acessar linhas loc e iloc\n",
    "# pegar todas as informacoes da linha A\n",
    "df.loc['A']"
   ]
  },
  {
   "cell_type": "code",
   "execution_count": 34,
   "id": "2363f861-4b33-40b3-9fca-60fb4bf75f81",
   "metadata": {},
   "outputs": [
    {
     "data": {
      "text/html": [
       "<div>\n",
       "<style scoped>\n",
       "    .dataframe tbody tr th:only-of-type {\n",
       "        vertical-align: middle;\n",
       "    }\n",
       "\n",
       "    .dataframe tbody tr th {\n",
       "        vertical-align: top;\n",
       "    }\n",
       "\n",
       "    .dataframe thead th {\n",
       "        text-align: right;\n",
       "    }\n",
       "</style>\n",
       "<table border=\"1\" class=\"dataframe\">\n",
       "  <thead>\n",
       "    <tr style=\"text-align: right;\">\n",
       "      <th></th>\n",
       "      <th>W</th>\n",
       "      <th>X</th>\n",
       "      <th>Z</th>\n",
       "    </tr>\n",
       "  </thead>\n",
       "  <tbody>\n",
       "    <tr>\n",
       "      <th>A</th>\n",
       "      <td>-1.02002</td>\n",
       "      <td>-0.188938</td>\n",
       "      <td>1.699425</td>\n",
       "    </tr>\n",
       "    <tr>\n",
       "      <th>B</th>\n",
       "      <td>-1.70082</td>\n",
       "      <td>-1.365776</td>\n",
       "      <td>0.402300</td>\n",
       "    </tr>\n",
       "  </tbody>\n",
       "</table>\n",
       "</div>"
      ],
      "text/plain": [
       "         W         X         Z\n",
       "A -1.02002 -0.188938  1.699425\n",
       "B -1.70082 -1.365776  0.402300"
      ]
     },
     "execution_count": 34,
     "metadata": {},
     "output_type": "execute_result"
    }
   ],
   "source": [
    "# para passar de duas linhas de todas as colunas dessas linhas\n",
    "df.loc[['A', 'B']] # seleciona por roluto, qdo eu uso [] ja estou me referindo ao indices"
   ]
  },
  {
   "cell_type": "code",
   "execution_count": 35,
   "id": "ea4538e4-d8d0-4509-97b4-f4bbae590938",
   "metadata": {},
   "outputs": [
    {
     "data": {
      "text/plain": [
       "np.float64(1.6994248255433895)"
      ]
     },
     "execution_count": 35,
     "metadata": {},
     "output_type": "execute_result"
    }
   ],
   "source": [
    "# iloc => trab com numeros\n",
    "# passando indice da coluna e indice da linha\n",
    "df.iloc[0, 2] # seleciona por numerico, qdo eu uso [] ja estou me referindo ao indices"
   ]
  },
  {
   "cell_type": "code",
   "execution_count": 37,
   "id": "ed42b117-1be6-4564-b577-8ea7ddd10ff9",
   "metadata": {},
   "outputs": [
    {
     "data": {
      "text/plain": [
       "A   -1.02002\n",
       "B   -1.70082\n",
       "Name: W, dtype: float64"
      ]
     },
     "execution_count": 37,
     "metadata": {},
     "output_type": "execute_result"
    }
   ],
   "source": [
    "df.loc[['A', 'B'], 'W']# apos essa ],  pego inf Series "
   ]
  },
  {
   "cell_type": "code",
   "execution_count": 38,
   "id": "77d79399-84c0-4fa6-907b-40c655b645c1",
   "metadata": {},
   "outputs": [
    {
     "data": {
      "text/html": [
       "<div>\n",
       "<style scoped>\n",
       "    .dataframe tbody tr th:only-of-type {\n",
       "        vertical-align: middle;\n",
       "    }\n",
       "\n",
       "    .dataframe tbody tr th {\n",
       "        vertical-align: top;\n",
       "    }\n",
       "\n",
       "    .dataframe thead th {\n",
       "        text-align: right;\n",
       "    }\n",
       "</style>\n",
       "<table border=\"1\" class=\"dataframe\">\n",
       "  <thead>\n",
       "    <tr style=\"text-align: right;\">\n",
       "      <th></th>\n",
       "      <th>W</th>\n",
       "    </tr>\n",
       "  </thead>\n",
       "  <tbody>\n",
       "    <tr>\n",
       "      <th>A</th>\n",
       "      <td>-1.02002</td>\n",
       "    </tr>\n",
       "    <tr>\n",
       "      <th>B</th>\n",
       "      <td>-1.70082</td>\n",
       "    </tr>\n",
       "  </tbody>\n",
       "</table>\n",
       "</div>"
      ],
      "text/plain": [
       "         W\n",
       "A -1.02002\n",
       "B -1.70082"
      ]
     },
     "execution_count": 38,
     "metadata": {},
     "output_type": "execute_result"
    }
   ],
   "source": [
    "# para retornar dataframe de coluna passa ele dentro de []\n",
    "df.loc[['A', 'B'], ['W']]# apos essa ],  pego inf Series "
   ]
  },
  {
   "cell_type": "code",
   "execution_count": 39,
   "id": "f35b246d-9096-4993-8e5b-5b178d2bcb49",
   "metadata": {},
   "outputs": [
    {
     "data": {
      "text/plain": [
       "np.float64(1.6994248255433895)"
      ]
     },
     "execution_count": 39,
     "metadata": {},
     "output_type": "execute_result"
    }
   ],
   "source": [
    "# passando indice da coluna e indice da linha, 0 linha, 2 coluna\n",
    "df.iloc[0, 2] "
   ]
  },
  {
   "cell_type": "code",
   "execution_count": 40,
   "id": "724d1629-2da4-4143-b464-6ce55640f7ec",
   "metadata": {},
   "outputs": [
    {
     "data": {
      "text/html": [
       "<div>\n",
       "<style scoped>\n",
       "    .dataframe tbody tr th:only-of-type {\n",
       "        vertical-align: middle;\n",
       "    }\n",
       "\n",
       "    .dataframe tbody tr th {\n",
       "        vertical-align: top;\n",
       "    }\n",
       "\n",
       "    .dataframe thead th {\n",
       "        text-align: right;\n",
       "    }\n",
       "</style>\n",
       "<table border=\"1\" class=\"dataframe\">\n",
       "  <thead>\n",
       "    <tr style=\"text-align: right;\">\n",
       "      <th></th>\n",
       "      <th>W</th>\n",
       "      <th>X</th>\n",
       "      <th>Z</th>\n",
       "    </tr>\n",
       "  </thead>\n",
       "  <tbody>\n",
       "    <tr>\n",
       "      <th>A</th>\n",
       "      <td>-1.020020</td>\n",
       "      <td>-0.188938</td>\n",
       "      <td>1.699425</td>\n",
       "    </tr>\n",
       "    <tr>\n",
       "      <th>B</th>\n",
       "      <td>-1.700820</td>\n",
       "      <td>-1.365776</td>\n",
       "      <td>0.402300</td>\n",
       "    </tr>\n",
       "    <tr>\n",
       "      <th>C</th>\n",
       "      <td>-0.555771</td>\n",
       "      <td>-1.481982</td>\n",
       "      <td>0.428695</td>\n",
       "    </tr>\n",
       "    <tr>\n",
       "      <th>D</th>\n",
       "      <td>2.236007</td>\n",
       "      <td>1.088086</td>\n",
       "      <td>0.335742</td>\n",
       "    </tr>\n",
       "    <tr>\n",
       "      <th>E</th>\n",
       "      <td>0.118831</td>\n",
       "      <td>-1.440776</td>\n",
       "      <td>0.583541</td>\n",
       "    </tr>\n",
       "  </tbody>\n",
       "</table>\n",
       "</div>"
      ],
      "text/plain": [
       "          W         X         Z\n",
       "A -1.020020 -0.188938  1.699425\n",
       "B -1.700820 -1.365776  0.402300\n",
       "C -0.555771 -1.481982  0.428695\n",
       "D  2.236007  1.088086  0.335742\n",
       "E  0.118831 -1.440776  0.583541"
      ]
     },
     "execution_count": 40,
     "metadata": {},
     "output_type": "execute_result"
    }
   ],
   "source": [
    "df"
   ]
  },
  {
   "cell_type": "code",
   "execution_count": 42,
   "id": "fda112a8-6b9f-4ebb-a2d2-d372f7684277",
   "metadata": {},
   "outputs": [
    {
     "data": {
      "text/html": [
       "<div>\n",
       "<style scoped>\n",
       "    .dataframe tbody tr th:only-of-type {\n",
       "        vertical-align: middle;\n",
       "    }\n",
       "\n",
       "    .dataframe tbody tr th {\n",
       "        vertical-align: top;\n",
       "    }\n",
       "\n",
       "    .dataframe thead th {\n",
       "        text-align: right;\n",
       "    }\n",
       "</style>\n",
       "<table border=\"1\" class=\"dataframe\">\n",
       "  <thead>\n",
       "    <tr style=\"text-align: right;\">\n",
       "      <th></th>\n",
       "      <th>W</th>\n",
       "      <th>X</th>\n",
       "      <th>Z</th>\n",
       "    </tr>\n",
       "  </thead>\n",
       "  <tbody>\n",
       "    <tr>\n",
       "      <th>A</th>\n",
       "      <td>-1.020020</td>\n",
       "      <td>-0.188938</td>\n",
       "      <td>1.699425</td>\n",
       "    </tr>\n",
       "    <tr>\n",
       "      <th>B</th>\n",
       "      <td>-1.700820</td>\n",
       "      <td>-1.365776</td>\n",
       "      <td>0.402300</td>\n",
       "    </tr>\n",
       "    <tr>\n",
       "      <th>C</th>\n",
       "      <td>-0.555771</td>\n",
       "      <td>-1.481982</td>\n",
       "      <td>0.428695</td>\n",
       "    </tr>\n",
       "    <tr>\n",
       "      <th>D</th>\n",
       "      <td>2.236007</td>\n",
       "      <td>1.088086</td>\n",
       "      <td>0.335742</td>\n",
       "    </tr>\n",
       "  </tbody>\n",
       "</table>\n",
       "</div>"
      ],
      "text/plain": [
       "          W         X         Z\n",
       "A -1.020020 -0.188938  1.699425\n",
       "B -1.700820 -1.365776  0.402300\n",
       "C -0.555771 -1.481982  0.428695\n",
       "D  2.236007  1.088086  0.335742"
      ]
     },
     "execution_count": 42,
     "metadata": {},
     "output_type": "execute_result"
    }
   ],
   "source": [
    "# pega todas as linhas menos a ultima e pega todas as colunas\n",
    "# :-1, :\n",
    "df.iloc[:-1, :]"
   ]
  },
  {
   "cell_type": "code",
   "execution_count": 43,
   "id": "cf1fe20a-6336-418b-83f6-3b2ed34d59a7",
   "metadata": {},
   "outputs": [
    {
     "data": {
      "text/html": [
       "<div>\n",
       "<style scoped>\n",
       "    .dataframe tbody tr th:only-of-type {\n",
       "        vertical-align: middle;\n",
       "    }\n",
       "\n",
       "    .dataframe tbody tr th {\n",
       "        vertical-align: top;\n",
       "    }\n",
       "\n",
       "    .dataframe thead th {\n",
       "        text-align: right;\n",
       "    }\n",
       "</style>\n",
       "<table border=\"1\" class=\"dataframe\">\n",
       "  <thead>\n",
       "    <tr style=\"text-align: right;\">\n",
       "      <th></th>\n",
       "      <th>X</th>\n",
       "      <th>Z</th>\n",
       "    </tr>\n",
       "  </thead>\n",
       "  <tbody>\n",
       "    <tr>\n",
       "      <th>B</th>\n",
       "      <td>-1.365776</td>\n",
       "      <td>0.402300</td>\n",
       "    </tr>\n",
       "    <tr>\n",
       "      <th>C</th>\n",
       "      <td>-1.481982</td>\n",
       "      <td>0.428695</td>\n",
       "    </tr>\n",
       "    <tr>\n",
       "      <th>D</th>\n",
       "      <td>1.088086</td>\n",
       "      <td>0.335742</td>\n",
       "    </tr>\n",
       "  </tbody>\n",
       "</table>\n",
       "</div>"
      ],
      "text/plain": [
       "          X         Z\n",
       "B -1.365776  0.402300\n",
       "C -1.481982  0.428695\n",
       "D  1.088086  0.335742"
      ]
     },
     "execution_count": 43,
     "metadata": {},
     "output_type": "execute_result"
    }
   ],
   "source": [
    "# testes para trab com indices\n",
    "df.iloc[1:4, 1:3]\n",
    "#1:4 → pega as linhas de posição 1 até 3 (o número final não é incluso).\n",
    "#1:3 → pega as colunas de posição 1 até 2 (também exclui o final).\n",
    "\n",
    "# otimo para trabalhar com matrizes de dataframe"
   ]
  },
  {
   "cell_type": "code",
   "execution_count": 44,
   "id": "94c38774-6b29-4a36-b17f-b52f3c103d47",
   "metadata": {},
   "outputs": [
    {
     "data": {
      "text/html": [
       "<div>\n",
       "<style scoped>\n",
       "    .dataframe tbody tr th:only-of-type {\n",
       "        vertical-align: middle;\n",
       "    }\n",
       "\n",
       "    .dataframe tbody tr th {\n",
       "        vertical-align: top;\n",
       "    }\n",
       "\n",
       "    .dataframe thead th {\n",
       "        text-align: right;\n",
       "    }\n",
       "</style>\n",
       "<table border=\"1\" class=\"dataframe\">\n",
       "  <thead>\n",
       "    <tr style=\"text-align: right;\">\n",
       "      <th></th>\n",
       "      <th>W</th>\n",
       "      <th>X</th>\n",
       "      <th>Z</th>\n",
       "    </tr>\n",
       "  </thead>\n",
       "  <tbody>\n",
       "    <tr>\n",
       "      <th>A</th>\n",
       "      <td>-1.020020</td>\n",
       "      <td>-0.188938</td>\n",
       "      <td>1.699425</td>\n",
       "    </tr>\n",
       "    <tr>\n",
       "      <th>B</th>\n",
       "      <td>-1.700820</td>\n",
       "      <td>-1.365776</td>\n",
       "      <td>0.402300</td>\n",
       "    </tr>\n",
       "    <tr>\n",
       "      <th>C</th>\n",
       "      <td>-0.555771</td>\n",
       "      <td>-1.481982</td>\n",
       "      <td>0.428695</td>\n",
       "    </tr>\n",
       "    <tr>\n",
       "      <th>D</th>\n",
       "      <td>2.236007</td>\n",
       "      <td>1.088086</td>\n",
       "      <td>0.335742</td>\n",
       "    </tr>\n",
       "    <tr>\n",
       "      <th>E</th>\n",
       "      <td>0.118831</td>\n",
       "      <td>-1.440776</td>\n",
       "      <td>0.583541</td>\n",
       "    </tr>\n",
       "  </tbody>\n",
       "</table>\n",
       "</div>"
      ],
      "text/plain": [
       "          W         X         Z\n",
       "A -1.020020 -0.188938  1.699425\n",
       "B -1.700820 -1.365776  0.402300\n",
       "C -0.555771 -1.481982  0.428695\n",
       "D  2.236007  1.088086  0.335742\n",
       "E  0.118831 -1.440776  0.583541"
      ]
     },
     "execution_count": 44,
     "metadata": {},
     "output_type": "execute_result"
    }
   ],
   "source": [
    "# selecao condicional\n",
    "df\n"
   ]
  },
  {
   "cell_type": "code",
   "execution_count": 45,
   "id": "7d158781-7335-4c90-a68a-a50d1c56ec05",
   "metadata": {},
   "outputs": [
    {
     "data": {
      "text/html": [
       "<div>\n",
       "<style scoped>\n",
       "    .dataframe tbody tr th:only-of-type {\n",
       "        vertical-align: middle;\n",
       "    }\n",
       "\n",
       "    .dataframe tbody tr th {\n",
       "        vertical-align: top;\n",
       "    }\n",
       "\n",
       "    .dataframe thead th {\n",
       "        text-align: right;\n",
       "    }\n",
       "</style>\n",
       "<table border=\"1\" class=\"dataframe\">\n",
       "  <thead>\n",
       "    <tr style=\"text-align: right;\">\n",
       "      <th></th>\n",
       "      <th>W</th>\n",
       "      <th>X</th>\n",
       "      <th>Z</th>\n",
       "    </tr>\n",
       "  </thead>\n",
       "  <tbody>\n",
       "    <tr>\n",
       "      <th>A</th>\n",
       "      <td>-2.040039</td>\n",
       "      <td>-0.377876</td>\n",
       "      <td>3.398850</td>\n",
       "    </tr>\n",
       "    <tr>\n",
       "      <th>B</th>\n",
       "      <td>-3.401640</td>\n",
       "      <td>-2.731552</td>\n",
       "      <td>0.804599</td>\n",
       "    </tr>\n",
       "    <tr>\n",
       "      <th>C</th>\n",
       "      <td>-1.111542</td>\n",
       "      <td>-2.963965</td>\n",
       "      <td>0.857389</td>\n",
       "    </tr>\n",
       "    <tr>\n",
       "      <th>D</th>\n",
       "      <td>4.472014</td>\n",
       "      <td>2.176173</td>\n",
       "      <td>0.671484</td>\n",
       "    </tr>\n",
       "    <tr>\n",
       "      <th>E</th>\n",
       "      <td>0.237662</td>\n",
       "      <td>-2.881552</td>\n",
       "      <td>1.167082</td>\n",
       "    </tr>\n",
       "  </tbody>\n",
       "</table>\n",
       "</div>"
      ],
      "text/plain": [
       "          W         X         Z\n",
       "A -2.040039 -0.377876  3.398850\n",
       "B -3.401640 -2.731552  0.804599\n",
       "C -1.111542 -2.963965  0.857389\n",
       "D  4.472014  2.176173  0.671484\n",
       "E  0.237662 -2.881552  1.167082"
      ]
     },
     "execution_count": 45,
     "metadata": {},
     "output_type": "execute_result"
    }
   ],
   "source": [
    "# somar os df dataframes\n",
    "df + df"
   ]
  },
  {
   "cell_type": "code",
   "execution_count": 46,
   "id": "9a9d9397-8059-4739-8080-e6f5e2c61752",
   "metadata": {},
   "outputs": [
    {
     "data": {
      "text/html": [
       "<div>\n",
       "<style scoped>\n",
       "    .dataframe tbody tr th:only-of-type {\n",
       "        vertical-align: middle;\n",
       "    }\n",
       "\n",
       "    .dataframe tbody tr th {\n",
       "        vertical-align: top;\n",
       "    }\n",
       "\n",
       "    .dataframe thead th {\n",
       "        text-align: right;\n",
       "    }\n",
       "</style>\n",
       "<table border=\"1\" class=\"dataframe\">\n",
       "  <thead>\n",
       "    <tr style=\"text-align: right;\">\n",
       "      <th></th>\n",
       "      <th>W</th>\n",
       "      <th>X</th>\n",
       "      <th>Z</th>\n",
       "    </tr>\n",
       "  </thead>\n",
       "  <tbody>\n",
       "    <tr>\n",
       "      <th>A</th>\n",
       "      <td>-1.020020</td>\n",
       "      <td>-0.188938</td>\n",
       "      <td>1.699425</td>\n",
       "    </tr>\n",
       "    <tr>\n",
       "      <th>B</th>\n",
       "      <td>-1.700820</td>\n",
       "      <td>-1.365776</td>\n",
       "      <td>0.402300</td>\n",
       "    </tr>\n",
       "    <tr>\n",
       "      <th>C</th>\n",
       "      <td>-0.555771</td>\n",
       "      <td>-1.481982</td>\n",
       "      <td>0.428695</td>\n",
       "    </tr>\n",
       "    <tr>\n",
       "      <th>D</th>\n",
       "      <td>2.236007</td>\n",
       "      <td>1.088086</td>\n",
       "      <td>0.335742</td>\n",
       "    </tr>\n",
       "    <tr>\n",
       "      <th>E</th>\n",
       "      <td>0.118831</td>\n",
       "      <td>-1.440776</td>\n",
       "      <td>0.583541</td>\n",
       "    </tr>\n",
       "  </tbody>\n",
       "</table>\n",
       "</div>"
      ],
      "text/plain": [
       "          W         X         Z\n",
       "A -1.020020 -0.188938  1.699425\n",
       "B -1.700820 -1.365776  0.402300\n",
       "C -0.555771 -1.481982  0.428695\n",
       "D  2.236007  1.088086  0.335742\n",
       "E  0.118831 -1.440776  0.583541"
      ]
     },
     "execution_count": 46,
     "metadata": {},
     "output_type": "execute_result"
    }
   ],
   "source": [
    "df"
   ]
  },
  {
   "cell_type": "code",
   "execution_count": 47,
   "id": "3c8b1571-4897-47ed-a81e-9227eee56464",
   "metadata": {},
   "outputs": [
    {
     "data": {
      "text/html": [
       "<div>\n",
       "<style scoped>\n",
       "    .dataframe tbody tr th:only-of-type {\n",
       "        vertical-align: middle;\n",
       "    }\n",
       "\n",
       "    .dataframe tbody tr th {\n",
       "        vertical-align: top;\n",
       "    }\n",
       "\n",
       "    .dataframe thead th {\n",
       "        text-align: right;\n",
       "    }\n",
       "</style>\n",
       "<table border=\"1\" class=\"dataframe\">\n",
       "  <thead>\n",
       "    <tr style=\"text-align: right;\">\n",
       "      <th></th>\n",
       "      <th>W</th>\n",
       "      <th>X</th>\n",
       "      <th>Z</th>\n",
       "    </tr>\n",
       "  </thead>\n",
       "  <tbody>\n",
       "    <tr>\n",
       "      <th>A</th>\n",
       "      <td>False</td>\n",
       "      <td>False</td>\n",
       "      <td>True</td>\n",
       "    </tr>\n",
       "    <tr>\n",
       "      <th>B</th>\n",
       "      <td>False</td>\n",
       "      <td>False</td>\n",
       "      <td>True</td>\n",
       "    </tr>\n",
       "    <tr>\n",
       "      <th>C</th>\n",
       "      <td>False</td>\n",
       "      <td>False</td>\n",
       "      <td>True</td>\n",
       "    </tr>\n",
       "    <tr>\n",
       "      <th>D</th>\n",
       "      <td>True</td>\n",
       "      <td>True</td>\n",
       "      <td>True</td>\n",
       "    </tr>\n",
       "    <tr>\n",
       "      <th>E</th>\n",
       "      <td>True</td>\n",
       "      <td>False</td>\n",
       "      <td>True</td>\n",
       "    </tr>\n",
       "  </tbody>\n",
       "</table>\n",
       "</div>"
      ],
      "text/plain": [
       "       W      X     Z\n",
       "A  False  False  True\n",
       "B  False  False  True\n",
       "C  False  False  True\n",
       "D   True   True  True\n",
       "E   True  False  True"
      ]
     },
     "execution_count": 47,
     "metadata": {},
     "output_type": "execute_result"
    }
   ],
   "source": [
    "# operacoes condicionais\n",
    "df > 0"
   ]
  },
  {
   "cell_type": "code",
   "execution_count": null,
   "id": "848e73de-22b7-419c-9f1c-5bb1d5fc524a",
   "metadata": {},
   "outputs": [],
   "source": []
  },
  {
   "cell_type": "code",
   "execution_count": 48,
   "id": "fe2364ae-314e-4ee3-afff-a7cd8a157277",
   "metadata": {},
   "outputs": [
    {
     "data": {
      "text/html": [
       "<div>\n",
       "<style scoped>\n",
       "    .dataframe tbody tr th:only-of-type {\n",
       "        vertical-align: middle;\n",
       "    }\n",
       "\n",
       "    .dataframe tbody tr th {\n",
       "        vertical-align: top;\n",
       "    }\n",
       "\n",
       "    .dataframe thead th {\n",
       "        text-align: right;\n",
       "    }\n",
       "</style>\n",
       "<table border=\"1\" class=\"dataframe\">\n",
       "  <thead>\n",
       "    <tr style=\"text-align: right;\">\n",
       "      <th></th>\n",
       "      <th>W</th>\n",
       "      <th>X</th>\n",
       "      <th>Z</th>\n",
       "    </tr>\n",
       "  </thead>\n",
       "  <tbody>\n",
       "    <tr>\n",
       "      <th>A</th>\n",
       "      <td>NaN</td>\n",
       "      <td>NaN</td>\n",
       "      <td>1.699425</td>\n",
       "    </tr>\n",
       "    <tr>\n",
       "      <th>B</th>\n",
       "      <td>NaN</td>\n",
       "      <td>NaN</td>\n",
       "      <td>0.402300</td>\n",
       "    </tr>\n",
       "    <tr>\n",
       "      <th>C</th>\n",
       "      <td>NaN</td>\n",
       "      <td>NaN</td>\n",
       "      <td>0.428695</td>\n",
       "    </tr>\n",
       "    <tr>\n",
       "      <th>D</th>\n",
       "      <td>2.236007</td>\n",
       "      <td>1.088086</td>\n",
       "      <td>0.335742</td>\n",
       "    </tr>\n",
       "    <tr>\n",
       "      <th>E</th>\n",
       "      <td>0.118831</td>\n",
       "      <td>NaN</td>\n",
       "      <td>0.583541</td>\n",
       "    </tr>\n",
       "  </tbody>\n",
       "</table>\n",
       "</div>"
      ],
      "text/plain": [
       "          W         X         Z\n",
       "A       NaN       NaN  1.699425\n",
       "B       NaN       NaN  0.402300\n",
       "C       NaN       NaN  0.428695\n",
       "D  2.236007  1.088086  0.335742\n",
       "E  0.118831       NaN  0.583541"
      ]
     },
     "execution_count": 48,
     "metadata": {},
     "output_type": "execute_result"
    }
   ],
   "source": [
    "# eu quero qdo ele for maior que 0\n",
    "df[df > 0] # como se faz filtro nos dados"
   ]
  },
  {
   "cell_type": "code",
   "execution_count": 49,
   "id": "d0647a38-e867-41ae-8f41-3e653238f996",
   "metadata": {},
   "outputs": [
    {
     "data": {
      "text/html": [
       "<div>\n",
       "<style scoped>\n",
       "    .dataframe tbody tr th:only-of-type {\n",
       "        vertical-align: middle;\n",
       "    }\n",
       "\n",
       "    .dataframe tbody tr th {\n",
       "        vertical-align: top;\n",
       "    }\n",
       "\n",
       "    .dataframe thead th {\n",
       "        text-align: right;\n",
       "    }\n",
       "</style>\n",
       "<table border=\"1\" class=\"dataframe\">\n",
       "  <thead>\n",
       "    <tr style=\"text-align: right;\">\n",
       "      <th></th>\n",
       "      <th>W</th>\n",
       "      <th>X</th>\n",
       "      <th>Z</th>\n",
       "    </tr>\n",
       "  </thead>\n",
       "  <tbody>\n",
       "    <tr>\n",
       "      <th>A</th>\n",
       "      <td>-1.020020</td>\n",
       "      <td>-0.188938</td>\n",
       "      <td>1.699425</td>\n",
       "    </tr>\n",
       "    <tr>\n",
       "      <th>B</th>\n",
       "      <td>-1.700820</td>\n",
       "      <td>-1.365776</td>\n",
       "      <td>0.402300</td>\n",
       "    </tr>\n",
       "    <tr>\n",
       "      <th>C</th>\n",
       "      <td>-0.555771</td>\n",
       "      <td>-1.481982</td>\n",
       "      <td>0.428695</td>\n",
       "    </tr>\n",
       "    <tr>\n",
       "      <th>D</th>\n",
       "      <td>2.236007</td>\n",
       "      <td>1.088086</td>\n",
       "      <td>0.335742</td>\n",
       "    </tr>\n",
       "    <tr>\n",
       "      <th>E</th>\n",
       "      <td>0.118831</td>\n",
       "      <td>-1.440776</td>\n",
       "      <td>0.583541</td>\n",
       "    </tr>\n",
       "  </tbody>\n",
       "</table>\n",
       "</div>"
      ],
      "text/plain": [
       "          W         X         Z\n",
       "A -1.020020 -0.188938  1.699425\n",
       "B -1.700820 -1.365776  0.402300\n",
       "C -0.555771 -1.481982  0.428695\n",
       "D  2.236007  1.088086  0.335742\n",
       "E  0.118831 -1.440776  0.583541"
      ]
     },
     "execution_count": 49,
     "metadata": {},
     "output_type": "execute_result"
    }
   ],
   "source": [
    "df"
   ]
  },
  {
   "cell_type": "code",
   "execution_count": 56,
   "id": "c24c2f83-b56d-4ac3-aaae-93d7fbc6c244",
   "metadata": {},
   "outputs": [
    {
     "data": {
      "text/plain": [
       "A    False\n",
       "B    False\n",
       "C    False\n",
       "D     True\n",
       "E    False\n",
       "Name: X, dtype: bool"
      ]
     },
     "execution_count": 56,
     "metadata": {},
     "output_type": "execute_result"
    }
   ],
   "source": [
    "df['X'] > 0"
   ]
  },
  {
   "cell_type": "code",
   "execution_count": 55,
   "id": "8ca419ff-abec-4f48-93a3-632f1a717ab9",
   "metadata": {},
   "outputs": [
    {
     "data": {
      "text/html": [
       "<div>\n",
       "<style scoped>\n",
       "    .dataframe tbody tr th:only-of-type {\n",
       "        vertical-align: middle;\n",
       "    }\n",
       "\n",
       "    .dataframe tbody tr th {\n",
       "        vertical-align: top;\n",
       "    }\n",
       "\n",
       "    .dataframe thead th {\n",
       "        text-align: right;\n",
       "    }\n",
       "</style>\n",
       "<table border=\"1\" class=\"dataframe\">\n",
       "  <thead>\n",
       "    <tr style=\"text-align: right;\">\n",
       "      <th></th>\n",
       "      <th>W</th>\n",
       "      <th>X</th>\n",
       "      <th>Z</th>\n",
       "    </tr>\n",
       "  </thead>\n",
       "  <tbody>\n",
       "    <tr>\n",
       "      <th>D</th>\n",
       "      <td>2.236007</td>\n",
       "      <td>1.088086</td>\n",
       "      <td>0.335742</td>\n",
       "    </tr>\n",
       "  </tbody>\n",
       "</table>\n",
       "</div>"
      ],
      "text/plain": [
       "          W         X         Z\n",
       "D  2.236007  1.088086  0.335742"
      ]
     },
     "execution_count": 55,
     "metadata": {},
     "output_type": "execute_result"
    }
   ],
   "source": [
    "# me retorne somente qdo for maior que 0 o indice \n",
    "df[df['X'] > 0]"
   ]
  },
  {
   "cell_type": "code",
   "execution_count": 57,
   "id": "a46f4b5b-1899-4d7a-a8fe-fdc19e073d33",
   "metadata": {},
   "outputs": [
    {
     "data": {
      "text/plain": [
       "A    False\n",
       "B    False\n",
       "C    False\n",
       "D     True\n",
       "E    False\n",
       "dtype: bool"
      ]
     },
     "execution_count": 57,
     "metadata": {},
     "output_type": "execute_result"
    }
   ],
   "source": [
    "# operacao linha a linha com operador logico E \n",
    "(df['X'] > 0) & (df['W'] > 0)\n"
   ]
  },
  {
   "cell_type": "code",
   "execution_count": 58,
   "id": "315ecb32-372e-4300-bcc4-f1b90f4d9028",
   "metadata": {},
   "outputs": [
    {
     "data": {
      "text/html": [
       "<div>\n",
       "<style scoped>\n",
       "    .dataframe tbody tr th:only-of-type {\n",
       "        vertical-align: middle;\n",
       "    }\n",
       "\n",
       "    .dataframe tbody tr th {\n",
       "        vertical-align: top;\n",
       "    }\n",
       "\n",
       "    .dataframe thead th {\n",
       "        text-align: right;\n",
       "    }\n",
       "</style>\n",
       "<table border=\"1\" class=\"dataframe\">\n",
       "  <thead>\n",
       "    <tr style=\"text-align: right;\">\n",
       "      <th></th>\n",
       "      <th>W</th>\n",
       "      <th>X</th>\n",
       "      <th>Z</th>\n",
       "    </tr>\n",
       "  </thead>\n",
       "  <tbody>\n",
       "    <tr>\n",
       "      <th>D</th>\n",
       "      <td>2.236007</td>\n",
       "      <td>1.088086</td>\n",
       "      <td>0.335742</td>\n",
       "    </tr>\n",
       "  </tbody>\n",
       "</table>\n",
       "</div>"
      ],
      "text/plain": [
       "          W         X         Z\n",
       "D  2.236007  1.088086  0.335742"
      ]
     },
     "execution_count": 58,
     "metadata": {},
     "output_type": "execute_result"
    }
   ],
   "source": [
    "# agora indices com a regra de ler () por (), blocos\n",
    "df[(df['X'] > 0) & (df['W'] > 0)]"
   ]
  },
  {
   "cell_type": "code",
   "execution_count": 59,
   "id": "e1dac962-4262-4665-a743-4b0bb22d6054",
   "metadata": {},
   "outputs": [
    {
     "data": {
      "text/html": [
       "<div>\n",
       "<style scoped>\n",
       "    .dataframe tbody tr th:only-of-type {\n",
       "        vertical-align: middle;\n",
       "    }\n",
       "\n",
       "    .dataframe tbody tr th {\n",
       "        vertical-align: top;\n",
       "    }\n",
       "\n",
       "    .dataframe thead th {\n",
       "        text-align: right;\n",
       "    }\n",
       "</style>\n",
       "<table border=\"1\" class=\"dataframe\">\n",
       "  <thead>\n",
       "    <tr style=\"text-align: right;\">\n",
       "      <th></th>\n",
       "      <th>W</th>\n",
       "      <th>X</th>\n",
       "      <th>Z</th>\n",
       "    </tr>\n",
       "  </thead>\n",
       "  <tbody>\n",
       "    <tr>\n",
       "      <th>A</th>\n",
       "      <td>-1.020020</td>\n",
       "      <td>-0.188938</td>\n",
       "      <td>1.699425</td>\n",
       "    </tr>\n",
       "    <tr>\n",
       "      <th>B</th>\n",
       "      <td>-1.700820</td>\n",
       "      <td>-1.365776</td>\n",
       "      <td>0.402300</td>\n",
       "    </tr>\n",
       "    <tr>\n",
       "      <th>C</th>\n",
       "      <td>-0.555771</td>\n",
       "      <td>-1.481982</td>\n",
       "      <td>0.428695</td>\n",
       "    </tr>\n",
       "    <tr>\n",
       "      <th>D</th>\n",
       "      <td>2.236007</td>\n",
       "      <td>1.088086</td>\n",
       "      <td>0.335742</td>\n",
       "    </tr>\n",
       "    <tr>\n",
       "      <th>E</th>\n",
       "      <td>0.118831</td>\n",
       "      <td>-1.440776</td>\n",
       "      <td>0.583541</td>\n",
       "    </tr>\n",
       "  </tbody>\n",
       "</table>\n",
       "</div>"
      ],
      "text/plain": [
       "          W         X         Z\n",
       "A -1.020020 -0.188938  1.699425\n",
       "B -1.700820 -1.365776  0.402300\n",
       "C -0.555771 -1.481982  0.428695\n",
       "D  2.236007  1.088086  0.335742\n",
       "E  0.118831 -1.440776  0.583541"
      ]
     },
     "execution_count": 59,
     "metadata": {},
     "output_type": "execute_result"
    }
   ],
   "source": [
    "# mais detalhes com indices\n",
    "df"
   ]
  },
  {
   "cell_type": "code",
   "execution_count": null,
   "id": "a148a205-4ee3-4e74-8e86-33fd1ea6ee34",
   "metadata": {},
   "outputs": [],
   "source": [
    "# procurar indices ou colunas dentro do Pandas"
   ]
  },
  {
   "cell_type": "code",
   "execution_count": 60,
   "id": "68be4cbe-e099-41bd-87e8-5c9e2412a80a",
   "metadata": {},
   "outputs": [
    {
     "data": {
      "text/plain": [
       "Index(['W', 'X', 'Z'], dtype='object')"
      ]
     },
     "execution_count": 60,
     "metadata": {},
     "output_type": "execute_result"
    }
   ],
   "source": [
    "df.columns"
   ]
  },
  {
   "cell_type": "code",
   "execution_count": 61,
   "id": "b5496315-d99c-419b-8184-04e4b7749115",
   "metadata": {},
   "outputs": [
    {
     "data": {
      "text/plain": [
       "Index(['A', 'B', 'C', 'D', 'E'], dtype='object')"
      ]
     },
     "execution_count": 61,
     "metadata": {},
     "output_type": "execute_result"
    }
   ],
   "source": [
    "df.index"
   ]
  },
  {
   "cell_type": "code",
   "execution_count": 62,
   "id": "b21d32ce-6746-4063-b6f7-76a27ba16bd0",
   "metadata": {},
   "outputs": [
    {
     "data": {
      "text/html": [
       "<div>\n",
       "<style scoped>\n",
       "    .dataframe tbody tr th:only-of-type {\n",
       "        vertical-align: middle;\n",
       "    }\n",
       "\n",
       "    .dataframe tbody tr th {\n",
       "        vertical-align: top;\n",
       "    }\n",
       "\n",
       "    .dataframe thead th {\n",
       "        text-align: right;\n",
       "    }\n",
       "</style>\n",
       "<table border=\"1\" class=\"dataframe\">\n",
       "  <thead>\n",
       "    <tr style=\"text-align: right;\">\n",
       "      <th></th>\n",
       "      <th>index</th>\n",
       "      <th>W</th>\n",
       "      <th>X</th>\n",
       "      <th>Z</th>\n",
       "    </tr>\n",
       "  </thead>\n",
       "  <tbody>\n",
       "    <tr>\n",
       "      <th>0</th>\n",
       "      <td>A</td>\n",
       "      <td>-1.020020</td>\n",
       "      <td>-0.188938</td>\n",
       "      <td>1.699425</td>\n",
       "    </tr>\n",
       "    <tr>\n",
       "      <th>1</th>\n",
       "      <td>B</td>\n",
       "      <td>-1.700820</td>\n",
       "      <td>-1.365776</td>\n",
       "      <td>0.402300</td>\n",
       "    </tr>\n",
       "    <tr>\n",
       "      <th>2</th>\n",
       "      <td>C</td>\n",
       "      <td>-0.555771</td>\n",
       "      <td>-1.481982</td>\n",
       "      <td>0.428695</td>\n",
       "    </tr>\n",
       "    <tr>\n",
       "      <th>3</th>\n",
       "      <td>D</td>\n",
       "      <td>2.236007</td>\n",
       "      <td>1.088086</td>\n",
       "      <td>0.335742</td>\n",
       "    </tr>\n",
       "    <tr>\n",
       "      <th>4</th>\n",
       "      <td>E</td>\n",
       "      <td>0.118831</td>\n",
       "      <td>-1.440776</td>\n",
       "      <td>0.583541</td>\n",
       "    </tr>\n",
       "  </tbody>\n",
       "</table>\n",
       "</div>"
      ],
      "text/plain": [
       "  index         W         X         Z\n",
       "0     A -1.020020 -0.188938  1.699425\n",
       "1     B -1.700820 -1.365776  0.402300\n",
       "2     C -0.555771 -1.481982  0.428695\n",
       "3     D  2.236007  1.088086  0.335742\n",
       "4     E  0.118831 -1.440776  0.583541"
      ]
     },
     "execution_count": 62,
     "metadata": {},
     "output_type": "execute_result"
    }
   ],
   "source": [
    "# se nao tiver o iloc nao muda nada so um ex dentro do DF\n",
    "df.reset_index()"
   ]
  },
  {
   "cell_type": "code",
   "execution_count": 63,
   "id": "103ecb3b-f592-41c6-a502-7ae9a26ec4b8",
   "metadata": {},
   "outputs": [
    {
     "data": {
      "text/html": [
       "<div>\n",
       "<style scoped>\n",
       "    .dataframe tbody tr th:only-of-type {\n",
       "        vertical-align: middle;\n",
       "    }\n",
       "\n",
       "    .dataframe tbody tr th {\n",
       "        vertical-align: top;\n",
       "    }\n",
       "\n",
       "    .dataframe thead th {\n",
       "        text-align: right;\n",
       "    }\n",
       "</style>\n",
       "<table border=\"1\" class=\"dataframe\">\n",
       "  <thead>\n",
       "    <tr style=\"text-align: right;\">\n",
       "      <th></th>\n",
       "      <th>W</th>\n",
       "      <th>X</th>\n",
       "      <th>Z</th>\n",
       "    </tr>\n",
       "  </thead>\n",
       "  <tbody>\n",
       "    <tr>\n",
       "      <th>A</th>\n",
       "      <td>-1.020020</td>\n",
       "      <td>-0.188938</td>\n",
       "      <td>1.699425</td>\n",
       "    </tr>\n",
       "    <tr>\n",
       "      <th>B</th>\n",
       "      <td>-1.700820</td>\n",
       "      <td>-1.365776</td>\n",
       "      <td>0.402300</td>\n",
       "    </tr>\n",
       "    <tr>\n",
       "      <th>C</th>\n",
       "      <td>-0.555771</td>\n",
       "      <td>-1.481982</td>\n",
       "      <td>0.428695</td>\n",
       "    </tr>\n",
       "    <tr>\n",
       "      <th>D</th>\n",
       "      <td>2.236007</td>\n",
       "      <td>1.088086</td>\n",
       "      <td>0.335742</td>\n",
       "    </tr>\n",
       "    <tr>\n",
       "      <th>E</th>\n",
       "      <td>0.118831</td>\n",
       "      <td>-1.440776</td>\n",
       "      <td>0.583541</td>\n",
       "    </tr>\n",
       "  </tbody>\n",
       "</table>\n",
       "</div>"
      ],
      "text/plain": [
       "          W         X         Z\n",
       "A -1.020020 -0.188938  1.699425\n",
       "B -1.700820 -1.365776  0.402300\n",
       "C -0.555771 -1.481982  0.428695\n",
       "D  2.236007  1.088086  0.335742\n",
       "E  0.118831 -1.440776  0.583541"
      ]
     },
     "execution_count": 63,
     "metadata": {},
     "output_type": "execute_result"
    }
   ],
   "source": [
    "df"
   ]
  },
  {
   "cell_type": "code",
   "execution_count": null,
   "id": "e5553805-540f-4694-a6f3-d9e2f9ef9604",
   "metadata": {},
   "outputs": [],
   "source": [
    "# SE QUISER MUDAR DEFINITIVAMENTE O DF COMANDO\n",
    "#df.reset_index(inplace=True)\n",
    "# mas nao vou mudar o DF"
   ]
  },
  {
   "cell_type": "code",
   "execution_count": 65,
   "id": "09bbbbec-04d3-4a6c-aaa0-4b85c4a55ba3",
   "metadata": {},
   "outputs": [],
   "source": [
    "# mudar o DF\n",
    "df.reset_index(inplace=True)"
   ]
  },
  {
   "cell_type": "code",
   "execution_count": 66,
   "id": "0088a4db-e9e2-4b29-baa5-26b7617ed635",
   "metadata": {},
   "outputs": [
    {
     "data": {
      "text/html": [
       "<div>\n",
       "<style scoped>\n",
       "    .dataframe tbody tr th:only-of-type {\n",
       "        vertical-align: middle;\n",
       "    }\n",
       "\n",
       "    .dataframe tbody tr th {\n",
       "        vertical-align: top;\n",
       "    }\n",
       "\n",
       "    .dataframe thead th {\n",
       "        text-align: right;\n",
       "    }\n",
       "</style>\n",
       "<table border=\"1\" class=\"dataframe\">\n",
       "  <thead>\n",
       "    <tr style=\"text-align: right;\">\n",
       "      <th></th>\n",
       "      <th>index</th>\n",
       "      <th>W</th>\n",
       "      <th>X</th>\n",
       "      <th>Z</th>\n",
       "    </tr>\n",
       "  </thead>\n",
       "  <tbody>\n",
       "    <tr>\n",
       "      <th>0</th>\n",
       "      <td>A</td>\n",
       "      <td>-1.020020</td>\n",
       "      <td>-0.188938</td>\n",
       "      <td>1.699425</td>\n",
       "    </tr>\n",
       "    <tr>\n",
       "      <th>1</th>\n",
       "      <td>B</td>\n",
       "      <td>-1.700820</td>\n",
       "      <td>-1.365776</td>\n",
       "      <td>0.402300</td>\n",
       "    </tr>\n",
       "    <tr>\n",
       "      <th>2</th>\n",
       "      <td>C</td>\n",
       "      <td>-0.555771</td>\n",
       "      <td>-1.481982</td>\n",
       "      <td>0.428695</td>\n",
       "    </tr>\n",
       "    <tr>\n",
       "      <th>3</th>\n",
       "      <td>D</td>\n",
       "      <td>2.236007</td>\n",
       "      <td>1.088086</td>\n",
       "      <td>0.335742</td>\n",
       "    </tr>\n",
       "    <tr>\n",
       "      <th>4</th>\n",
       "      <td>E</td>\n",
       "      <td>0.118831</td>\n",
       "      <td>-1.440776</td>\n",
       "      <td>0.583541</td>\n",
       "    </tr>\n",
       "  </tbody>\n",
       "</table>\n",
       "</div>"
      ],
      "text/plain": [
       "  index         W         X         Z\n",
       "0     A -1.020020 -0.188938  1.699425\n",
       "1     B -1.700820 -1.365776  0.402300\n",
       "2     C -0.555771 -1.481982  0.428695\n",
       "3     D  2.236007  1.088086  0.335742\n",
       "4     E  0.118831 -1.440776  0.583541"
      ]
     },
     "execution_count": 66,
     "metadata": {},
     "output_type": "execute_result"
    }
   ],
   "source": [
    "df"
   ]
  },
  {
   "cell_type": "code",
   "execution_count": 67,
   "id": "3206ddc1-f8cf-4428-9d1b-094ef078e666",
   "metadata": {},
   "outputs": [
    {
     "data": {
      "text/html": [
       "<div>\n",
       "<style scoped>\n",
       "    .dataframe tbody tr th:only-of-type {\n",
       "        vertical-align: middle;\n",
       "    }\n",
       "\n",
       "    .dataframe tbody tr th {\n",
       "        vertical-align: top;\n",
       "    }\n",
       "\n",
       "    .dataframe thead th {\n",
       "        text-align: right;\n",
       "    }\n",
       "</style>\n",
       "<table border=\"1\" class=\"dataframe\">\n",
       "  <thead>\n",
       "    <tr style=\"text-align: right;\">\n",
       "      <th></th>\n",
       "      <th>index</th>\n",
       "      <th>W</th>\n",
       "      <th>X</th>\n",
       "      <th>Z</th>\n",
       "    </tr>\n",
       "  </thead>\n",
       "  <tbody>\n",
       "    <tr>\n",
       "      <th>0</th>\n",
       "      <td>A</td>\n",
       "      <td>-1.020020</td>\n",
       "      <td>-0.188938</td>\n",
       "      <td>1.699425</td>\n",
       "    </tr>\n",
       "    <tr>\n",
       "      <th>1</th>\n",
       "      <td>B</td>\n",
       "      <td>-1.700820</td>\n",
       "      <td>-1.365776</td>\n",
       "      <td>0.402300</td>\n",
       "    </tr>\n",
       "    <tr>\n",
       "      <th>2</th>\n",
       "      <td>C</td>\n",
       "      <td>-0.555771</td>\n",
       "      <td>-1.481982</td>\n",
       "      <td>0.428695</td>\n",
       "    </tr>\n",
       "    <tr>\n",
       "      <th>3</th>\n",
       "      <td>D</td>\n",
       "      <td>2.236007</td>\n",
       "      <td>1.088086</td>\n",
       "      <td>0.335742</td>\n",
       "    </tr>\n",
       "    <tr>\n",
       "      <th>4</th>\n",
       "      <td>E</td>\n",
       "      <td>0.118831</td>\n",
       "      <td>-1.440776</td>\n",
       "      <td>0.583541</td>\n",
       "    </tr>\n",
       "  </tbody>\n",
       "</table>\n",
       "</div>"
      ],
      "text/plain": [
       "  index         W         X         Z\n",
       "0     A -1.020020 -0.188938  1.699425\n",
       "1     B -1.700820 -1.365776  0.402300\n",
       "2     C -0.555771 -1.481982  0.428695\n",
       "3     D  2.236007  1.088086  0.335742\n",
       "4     E  0.118831 -1.440776  0.583541"
      ]
     },
     "execution_count": 67,
     "metadata": {},
     "output_type": "execute_result"
    }
   ],
   "source": [
    "df\n"
   ]
  },
  {
   "cell_type": "code",
   "execution_count": 68,
   "id": "0acb31b6-16e7-4e8f-ac8c-b073aed8bce3",
   "metadata": {},
   "outputs": [],
   "source": [
    "# voltar oque era a DF com comando sem backup\n",
    "df.set_index(\"index\", inplace=True)"
   ]
  },
  {
   "cell_type": "code",
   "execution_count": 69,
   "id": "91daac0f-1d64-42bf-963e-8b4a7d2f6dee",
   "metadata": {},
   "outputs": [
    {
     "data": {
      "text/html": [
       "<div>\n",
       "<style scoped>\n",
       "    .dataframe tbody tr th:only-of-type {\n",
       "        vertical-align: middle;\n",
       "    }\n",
       "\n",
       "    .dataframe tbody tr th {\n",
       "        vertical-align: top;\n",
       "    }\n",
       "\n",
       "    .dataframe thead th {\n",
       "        text-align: right;\n",
       "    }\n",
       "</style>\n",
       "<table border=\"1\" class=\"dataframe\">\n",
       "  <thead>\n",
       "    <tr style=\"text-align: right;\">\n",
       "      <th></th>\n",
       "      <th>W</th>\n",
       "      <th>X</th>\n",
       "      <th>Z</th>\n",
       "    </tr>\n",
       "    <tr>\n",
       "      <th>index</th>\n",
       "      <th></th>\n",
       "      <th></th>\n",
       "      <th></th>\n",
       "    </tr>\n",
       "  </thead>\n",
       "  <tbody>\n",
       "    <tr>\n",
       "      <th>A</th>\n",
       "      <td>-1.020020</td>\n",
       "      <td>-0.188938</td>\n",
       "      <td>1.699425</td>\n",
       "    </tr>\n",
       "    <tr>\n",
       "      <th>B</th>\n",
       "      <td>-1.700820</td>\n",
       "      <td>-1.365776</td>\n",
       "      <td>0.402300</td>\n",
       "    </tr>\n",
       "    <tr>\n",
       "      <th>C</th>\n",
       "      <td>-0.555771</td>\n",
       "      <td>-1.481982</td>\n",
       "      <td>0.428695</td>\n",
       "    </tr>\n",
       "    <tr>\n",
       "      <th>D</th>\n",
       "      <td>2.236007</td>\n",
       "      <td>1.088086</td>\n",
       "      <td>0.335742</td>\n",
       "    </tr>\n",
       "    <tr>\n",
       "      <th>E</th>\n",
       "      <td>0.118831</td>\n",
       "      <td>-1.440776</td>\n",
       "      <td>0.583541</td>\n",
       "    </tr>\n",
       "  </tbody>\n",
       "</table>\n",
       "</div>"
      ],
      "text/plain": [
       "              W         X         Z\n",
       "index                              \n",
       "A     -1.020020 -0.188938  1.699425\n",
       "B     -1.700820 -1.365776  0.402300\n",
       "C     -0.555771 -1.481982  0.428695\n",
       "D      2.236007  1.088086  0.335742\n",
       "E      0.118831 -1.440776  0.583541"
      ]
     },
     "execution_count": 69,
     "metadata": {},
     "output_type": "execute_result"
    }
   ],
   "source": [
    "df"
   ]
  },
  {
   "cell_type": "code",
   "execution_count": 70,
   "id": "a47e783c-ff60-471a-9e31-dfa4db247a08",
   "metadata": {},
   "outputs": [],
   "source": [
    "# criando indices, de strings\n",
    "novoind =  'CA NY WY OR CO'.split()"
   ]
  },
  {
   "cell_type": "code",
   "execution_count": 71,
   "id": "d31cd25a-3bc9-421b-9309-3dc7c131faaa",
   "metadata": {},
   "outputs": [],
   "source": [
    "df[\"novo_index\"] = novoind # add list[]"
   ]
  },
  {
   "cell_type": "code",
   "execution_count": 72,
   "id": "05dd85f9-1ac8-42f2-8baa-dbb99caa56d7",
   "metadata": {},
   "outputs": [
    {
     "data": {
      "text/html": [
       "<div>\n",
       "<style scoped>\n",
       "    .dataframe tbody tr th:only-of-type {\n",
       "        vertical-align: middle;\n",
       "    }\n",
       "\n",
       "    .dataframe tbody tr th {\n",
       "        vertical-align: top;\n",
       "    }\n",
       "\n",
       "    .dataframe thead th {\n",
       "        text-align: right;\n",
       "    }\n",
       "</style>\n",
       "<table border=\"1\" class=\"dataframe\">\n",
       "  <thead>\n",
       "    <tr style=\"text-align: right;\">\n",
       "      <th></th>\n",
       "      <th>W</th>\n",
       "      <th>X</th>\n",
       "      <th>Z</th>\n",
       "      <th>novo_index</th>\n",
       "    </tr>\n",
       "    <tr>\n",
       "      <th>index</th>\n",
       "      <th></th>\n",
       "      <th></th>\n",
       "      <th></th>\n",
       "      <th></th>\n",
       "    </tr>\n",
       "  </thead>\n",
       "  <tbody>\n",
       "    <tr>\n",
       "      <th>A</th>\n",
       "      <td>-1.020020</td>\n",
       "      <td>-0.188938</td>\n",
       "      <td>1.699425</td>\n",
       "      <td>CA</td>\n",
       "    </tr>\n",
       "    <tr>\n",
       "      <th>B</th>\n",
       "      <td>-1.700820</td>\n",
       "      <td>-1.365776</td>\n",
       "      <td>0.402300</td>\n",
       "      <td>NY</td>\n",
       "    </tr>\n",
       "    <tr>\n",
       "      <th>C</th>\n",
       "      <td>-0.555771</td>\n",
       "      <td>-1.481982</td>\n",
       "      <td>0.428695</td>\n",
       "      <td>WY</td>\n",
       "    </tr>\n",
       "    <tr>\n",
       "      <th>D</th>\n",
       "      <td>2.236007</td>\n",
       "      <td>1.088086</td>\n",
       "      <td>0.335742</td>\n",
       "      <td>OR</td>\n",
       "    </tr>\n",
       "    <tr>\n",
       "      <th>E</th>\n",
       "      <td>0.118831</td>\n",
       "      <td>-1.440776</td>\n",
       "      <td>0.583541</td>\n",
       "      <td>CO</td>\n",
       "    </tr>\n",
       "  </tbody>\n",
       "</table>\n",
       "</div>"
      ],
      "text/plain": [
       "              W         X         Z novo_index\n",
       "index                                         \n",
       "A     -1.020020 -0.188938  1.699425         CA\n",
       "B     -1.700820 -1.365776  0.402300         NY\n",
       "C     -0.555771 -1.481982  0.428695         WY\n",
       "D      2.236007  1.088086  0.335742         OR\n",
       "E      0.118831 -1.440776  0.583541         CO"
      ]
     },
     "execution_count": 72,
     "metadata": {},
     "output_type": "execute_result"
    }
   ],
   "source": [
    "df"
   ]
  },
  {
   "cell_type": "code",
   "execution_count": 74,
   "id": "4e709aef-4bf2-4896-8c05-62c86bef0a05",
   "metadata": {},
   "outputs": [],
   "source": [
    "df[\"novo_index\"] = novoind"
   ]
  },
  {
   "cell_type": "code",
   "execution_count": 75,
   "id": "7c89c249-09e5-4da0-885c-073593b231f6",
   "metadata": {},
   "outputs": [
    {
     "data": {
      "text/html": [
       "<div>\n",
       "<style scoped>\n",
       "    .dataframe tbody tr th:only-of-type {\n",
       "        vertical-align: middle;\n",
       "    }\n",
       "\n",
       "    .dataframe tbody tr th {\n",
       "        vertical-align: top;\n",
       "    }\n",
       "\n",
       "    .dataframe thead th {\n",
       "        text-align: right;\n",
       "    }\n",
       "</style>\n",
       "<table border=\"1\" class=\"dataframe\">\n",
       "  <thead>\n",
       "    <tr style=\"text-align: right;\">\n",
       "      <th></th>\n",
       "      <th>W</th>\n",
       "      <th>X</th>\n",
       "      <th>Z</th>\n",
       "    </tr>\n",
       "    <tr>\n",
       "      <th>novo_index</th>\n",
       "      <th></th>\n",
       "      <th></th>\n",
       "      <th></th>\n",
       "    </tr>\n",
       "  </thead>\n",
       "  <tbody>\n",
       "    <tr>\n",
       "      <th>CA</th>\n",
       "      <td>-1.020020</td>\n",
       "      <td>-0.188938</td>\n",
       "      <td>1.699425</td>\n",
       "    </tr>\n",
       "    <tr>\n",
       "      <th>NY</th>\n",
       "      <td>-1.700820</td>\n",
       "      <td>-1.365776</td>\n",
       "      <td>0.402300</td>\n",
       "    </tr>\n",
       "    <tr>\n",
       "      <th>WY</th>\n",
       "      <td>-0.555771</td>\n",
       "      <td>-1.481982</td>\n",
       "      <td>0.428695</td>\n",
       "    </tr>\n",
       "    <tr>\n",
       "      <th>OR</th>\n",
       "      <td>2.236007</td>\n",
       "      <td>1.088086</td>\n",
       "      <td>0.335742</td>\n",
       "    </tr>\n",
       "    <tr>\n",
       "      <th>CO</th>\n",
       "      <td>0.118831</td>\n",
       "      <td>-1.440776</td>\n",
       "      <td>0.583541</td>\n",
       "    </tr>\n",
       "  </tbody>\n",
       "</table>\n",
       "</div>"
      ],
      "text/plain": [
       "                   W         X         Z\n",
       "novo_index                              \n",
       "CA         -1.020020 -0.188938  1.699425\n",
       "NY         -1.700820 -1.365776  0.402300\n",
       "WY         -0.555771 -1.481982  0.428695\n",
       "OR          2.236007  1.088086  0.335742\n",
       "CO          0.118831 -1.440776  0.583541"
      ]
     },
     "execution_count": 75,
     "metadata": {},
     "output_type": "execute_result"
    }
   ],
   "source": [
    "df.set_index(\"novo_index\")"
   ]
  },
  {
   "cell_type": "code",
   "execution_count": 76,
   "id": "7710f59b-38a0-424b-afba-56981593a9c7",
   "metadata": {},
   "outputs": [
    {
     "data": {
      "text/html": [
       "<div>\n",
       "<style scoped>\n",
       "    .dataframe tbody tr th:only-of-type {\n",
       "        vertical-align: middle;\n",
       "    }\n",
       "\n",
       "    .dataframe tbody tr th {\n",
       "        vertical-align: top;\n",
       "    }\n",
       "\n",
       "    .dataframe thead th {\n",
       "        text-align: right;\n",
       "    }\n",
       "</style>\n",
       "<table border=\"1\" class=\"dataframe\">\n",
       "  <thead>\n",
       "    <tr style=\"text-align: right;\">\n",
       "      <th></th>\n",
       "      <th>W</th>\n",
       "      <th>X</th>\n",
       "      <th>Z</th>\n",
       "      <th>novo_index</th>\n",
       "    </tr>\n",
       "    <tr>\n",
       "      <th>index</th>\n",
       "      <th></th>\n",
       "      <th></th>\n",
       "      <th></th>\n",
       "      <th></th>\n",
       "    </tr>\n",
       "  </thead>\n",
       "  <tbody>\n",
       "    <tr>\n",
       "      <th>A</th>\n",
       "      <td>-1.020020</td>\n",
       "      <td>-0.188938</td>\n",
       "      <td>1.699425</td>\n",
       "      <td>CA</td>\n",
       "    </tr>\n",
       "    <tr>\n",
       "      <th>B</th>\n",
       "      <td>-1.700820</td>\n",
       "      <td>-1.365776</td>\n",
       "      <td>0.402300</td>\n",
       "      <td>NY</td>\n",
       "    </tr>\n",
       "    <tr>\n",
       "      <th>C</th>\n",
       "      <td>-0.555771</td>\n",
       "      <td>-1.481982</td>\n",
       "      <td>0.428695</td>\n",
       "      <td>WY</td>\n",
       "    </tr>\n",
       "    <tr>\n",
       "      <th>D</th>\n",
       "      <td>2.236007</td>\n",
       "      <td>1.088086</td>\n",
       "      <td>0.335742</td>\n",
       "      <td>OR</td>\n",
       "    </tr>\n",
       "    <tr>\n",
       "      <th>E</th>\n",
       "      <td>0.118831</td>\n",
       "      <td>-1.440776</td>\n",
       "      <td>0.583541</td>\n",
       "      <td>CO</td>\n",
       "    </tr>\n",
       "  </tbody>\n",
       "</table>\n",
       "</div>"
      ],
      "text/plain": [
       "              W         X         Z novo_index\n",
       "index                                         \n",
       "A     -1.020020 -0.188938  1.699425         CA\n",
       "B     -1.700820 -1.365776  0.402300         NY\n",
       "C     -0.555771 -1.481982  0.428695         WY\n",
       "D      2.236007  1.088086  0.335742         OR\n",
       "E      0.118831 -1.440776  0.583541         CO"
      ]
     },
     "execution_count": 76,
     "metadata": {},
     "output_type": "execute_result"
    }
   ],
   "source": [
    "df"
   ]
  },
  {
   "cell_type": "code",
   "execution_count": 77,
   "id": "dca51b31-0622-4719-b8b6-ad1126cf5adc",
   "metadata": {},
   "outputs": [
    {
     "data": {
      "text/html": [
       "<div>\n",
       "<style scoped>\n",
       "    .dataframe tbody tr th:only-of-type {\n",
       "        vertical-align: middle;\n",
       "    }\n",
       "\n",
       "    .dataframe tbody tr th {\n",
       "        vertical-align: top;\n",
       "    }\n",
       "\n",
       "    .dataframe thead th {\n",
       "        text-align: right;\n",
       "    }\n",
       "</style>\n",
       "<table border=\"1\" class=\"dataframe\">\n",
       "  <thead>\n",
       "    <tr style=\"text-align: right;\">\n",
       "      <th></th>\n",
       "      <th>index</th>\n",
       "      <th>W</th>\n",
       "      <th>X</th>\n",
       "      <th>Z</th>\n",
       "    </tr>\n",
       "    <tr>\n",
       "      <th>novo_index</th>\n",
       "      <th></th>\n",
       "      <th></th>\n",
       "      <th></th>\n",
       "      <th></th>\n",
       "    </tr>\n",
       "  </thead>\n",
       "  <tbody>\n",
       "    <tr>\n",
       "      <th>CA</th>\n",
       "      <td>A</td>\n",
       "      <td>-1.020020</td>\n",
       "      <td>-0.188938</td>\n",
       "      <td>1.699425</td>\n",
       "    </tr>\n",
       "    <tr>\n",
       "      <th>NY</th>\n",
       "      <td>B</td>\n",
       "      <td>-1.700820</td>\n",
       "      <td>-1.365776</td>\n",
       "      <td>0.402300</td>\n",
       "    </tr>\n",
       "    <tr>\n",
       "      <th>WY</th>\n",
       "      <td>C</td>\n",
       "      <td>-0.555771</td>\n",
       "      <td>-1.481982</td>\n",
       "      <td>0.428695</td>\n",
       "    </tr>\n",
       "    <tr>\n",
       "      <th>OR</th>\n",
       "      <td>D</td>\n",
       "      <td>2.236007</td>\n",
       "      <td>1.088086</td>\n",
       "      <td>0.335742</td>\n",
       "    </tr>\n",
       "    <tr>\n",
       "      <th>CO</th>\n",
       "      <td>E</td>\n",
       "      <td>0.118831</td>\n",
       "      <td>-1.440776</td>\n",
       "      <td>0.583541</td>\n",
       "    </tr>\n",
       "  </tbody>\n",
       "</table>\n",
       "</div>"
      ],
      "text/plain": [
       "           index         W         X         Z\n",
       "novo_index                                    \n",
       "CA             A -1.020020 -0.188938  1.699425\n",
       "NY             B -1.700820 -1.365776  0.402300\n",
       "WY             C -0.555771 -1.481982  0.428695\n",
       "OR             D  2.236007  1.088086  0.335742\n",
       "CO             E  0.118831 -1.440776  0.583541"
      ]
     },
     "execution_count": 77,
     "metadata": {},
     "output_type": "execute_result"
    }
   ],
   "source": [
    "df.reset_index().set_index(\"novo_index\")"
   ]
  },
  {
   "cell_type": "code",
   "execution_count": 78,
   "id": "3eb19738-6811-4f42-9d83-849cd3b3c993",
   "metadata": {},
   "outputs": [
    {
     "data": {
      "text/html": [
       "<div>\n",
       "<style scoped>\n",
       "    .dataframe tbody tr th:only-of-type {\n",
       "        vertical-align: middle;\n",
       "    }\n",
       "\n",
       "    .dataframe tbody tr th {\n",
       "        vertical-align: top;\n",
       "    }\n",
       "\n",
       "    .dataframe thead th {\n",
       "        text-align: right;\n",
       "    }\n",
       "</style>\n",
       "<table border=\"1\" class=\"dataframe\">\n",
       "  <thead>\n",
       "    <tr style=\"text-align: right;\">\n",
       "      <th></th>\n",
       "      <th>W</th>\n",
       "      <th>X</th>\n",
       "      <th>Z</th>\n",
       "      <th>novo_index</th>\n",
       "    </tr>\n",
       "    <tr>\n",
       "      <th>index</th>\n",
       "      <th></th>\n",
       "      <th></th>\n",
       "      <th></th>\n",
       "      <th></th>\n",
       "    </tr>\n",
       "  </thead>\n",
       "  <tbody>\n",
       "    <tr>\n",
       "      <th>A</th>\n",
       "      <td>-1.020020</td>\n",
       "      <td>-0.188938</td>\n",
       "      <td>1.699425</td>\n",
       "      <td>CA</td>\n",
       "    </tr>\n",
       "    <tr>\n",
       "      <th>B</th>\n",
       "      <td>-1.700820</td>\n",
       "      <td>-1.365776</td>\n",
       "      <td>0.402300</td>\n",
       "      <td>NY</td>\n",
       "    </tr>\n",
       "    <tr>\n",
       "      <th>C</th>\n",
       "      <td>-0.555771</td>\n",
       "      <td>-1.481982</td>\n",
       "      <td>0.428695</td>\n",
       "      <td>WY</td>\n",
       "    </tr>\n",
       "    <tr>\n",
       "      <th>D</th>\n",
       "      <td>2.236007</td>\n",
       "      <td>1.088086</td>\n",
       "      <td>0.335742</td>\n",
       "      <td>OR</td>\n",
       "    </tr>\n",
       "    <tr>\n",
       "      <th>E</th>\n",
       "      <td>0.118831</td>\n",
       "      <td>-1.440776</td>\n",
       "      <td>0.583541</td>\n",
       "      <td>CO</td>\n",
       "    </tr>\n",
       "  </tbody>\n",
       "</table>\n",
       "</div>"
      ],
      "text/plain": [
       "              W         X         Z novo_index\n",
       "index                                         \n",
       "A     -1.020020 -0.188938  1.699425         CA\n",
       "B     -1.700820 -1.365776  0.402300         NY\n",
       "C     -0.555771 -1.481982  0.428695         WY\n",
       "D      2.236007  1.088086  0.335742         OR\n",
       "E      0.118831 -1.440776  0.583541         CO"
      ]
     },
     "execution_count": 78,
     "metadata": {},
     "output_type": "execute_result"
    }
   ],
   "source": [
    "df"
   ]
  },
  {
   "cell_type": "code",
   "execution_count": null,
   "id": "66666c5b-e3e2-476d-8ac3-e730744c47ea",
   "metadata": {},
   "outputs": [],
   "source": []
  }
 ],
 "metadata": {
  "kernelspec": {
   "display_name": "Python 3 (ipykernel)",
   "language": "python",
   "name": "python3"
  },
  "language_info": {
   "codemirror_mode": {
    "name": "ipython",
    "version": 3
   },
   "file_extension": ".py",
   "mimetype": "text/x-python",
   "name": "python",
   "nbconvert_exporter": "python",
   "pygments_lexer": "ipython3",
   "version": "3.13.0"
  }
 },
 "nbformat": 4,
 "nbformat_minor": 5
}
